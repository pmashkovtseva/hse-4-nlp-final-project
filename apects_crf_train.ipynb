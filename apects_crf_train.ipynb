{
  "cells": [
    {
      "cell_type": "markdown",
      "source": [
        "## 1. Приведение разметки к формату BIO"
      ],
      "metadata": {
        "id": "WmRfN1X82-NP"
      },
      "id": "WmRfN1X82-NP"
    },
    {
      "cell_type": "code",
      "execution_count": null,
      "id": "d7e7182d",
      "metadata": {
        "id": "d7e7182d"
      },
      "outputs": [],
      "source": [
        "import pandas as pd"
      ]
    },
    {
      "cell_type": "code",
      "execution_count": null,
      "id": "f820704e",
      "metadata": {
        "colab": {
          "base_uri": "https://localhost:8080/"
        },
        "id": "f820704e",
        "outputId": "f586e26c-dd98-41ad-8298-f063d00fd4f7"
      },
      "outputs": [
        {
          "output_type": "stream",
          "name": "stdout",
          "text": [
            "--2022-12-29 00:34:57--  https://github.com/named-entity/hse-nlp/raw/master/4th_year/Project/train_aspects.txt\n",
            "Resolving github.com (github.com)... 192.30.255.112\n",
            "Connecting to github.com (github.com)|192.30.255.112|:443... connected.\n",
            "HTTP request sent, awaiting response... 302 Found\n",
            "Location: https://raw.githubusercontent.com/named-entity/hse-nlp/master/4th_year/Project/train_aspects.txt [following]\n",
            "--2022-12-29 00:34:57--  https://raw.githubusercontent.com/named-entity/hse-nlp/master/4th_year/Project/train_aspects.txt\n",
            "Resolving raw.githubusercontent.com (raw.githubusercontent.com)... 185.199.108.133, 185.199.109.133, 185.199.110.133, ...\n",
            "Connecting to raw.githubusercontent.com (raw.githubusercontent.com)|185.199.108.133|:443... connected.\n",
            "HTTP request sent, awaiting response... 200 OK\n",
            "Length: 228391 (223K) [text/plain]\n",
            "Saving to: ‘train_aspects.txt.2’\n",
            "\n",
            "train_aspects.txt.2 100%[===================>] 223.04K  --.-KB/s    in 0.02s   \n",
            "\n",
            "2022-12-29 00:34:57 (12.3 MB/s) - ‘train_aspects.txt.2’ saved [228391/228391]\n",
            "\n",
            "--2022-12-29 00:34:57--  https://github.com/named-entity/hse-nlp/raw/master/4th_year/Project/train_reviews.txt\n",
            "Resolving github.com (github.com)... 192.30.255.113\n",
            "Connecting to github.com (github.com)|192.30.255.113|:443... connected.\n",
            "HTTP request sent, awaiting response... 302 Found\n",
            "Location: https://raw.githubusercontent.com/named-entity/hse-nlp/master/4th_year/Project/train_reviews.txt [following]\n",
            "--2022-12-29 00:34:58--  https://raw.githubusercontent.com/named-entity/hse-nlp/master/4th_year/Project/train_reviews.txt\n",
            "Resolving raw.githubusercontent.com (raw.githubusercontent.com)... 185.199.110.133, 185.199.111.133, 185.199.109.133, ...\n",
            "Connecting to raw.githubusercontent.com (raw.githubusercontent.com)|185.199.110.133|:443... connected.\n",
            "HTTP request sent, awaiting response... 200 OK\n",
            "Length: 446118 (436K) [text/plain]\n",
            "Saving to: ‘train_reviews.txt.2’\n",
            "\n",
            "train_reviews.txt.2 100%[===================>] 435.66K  --.-KB/s    in 0.02s   \n",
            "\n",
            "2022-12-29 00:34:58 (19.1 MB/s) - ‘train_reviews.txt.2’ saved [446118/446118]\n",
            "\n"
          ]
        }
      ],
      "source": [
        "!wget https://github.com/named-entity/hse-nlp/raw/master/4th_year/Project/train_aspects.txt\n",
        "!wget https://github.com/named-entity/hse-nlp/raw/master/4th_year/Project/train_reviews.txt"
      ]
    },
    {
      "cell_type": "code",
      "execution_count": null,
      "id": "3bbf3c64",
      "metadata": {
        "id": "3bbf3c64"
      },
      "outputs": [],
      "source": [
        "train_aspects = pd.read_csv('train_aspects.txt', delimiter='\\t', names=['text_id', 'category', 'mention', 'start', 'end', 'sentiment'])"
      ]
    },
    {
      "cell_type": "code",
      "execution_count": null,
      "id": "17e3f517",
      "metadata": {
        "colab": {
          "base_uri": "https://localhost:8080/",
          "height": 206
        },
        "id": "17e3f517",
        "outputId": "111e23c3-e616-49f2-ad7b-0bed2824a62f"
      },
      "outputs": [
        {
          "output_type": "execute_result",
          "data": {
            "text/plain": [
              "   text_id category             mention  start  end sentiment\n",
              "0     3976    Whole           ресторане     71   80   neutral\n",
              "1     3976    Whole          ресторанах    198  208   neutral\n",
              "2     3976    Whole           ресторане    256  265   neutral\n",
              "3     3976  Service  Столик бронировали    267  285   neutral\n",
              "4     3976  Service       администратор    322  335  positive"
            ],
            "text/html": [
              "\n",
              "  <div id=\"df-630775f8-3dee-4b6c-85f8-28183e063ddc\">\n",
              "    <div class=\"colab-df-container\">\n",
              "      <div>\n",
              "<style scoped>\n",
              "    .dataframe tbody tr th:only-of-type {\n",
              "        vertical-align: middle;\n",
              "    }\n",
              "\n",
              "    .dataframe tbody tr th {\n",
              "        vertical-align: top;\n",
              "    }\n",
              "\n",
              "    .dataframe thead th {\n",
              "        text-align: right;\n",
              "    }\n",
              "</style>\n",
              "<table border=\"1\" class=\"dataframe\">\n",
              "  <thead>\n",
              "    <tr style=\"text-align: right;\">\n",
              "      <th></th>\n",
              "      <th>text_id</th>\n",
              "      <th>category</th>\n",
              "      <th>mention</th>\n",
              "      <th>start</th>\n",
              "      <th>end</th>\n",
              "      <th>sentiment</th>\n",
              "    </tr>\n",
              "  </thead>\n",
              "  <tbody>\n",
              "    <tr>\n",
              "      <th>0</th>\n",
              "      <td>3976</td>\n",
              "      <td>Whole</td>\n",
              "      <td>ресторане</td>\n",
              "      <td>71</td>\n",
              "      <td>80</td>\n",
              "      <td>neutral</td>\n",
              "    </tr>\n",
              "    <tr>\n",
              "      <th>1</th>\n",
              "      <td>3976</td>\n",
              "      <td>Whole</td>\n",
              "      <td>ресторанах</td>\n",
              "      <td>198</td>\n",
              "      <td>208</td>\n",
              "      <td>neutral</td>\n",
              "    </tr>\n",
              "    <tr>\n",
              "      <th>2</th>\n",
              "      <td>3976</td>\n",
              "      <td>Whole</td>\n",
              "      <td>ресторане</td>\n",
              "      <td>256</td>\n",
              "      <td>265</td>\n",
              "      <td>neutral</td>\n",
              "    </tr>\n",
              "    <tr>\n",
              "      <th>3</th>\n",
              "      <td>3976</td>\n",
              "      <td>Service</td>\n",
              "      <td>Столик бронировали</td>\n",
              "      <td>267</td>\n",
              "      <td>285</td>\n",
              "      <td>neutral</td>\n",
              "    </tr>\n",
              "    <tr>\n",
              "      <th>4</th>\n",
              "      <td>3976</td>\n",
              "      <td>Service</td>\n",
              "      <td>администратор</td>\n",
              "      <td>322</td>\n",
              "      <td>335</td>\n",
              "      <td>positive</td>\n",
              "    </tr>\n",
              "  </tbody>\n",
              "</table>\n",
              "</div>\n",
              "      <button class=\"colab-df-convert\" onclick=\"convertToInteractive('df-630775f8-3dee-4b6c-85f8-28183e063ddc')\"\n",
              "              title=\"Convert this dataframe to an interactive table.\"\n",
              "              style=\"display:none;\">\n",
              "        \n",
              "  <svg xmlns=\"http://www.w3.org/2000/svg\" height=\"24px\"viewBox=\"0 0 24 24\"\n",
              "       width=\"24px\">\n",
              "    <path d=\"M0 0h24v24H0V0z\" fill=\"none\"/>\n",
              "    <path d=\"M18.56 5.44l.94 2.06.94-2.06 2.06-.94-2.06-.94-.94-2.06-.94 2.06-2.06.94zm-11 1L8.5 8.5l.94-2.06 2.06-.94-2.06-.94L8.5 2.5l-.94 2.06-2.06.94zm10 10l.94 2.06.94-2.06 2.06-.94-2.06-.94-.94-2.06-.94 2.06-2.06.94z\"/><path d=\"M17.41 7.96l-1.37-1.37c-.4-.4-.92-.59-1.43-.59-.52 0-1.04.2-1.43.59L10.3 9.45l-7.72 7.72c-.78.78-.78 2.05 0 2.83L4 21.41c.39.39.9.59 1.41.59.51 0 1.02-.2 1.41-.59l7.78-7.78 2.81-2.81c.8-.78.8-2.07 0-2.86zM5.41 20L4 18.59l7.72-7.72 1.47 1.35L5.41 20z\"/>\n",
              "  </svg>\n",
              "      </button>\n",
              "      \n",
              "  <style>\n",
              "    .colab-df-container {\n",
              "      display:flex;\n",
              "      flex-wrap:wrap;\n",
              "      gap: 12px;\n",
              "    }\n",
              "\n",
              "    .colab-df-convert {\n",
              "      background-color: #E8F0FE;\n",
              "      border: none;\n",
              "      border-radius: 50%;\n",
              "      cursor: pointer;\n",
              "      display: none;\n",
              "      fill: #1967D2;\n",
              "      height: 32px;\n",
              "      padding: 0 0 0 0;\n",
              "      width: 32px;\n",
              "    }\n",
              "\n",
              "    .colab-df-convert:hover {\n",
              "      background-color: #E2EBFA;\n",
              "      box-shadow: 0px 1px 2px rgba(60, 64, 67, 0.3), 0px 1px 3px 1px rgba(60, 64, 67, 0.15);\n",
              "      fill: #174EA6;\n",
              "    }\n",
              "\n",
              "    [theme=dark] .colab-df-convert {\n",
              "      background-color: #3B4455;\n",
              "      fill: #D2E3FC;\n",
              "    }\n",
              "\n",
              "    [theme=dark] .colab-df-convert:hover {\n",
              "      background-color: #434B5C;\n",
              "      box-shadow: 0px 1px 3px 1px rgba(0, 0, 0, 0.15);\n",
              "      filter: drop-shadow(0px 1px 2px rgba(0, 0, 0, 0.3));\n",
              "      fill: #FFFFFF;\n",
              "    }\n",
              "  </style>\n",
              "\n",
              "      <script>\n",
              "        const buttonEl =\n",
              "          document.querySelector('#df-630775f8-3dee-4b6c-85f8-28183e063ddc button.colab-df-convert');\n",
              "        buttonEl.style.display =\n",
              "          google.colab.kernel.accessAllowed ? 'block' : 'none';\n",
              "\n",
              "        async function convertToInteractive(key) {\n",
              "          const element = document.querySelector('#df-630775f8-3dee-4b6c-85f8-28183e063ddc');\n",
              "          const dataTable =\n",
              "            await google.colab.kernel.invokeFunction('convertToInteractive',\n",
              "                                                     [key], {});\n",
              "          if (!dataTable) return;\n",
              "\n",
              "          const docLinkHtml = 'Like what you see? Visit the ' +\n",
              "            '<a target=\"_blank\" href=https://colab.research.google.com/notebooks/data_table.ipynb>data table notebook</a>'\n",
              "            + ' to learn more about interactive tables.';\n",
              "          element.innerHTML = '';\n",
              "          dataTable['output_type'] = 'display_data';\n",
              "          await google.colab.output.renderOutput(dataTable, element);\n",
              "          const docLink = document.createElement('div');\n",
              "          docLink.innerHTML = docLinkHtml;\n",
              "          element.appendChild(docLink);\n",
              "        }\n",
              "      </script>\n",
              "    </div>\n",
              "  </div>\n",
              "  "
            ]
          },
          "metadata": {},
          "execution_count": 4
        }
      ],
      "source": [
        "train_aspects.head()"
      ]
    },
    {
      "cell_type": "code",
      "execution_count": null,
      "id": "65f3e815",
      "metadata": {
        "colab": {
          "base_uri": "https://localhost:8080/"
        },
        "id": "65f3e815",
        "outputId": "3110af33-485e-4543-d296-5569b9d0ba75"
      },
      "outputs": [
        {
          "output_type": "execute_result",
          "data": {
            "text/plain": [
              "(4763, 6)"
            ]
          },
          "metadata": {},
          "execution_count": 5
        }
      ],
      "source": [
        "train_aspects.shape"
      ]
    },
    {
      "cell_type": "code",
      "execution_count": null,
      "id": "246ca0b4",
      "metadata": {
        "id": "246ca0b4"
      },
      "outputs": [],
      "source": [
        "mentions_info = []\n",
        "for row in train_aspects.itertuples():\n",
        "    if len(row.mention.split()) == 1:\n",
        "         mentions_info.append({'text_id': row.text_id, 'mention': row.mention, 'category': 'B-' + row.category, 'sentiment': row.sentiment})\n",
        "    else:\n",
        "        mentions_info.append({'text_id': row.text_id, 'mention': row.mention.split()[0], 'category': 'B-' + row.category, 'sentiment': row.sentiment})\n",
        "        for i in range(1, len(row.mention.split())):\n",
        "            mentions_info.append({'text_id': row.text_id, 'mention': row.mention.split()[i], 'category': 'I-' + row.category, 'sentiment': row.sentiment})"
      ]
    },
    {
      "cell_type": "code",
      "execution_count": null,
      "id": "a38de507",
      "metadata": {
        "colab": {
          "base_uri": "https://localhost:8080/"
        },
        "id": "a38de507",
        "outputId": "00f6d6ad-ca95-42f5-aee5-14453df5046d"
      },
      "outputs": [
        {
          "output_type": "execute_result",
          "data": {
            "text/plain": [
              "6229"
            ]
          },
          "metadata": {},
          "execution_count": 7
        }
      ],
      "source": [
        "len(mentions_info)"
      ]
    },
    {
      "cell_type": "code",
      "execution_count": null,
      "id": "8af6cfec",
      "metadata": {
        "colab": {
          "base_uri": "https://localhost:8080/"
        },
        "id": "8af6cfec",
        "outputId": "0535644b-8ff6-4469-e649-05b084e0ddc9"
      },
      "outputs": [
        {
          "output_type": "execute_result",
          "data": {
            "text/plain": [
              "[{'text_id': 3976,\n",
              "  'mention': 'ресторане',\n",
              "  'category': 'B-Whole',\n",
              "  'sentiment': 'neutral'},\n",
              " {'text_id': 3976,\n",
              "  'mention': 'ресторанах',\n",
              "  'category': 'B-Whole',\n",
              "  'sentiment': 'neutral'},\n",
              " {'text_id': 3976,\n",
              "  'mention': 'ресторане',\n",
              "  'category': 'B-Whole',\n",
              "  'sentiment': 'neutral'},\n",
              " {'text_id': 3976,\n",
              "  'mention': 'Столик',\n",
              "  'category': 'B-Service',\n",
              "  'sentiment': 'neutral'},\n",
              " {'text_id': 3976,\n",
              "  'mention': 'бронировали',\n",
              "  'category': 'I-Service',\n",
              "  'sentiment': 'neutral'},\n",
              " {'text_id': 3976,\n",
              "  'mention': 'администратор',\n",
              "  'category': 'B-Service',\n",
              "  'sentiment': 'positive'},\n",
              " {'text_id': 3976,\n",
              "  'mention': 'предварительный',\n",
              "  'category': 'B-Service',\n",
              "  'sentiment': 'positive'},\n",
              " {'text_id': 3976,\n",
              "  'mention': 'заказ',\n",
              "  'category': 'I-Service',\n",
              "  'sentiment': 'positive'},\n",
              " {'text_id': 3976,\n",
              "  'mention': 'ресторан',\n",
              "  'category': 'B-Whole',\n",
              "  'sentiment': 'neutral'},\n",
              " {'text_id': 3976,\n",
              "  'mention': 'ресторане',\n",
              "  'category': 'B-Whole',\n",
              "  'sentiment': 'neutral'}]"
            ]
          },
          "metadata": {},
          "execution_count": 8
        }
      ],
      "source": [
        "mentions_info[:10]"
      ]
    },
    {
      "cell_type": "code",
      "execution_count": null,
      "id": "79205ad9",
      "metadata": {
        "id": "79205ad9"
      },
      "outputs": [],
      "source": [
        "train_texts = pd.read_csv('train_reviews.txt', delimiter='\\t', names=['text_id','text'])"
      ]
    },
    {
      "cell_type": "code",
      "execution_count": null,
      "id": "ce4eecfb",
      "metadata": {
        "colab": {
          "base_uri": "https://localhost:8080/",
          "height": 206
        },
        "id": "ce4eecfb",
        "outputId": "98418532-43e4-4427-d7d5-1a6c87ce5118"
      },
      "outputs": [
        {
          "output_type": "execute_result",
          "data": {
            "text/plain": [
              "   text_id                                               text\n",
              "0     3976  День 8-го марта прошёл, можно и итоги подвести...\n",
              "1    30808  Отмечали в этом ресторане день рождение на пер...\n",
              "2    14031  Хочу поделиться своим впечатлением от посещени...\n",
              "3     2495  Добрый день! Были вчера с друзьями в этом кафе...\n",
              "4    38835  Отметили с мужем годовщину свадьбы 6 ноября в ..."
            ],
            "text/html": [
              "\n",
              "  <div id=\"df-9bff7a89-a994-49d7-bea1-aa6e36c51f6f\">\n",
              "    <div class=\"colab-df-container\">\n",
              "      <div>\n",
              "<style scoped>\n",
              "    .dataframe tbody tr th:only-of-type {\n",
              "        vertical-align: middle;\n",
              "    }\n",
              "\n",
              "    .dataframe tbody tr th {\n",
              "        vertical-align: top;\n",
              "    }\n",
              "\n",
              "    .dataframe thead th {\n",
              "        text-align: right;\n",
              "    }\n",
              "</style>\n",
              "<table border=\"1\" class=\"dataframe\">\n",
              "  <thead>\n",
              "    <tr style=\"text-align: right;\">\n",
              "      <th></th>\n",
              "      <th>text_id</th>\n",
              "      <th>text</th>\n",
              "    </tr>\n",
              "  </thead>\n",
              "  <tbody>\n",
              "    <tr>\n",
              "      <th>0</th>\n",
              "      <td>3976</td>\n",
              "      <td>День 8-го марта прошёл, можно и итоги подвести...</td>\n",
              "    </tr>\n",
              "    <tr>\n",
              "      <th>1</th>\n",
              "      <td>30808</td>\n",
              "      <td>Отмечали в этом ресторане день рождение на пер...</td>\n",
              "    </tr>\n",
              "    <tr>\n",
              "      <th>2</th>\n",
              "      <td>14031</td>\n",
              "      <td>Хочу поделиться своим впечатлением от посещени...</td>\n",
              "    </tr>\n",
              "    <tr>\n",
              "      <th>3</th>\n",
              "      <td>2495</td>\n",
              "      <td>Добрый день! Были вчера с друзьями в этом кафе...</td>\n",
              "    </tr>\n",
              "    <tr>\n",
              "      <th>4</th>\n",
              "      <td>38835</td>\n",
              "      <td>Отметили с мужем годовщину свадьбы 6 ноября в ...</td>\n",
              "    </tr>\n",
              "  </tbody>\n",
              "</table>\n",
              "</div>\n",
              "      <button class=\"colab-df-convert\" onclick=\"convertToInteractive('df-9bff7a89-a994-49d7-bea1-aa6e36c51f6f')\"\n",
              "              title=\"Convert this dataframe to an interactive table.\"\n",
              "              style=\"display:none;\">\n",
              "        \n",
              "  <svg xmlns=\"http://www.w3.org/2000/svg\" height=\"24px\"viewBox=\"0 0 24 24\"\n",
              "       width=\"24px\">\n",
              "    <path d=\"M0 0h24v24H0V0z\" fill=\"none\"/>\n",
              "    <path d=\"M18.56 5.44l.94 2.06.94-2.06 2.06-.94-2.06-.94-.94-2.06-.94 2.06-2.06.94zm-11 1L8.5 8.5l.94-2.06 2.06-.94-2.06-.94L8.5 2.5l-.94 2.06-2.06.94zm10 10l.94 2.06.94-2.06 2.06-.94-2.06-.94-.94-2.06-.94 2.06-2.06.94z\"/><path d=\"M17.41 7.96l-1.37-1.37c-.4-.4-.92-.59-1.43-.59-.52 0-1.04.2-1.43.59L10.3 9.45l-7.72 7.72c-.78.78-.78 2.05 0 2.83L4 21.41c.39.39.9.59 1.41.59.51 0 1.02-.2 1.41-.59l7.78-7.78 2.81-2.81c.8-.78.8-2.07 0-2.86zM5.41 20L4 18.59l7.72-7.72 1.47 1.35L5.41 20z\"/>\n",
              "  </svg>\n",
              "      </button>\n",
              "      \n",
              "  <style>\n",
              "    .colab-df-container {\n",
              "      display:flex;\n",
              "      flex-wrap:wrap;\n",
              "      gap: 12px;\n",
              "    }\n",
              "\n",
              "    .colab-df-convert {\n",
              "      background-color: #E8F0FE;\n",
              "      border: none;\n",
              "      border-radius: 50%;\n",
              "      cursor: pointer;\n",
              "      display: none;\n",
              "      fill: #1967D2;\n",
              "      height: 32px;\n",
              "      padding: 0 0 0 0;\n",
              "      width: 32px;\n",
              "    }\n",
              "\n",
              "    .colab-df-convert:hover {\n",
              "      background-color: #E2EBFA;\n",
              "      box-shadow: 0px 1px 2px rgba(60, 64, 67, 0.3), 0px 1px 3px 1px rgba(60, 64, 67, 0.15);\n",
              "      fill: #174EA6;\n",
              "    }\n",
              "\n",
              "    [theme=dark] .colab-df-convert {\n",
              "      background-color: #3B4455;\n",
              "      fill: #D2E3FC;\n",
              "    }\n",
              "\n",
              "    [theme=dark] .colab-df-convert:hover {\n",
              "      background-color: #434B5C;\n",
              "      box-shadow: 0px 1px 3px 1px rgba(0, 0, 0, 0.15);\n",
              "      filter: drop-shadow(0px 1px 2px rgba(0, 0, 0, 0.3));\n",
              "      fill: #FFFFFF;\n",
              "    }\n",
              "  </style>\n",
              "\n",
              "      <script>\n",
              "        const buttonEl =\n",
              "          document.querySelector('#df-9bff7a89-a994-49d7-bea1-aa6e36c51f6f button.colab-df-convert');\n",
              "        buttonEl.style.display =\n",
              "          google.colab.kernel.accessAllowed ? 'block' : 'none';\n",
              "\n",
              "        async function convertToInteractive(key) {\n",
              "          const element = document.querySelector('#df-9bff7a89-a994-49d7-bea1-aa6e36c51f6f');\n",
              "          const dataTable =\n",
              "            await google.colab.kernel.invokeFunction('convertToInteractive',\n",
              "                                                     [key], {});\n",
              "          if (!dataTable) return;\n",
              "\n",
              "          const docLinkHtml = 'Like what you see? Visit the ' +\n",
              "            '<a target=\"_blank\" href=https://colab.research.google.com/notebooks/data_table.ipynb>data table notebook</a>'\n",
              "            + ' to learn more about interactive tables.';\n",
              "          element.innerHTML = '';\n",
              "          dataTable['output_type'] = 'display_data';\n",
              "          await google.colab.output.renderOutput(dataTable, element);\n",
              "          const docLink = document.createElement('div');\n",
              "          docLink.innerHTML = docLinkHtml;\n",
              "          element.appendChild(docLink);\n",
              "        }\n",
              "      </script>\n",
              "    </div>\n",
              "  </div>\n",
              "  "
            ]
          },
          "metadata": {},
          "execution_count": 10
        }
      ],
      "source": [
        "train_texts.head()"
      ]
    },
    {
      "cell_type": "code",
      "source": [
        "import nltk\n",
        "nltk.download('punkt')"
      ],
      "metadata": {
        "colab": {
          "base_uri": "https://localhost:8080/"
        },
        "id": "Eb8gxCgkDomY",
        "outputId": "985a694c-e065-46bd-e8f9-aa668b6f896a"
      },
      "id": "Eb8gxCgkDomY",
      "execution_count": null,
      "outputs": [
        {
          "output_type": "stream",
          "name": "stderr",
          "text": [
            "[nltk_data] Downloading package punkt to /root/nltk_data...\n",
            "[nltk_data]   Package punkt is already up-to-date!\n"
          ]
        },
        {
          "output_type": "execute_result",
          "data": {
            "text/plain": [
              "True"
            ]
          },
          "metadata": {},
          "execution_count": 11
        }
      ]
    },
    {
      "cell_type": "code",
      "execution_count": null,
      "id": "1f8beaa5",
      "metadata": {
        "id": "1f8beaa5"
      },
      "outputs": [],
      "source": [
        "from nltk.tokenize import sent_tokenize, word_tokenize"
      ]
    },
    {
      "cell_type": "code",
      "execution_count": null,
      "id": "f180a192",
      "metadata": {
        "id": "f180a192"
      },
      "outputs": [],
      "source": [
        "sentences_info = []\n",
        "for row_text in train_texts.itertuples():\n",
        "    for sentence in sent_tokenize(row_text.text):\n",
        "      s = []\n",
        "      for token in word_tokenize(sentence):\n",
        "        if token == \"``\" or token == \"''\":\n",
        "          token = '\"'\n",
        "        s.append([row_text.text_id, 'O', token, row_text.text.index(token), row_text.text.index(token) + len(token), None])\n",
        "      sentences_info.append(s)"
      ]
    },
    {
      "cell_type": "code",
      "execution_count": null,
      "id": "e106904d",
      "metadata": {
        "id": "e106904d"
      },
      "outputs": [],
      "source": [
        "for mention in mentions_info:\n",
        "    for sentence in sentences_info:\n",
        "      for token in sentence:\n",
        "        if mention['text_id'] == token[0] and mention['mention'] == token[2]:\n",
        "            token[1] = mention['category']\n",
        "            token[5] = mention['sentiment']"
      ]
    },
    {
      "cell_type": "markdown",
      "source": [
        "## 2. Выделение признаков и обучение модели"
      ],
      "metadata": {
        "id": "8fF9UsVj3775"
      },
      "id": "8fF9UsVj3775"
    },
    {
      "cell_type": "code",
      "source": [
        "import copy"
      ],
      "metadata": {
        "id": "uWMKo7nv9_pH"
      },
      "id": "uWMKo7nv9_pH",
      "execution_count": null,
      "outputs": []
    },
    {
      "cell_type": "code",
      "source": [
        "sentences_info_for_train = copy.deepcopy(sentences_info)"
      ],
      "metadata": {
        "id": "t-SjAtSO-BjL"
      },
      "id": "t-SjAtSO-BjL",
      "execution_count": null,
      "outputs": []
    },
    {
      "cell_type": "code",
      "source": [
        "for sentence in sentences_info_for_train:\n",
        "    for token in sentence:\n",
        "      token.pop(0)\n",
        "      token.pop(2)\n",
        "      token.pop(2)\n",
        "      token.pop(2)"
      ],
      "metadata": {
        "id": "vajPQrVOu6F3"
      },
      "id": "vajPQrVOu6F3",
      "execution_count": null,
      "outputs": []
    },
    {
      "cell_type": "code",
      "source": [
        "print(len(sentences_info_for_train))\n",
        "print(len(sentences_info_for_train) * 0.8)\n",
        "print(len(sentences_info_for_train) * 0.2)"
      ],
      "metadata": {
        "colab": {
          "base_uri": "https://localhost:8080/"
        },
        "id": "13zFgqpc17fq",
        "outputId": "694f8f2f-3303-4847-d361-18358a5ea342"
      },
      "id": "13zFgqpc17fq",
      "execution_count": null,
      "outputs": [
        {
          "output_type": "stream",
          "name": "stdout",
          "text": [
            "2976\n",
            "2380.8\n",
            "595.2\n"
          ]
        }
      ]
    },
    {
      "cell_type": "code",
      "source": [
        "train_sentences = sentences_info_for_train[:2381]\n",
        "test_sentences = sentences_info_for_train[2381:2977]"
      ],
      "metadata": {
        "id": "EBk8H8Ii-LYX"
      },
      "id": "EBk8H8Ii-LYX",
      "execution_count": null,
      "outputs": []
    },
    {
      "cell_type": "code",
      "source": [
        "!pip install pymorphy2"
      ],
      "metadata": {
        "colab": {
          "base_uri": "https://localhost:8080/"
        },
        "id": "tJFiQUqHD14M",
        "outputId": "b305c5bc-9bc4-4498-899e-5afbee9f66dd"
      },
      "id": "tJFiQUqHD14M",
      "execution_count": null,
      "outputs": [
        {
          "output_type": "stream",
          "name": "stdout",
          "text": [
            "Looking in indexes: https://pypi.org/simple, https://us-python.pkg.dev/colab-wheels/public/simple/\n",
            "Requirement already satisfied: pymorphy2 in /usr/local/lib/python3.8/dist-packages (0.9.1)\n",
            "Requirement already satisfied: docopt>=0.6 in /usr/local/lib/python3.8/dist-packages (from pymorphy2) (0.6.2)\n",
            "Requirement already satisfied: pymorphy2-dicts-ru<3.0,>=2.4 in /usr/local/lib/python3.8/dist-packages (from pymorphy2) (2.4.417127.4579844)\n",
            "Requirement already satisfied: dawg-python>=0.7.1 in /usr/local/lib/python3.8/dist-packages (from pymorphy2) (0.7.2)\n"
          ]
        }
      ]
    },
    {
      "cell_type": "code",
      "source": [
        "import pymorphy2\n",
        "morph = pymorphy2.MorphAnalyzer()"
      ],
      "metadata": {
        "id": "UfutME54D9Qa"
      },
      "id": "UfutME54D9Qa",
      "execution_count": null,
      "outputs": []
    },
    {
      "cell_type": "code",
      "source": [
        "def word2features(sentence, index):\n",
        "    word = sentence[index][1]\n",
        "    features = {'word.lower()': word.lower(), 'word.isupper()': word.isupper(), 'pos': str(morph.parse(word)[0].tag.POS), 'BOS': False}\n",
        "    if index > 0:\n",
        "      pass\n",
        "    else:\n",
        "        features['BOS'] = True\n",
        "    if index < len(sentence) - 1:\n",
        "      pass\n",
        "    else:\n",
        "        features['EOS'] = True\n",
        "    return features\n",
        "\n",
        "def sent2features(sentence):\n",
        "    return [word2features(sentence, index) for index in range(len(sentence))]\n",
        "\n",
        "def sent2labels(sentence):\n",
        "    return [label for label, token in sentence]"
      ],
      "metadata": {
        "id": "rrFdstiZpbAb"
      },
      "id": "rrFdstiZpbAb",
      "execution_count": null,
      "outputs": []
    },
    {
      "cell_type": "code",
      "source": [
        "!pip install -U 'scikit-learn<0.24'"
      ],
      "metadata": {
        "colab": {
          "base_uri": "https://localhost:8080/"
        },
        "id": "krsyWOIwGU4q",
        "outputId": "db3f17e0-5daf-4e39-9f78-0a3cb51d9a72"
      },
      "id": "krsyWOIwGU4q",
      "execution_count": null,
      "outputs": [
        {
          "output_type": "stream",
          "name": "stdout",
          "text": [
            "Looking in indexes: https://pypi.org/simple, https://us-python.pkg.dev/colab-wheels/public/simple/\n",
            "Requirement already satisfied: scikit-learn<0.24 in /usr/local/lib/python3.8/dist-packages (0.23.2)\n",
            "Requirement already satisfied: joblib>=0.11 in /usr/local/lib/python3.8/dist-packages (from scikit-learn<0.24) (1.2.0)\n",
            "Requirement already satisfied: threadpoolctl>=2.0.0 in /usr/local/lib/python3.8/dist-packages (from scikit-learn<0.24) (3.1.0)\n",
            "Requirement already satisfied: numpy>=1.13.3 in /usr/local/lib/python3.8/dist-packages (from scikit-learn<0.24) (1.21.6)\n",
            "Requirement already satisfied: scipy>=0.19.1 in /usr/local/lib/python3.8/dist-packages (from scikit-learn<0.24) (1.7.3)\n"
          ]
        }
      ]
    },
    {
      "cell_type": "code",
      "source": [
        "!pip install sklearn_crfsuite"
      ],
      "metadata": {
        "colab": {
          "base_uri": "https://localhost:8080/"
        },
        "id": "qjn1JdoFGIEj",
        "outputId": "c7bb2657-8484-471f-c69b-c6b232fc4da1"
      },
      "id": "qjn1JdoFGIEj",
      "execution_count": null,
      "outputs": [
        {
          "output_type": "stream",
          "name": "stdout",
          "text": [
            "Looking in indexes: https://pypi.org/simple, https://us-python.pkg.dev/colab-wheels/public/simple/\n",
            "Requirement already satisfied: sklearn_crfsuite in /usr/local/lib/python3.8/dist-packages (0.3.6)\n",
            "Requirement already satisfied: tqdm>=2.0 in /usr/local/lib/python3.8/dist-packages (from sklearn_crfsuite) (4.64.1)\n",
            "Requirement already satisfied: six in /usr/local/lib/python3.8/dist-packages (from sklearn_crfsuite) (1.15.0)\n",
            "Requirement already satisfied: tabulate in /usr/local/lib/python3.8/dist-packages (from sklearn_crfsuite) (0.8.10)\n",
            "Requirement already satisfied: python-crfsuite>=0.8.3 in /usr/local/lib/python3.8/dist-packages (from sklearn_crfsuite) (0.9.8)\n"
          ]
        }
      ]
    },
    {
      "cell_type": "code",
      "source": [
        "import sklearn_crfsuite\n",
        "from sklearn_crfsuite import scorers\n",
        "from sklearn_crfsuite import metrics"
      ],
      "metadata": {
        "id": "aPj1maErGMBS"
      },
      "id": "aPj1maErGMBS",
      "execution_count": null,
      "outputs": []
    },
    {
      "cell_type": "code",
      "source": [
        "X_train = [sent2features(s) for s in train_sentences]\n",
        "y_train = [sent2labels(s) for s in train_sentences]\n",
        "\n",
        "X_test = [sent2features(s) for s in test_sentences]\n",
        "y_test = [sent2labels(s) for s in test_sentences]"
      ],
      "metadata": {
        "id": "Ac03LG22-0h2"
      },
      "id": "Ac03LG22-0h2",
      "execution_count": null,
      "outputs": []
    },
    {
      "cell_type": "code",
      "source": [
        "crf = sklearn_crfsuite.CRF(algorithm='ap')\n",
        "crf.fit(X_train, y_train)"
      ],
      "metadata": {
        "colab": {
          "base_uri": "https://localhost:8080/"
        },
        "id": "JsLVyAVpGEQx",
        "outputId": "8a49f6bb-75bb-4cca-e4a6-8564c2af393e"
      },
      "id": "JsLVyAVpGEQx",
      "execution_count": null,
      "outputs": [
        {
          "output_type": "stream",
          "name": "stderr",
          "text": [
            "/usr/local/lib/python3.8/dist-packages/sklearn/base.py:209: FutureWarning: From version 0.24, get_params will raise an AttributeError if a parameter cannot be retrieved as an instance attribute. Previously it would return None.\n",
            "  warnings.warn('From version 0.24, get_params will raise an '\n"
          ]
        },
        {
          "output_type": "execute_result",
          "data": {
            "text/plain": [
              "CRF(algorithm='ap', keep_tempfiles=None)"
            ]
          },
          "metadata": {},
          "execution_count": 29
        }
      ]
    },
    {
      "cell_type": "code",
      "source": [
        "labels = list(crf.classes_)"
      ],
      "metadata": {
        "id": "ElPPRwxz_vHD"
      },
      "id": "ElPPRwxz_vHD",
      "execution_count": null,
      "outputs": []
    },
    {
      "cell_type": "code",
      "source": [
        "y_pred = crf.predict(X_test)\n",
        "metrics.flat_accuracy_score(y_test, y_pred)"
      ],
      "metadata": {
        "colab": {
          "base_uri": "https://localhost:8080/"
        },
        "id": "wOQGXkGYM5EM",
        "outputId": "9f93d91b-cdbd-4435-d1e1-fef1857032f2"
      },
      "id": "wOQGXkGYM5EM",
      "execution_count": null,
      "outputs": [
        {
          "output_type": "execute_result",
          "data": {
            "text/plain": [
              "0.9010305070911131"
            ]
          },
          "metadata": {},
          "execution_count": 46
        }
      ]
    },
    {
      "cell_type": "code",
      "source": [
        "import pickle"
      ],
      "metadata": {
        "id": "5r9AuphAWW9S"
      },
      "id": "5r9AuphAWW9S",
      "execution_count": null,
      "outputs": []
    },
    {
      "cell_type": "code",
      "source": [
        "from google.colab import drive\n",
        "drive.mount('/content/drive')"
      ],
      "metadata": {
        "colab": {
          "base_uri": "https://localhost:8080/"
        },
        "id": "WzaE9P7PYUCd",
        "outputId": "15739a3a-817b-466a-dfa4-d6ad273b6e73"
      },
      "id": "WzaE9P7PYUCd",
      "execution_count": null,
      "outputs": [
        {
          "output_type": "stream",
          "name": "stdout",
          "text": [
            "Mounted at /content/drive\n"
          ]
        }
      ]
    },
    {
      "cell_type": "code",
      "source": [
        "pickle.dump(crf, open('/content/drive/My Drive/crf.sav', 'wb'))"
      ],
      "metadata": {
        "id": "PxG_gf0iWZLr"
      },
      "id": "PxG_gf0iWZLr",
      "execution_count": null,
      "outputs": []
    },
    {
      "cell_type": "code",
      "source": [
        "sorted_labels = sorted(\n",
        "    labels,\n",
        "    key=lambda name: (name[1:], name[0])\n",
        ")\n",
        "print(metrics.flat_classification_report(\n",
        "    y_test, y_pred, labels=sorted_labels, digits=3\n",
        "))"
      ],
      "metadata": {
        "colab": {
          "base_uri": "https://localhost:8080/"
        },
        "id": "AkM-J9WzG77H",
        "outputId": "c3e20625-b6fc-429d-d7b1-9115089318a8"
      },
      "id": "AkM-J9WzG77H",
      "execution_count": null,
      "outputs": [
        {
          "output_type": "stream",
          "name": "stderr",
          "text": [
            "/usr/local/lib/python3.8/dist-packages/sklearn/utils/validation.py:67: FutureWarning: Pass labels=['O', 'B-Food', 'I-Food', 'B-Interior', 'I-Interior', 'B-Price', 'I-Price', 'B-Service', 'I-Service', 'B-Whole', 'I-Whole'] as keyword args. From version 0.25 passing these as positional arguments will result in an error\n",
            "  warnings.warn(\"Pass {} as keyword args. From version 0.25 \"\n"
          ]
        },
        {
          "output_type": "stream",
          "name": "stdout",
          "text": [
            "              precision    recall  f1-score   support\n",
            "\n",
            "           O      0.921     0.979     0.949      8232\n",
            "      B-Food      0.660     0.658     0.659       404\n",
            "      I-Food      0.736     0.338     0.463       314\n",
            "  B-Interior      0.874     0.539     0.667       180\n",
            "  I-Interior      0.435     0.196     0.270        51\n",
            "     B-Price      0.760     0.655     0.704        29\n",
            "     I-Price      0.333     0.167     0.222         6\n",
            "   B-Service      0.893     0.486     0.629       311\n",
            "   I-Service      0.529     0.261     0.350        69\n",
            "     B-Whole      0.739     0.614     0.671       166\n",
            "     I-Whole      1.000     0.128     0.227        39\n",
            "\n",
            "    accuracy                          0.901      9801\n",
            "   macro avg      0.716     0.456     0.528      9801\n",
            "weighted avg      0.894     0.901     0.890      9801\n",
            "\n"
          ]
        }
      ]
    }
  ],
  "metadata": {
    "kernelspec": {
      "display_name": "Python 3 (ipykernel)",
      "language": "python",
      "name": "python3"
    },
    "language_info": {
      "codemirror_mode": {
        "name": "ipython",
        "version": 3
      },
      "file_extension": ".py",
      "mimetype": "text/x-python",
      "name": "python",
      "nbconvert_exporter": "python",
      "pygments_lexer": "ipython3",
      "version": "3.10.6"
    },
    "colab": {
      "provenance": []
    }
  },
  "nbformat": 4,
  "nbformat_minor": 5
}