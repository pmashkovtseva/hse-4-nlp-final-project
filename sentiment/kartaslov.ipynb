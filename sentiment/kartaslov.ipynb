{
  "nbformat": 4,
  "nbformat_minor": 0,
  "metadata": {
    "colab": {
      "provenance": []
    },
    "kernelspec": {
      "name": "python3",
      "display_name": "Python 3"
    },
    "language_info": {
      "name": "python"
    },
    "accelerator": "GPU",
    "gpuClass": "standard"
  },
  "cells": [
    {
      "cell_type": "code",
      "execution_count": 1,
      "metadata": {
        "colab": {
          "base_uri": "https://localhost:8080/"
        },
        "id": "ISl9e_ejFU5g",
        "outputId": "6caabb10-b82d-41bb-ced9-7d5b93f1e6de"
      },
      "outputs": [
        {
          "output_type": "stream",
          "name": "stdout",
          "text": [
            "--2022-12-29 05:49:38--  https://raw.githubusercontent.com/named-entity/hse-nlp/master/4th_year/Project/dev_aspects.txt\n",
            "Resolving raw.githubusercontent.com (raw.githubusercontent.com)... 185.199.108.133, 185.199.109.133, 185.199.110.133, ...\n",
            "Connecting to raw.githubusercontent.com (raw.githubusercontent.com)|185.199.108.133|:443... connected.\n",
            "HTTP request sent, awaiting response... 200 OK\n",
            "Length: 57508 (56K) [text/plain]\n",
            "Saving to: ‘dev_aspects.txt’\n",
            "\n",
            "dev_aspects.txt     100%[===================>]  56.16K  --.-KB/s    in 0.003s  \n",
            "\n",
            "2022-12-29 05:49:38 (17.3 MB/s) - ‘dev_aspects.txt’ saved [57508/57508]\n",
            "\n",
            "--2022-12-29 05:49:39--  https://raw.githubusercontent.com/named-entity/hse-nlp/master/4th_year/Project/dev_reviews.txt\n",
            "Resolving raw.githubusercontent.com (raw.githubusercontent.com)... 185.199.108.133, 185.199.109.133, 185.199.110.133, ...\n",
            "Connecting to raw.githubusercontent.com (raw.githubusercontent.com)|185.199.108.133|:443... connected.\n",
            "HTTP request sent, awaiting response... 200 OK\n",
            "Length: 110515 (108K) [text/plain]\n",
            "Saving to: ‘dev_reviews.txt’\n",
            "\n",
            "dev_reviews.txt     100%[===================>] 107.92K  --.-KB/s    in 0.007s  \n",
            "\n",
            "2022-12-29 05:49:39 (14.8 MB/s) - ‘dev_reviews.txt’ saved [110515/110515]\n",
            "\n",
            "--2022-12-29 05:49:39--  https://raw.githubusercontent.com/dkulagin/kartaslov/master/dataset/kartaslovsent/kartaslovsent.csv\n",
            "Resolving raw.githubusercontent.com (raw.githubusercontent.com)... 185.199.108.133, 185.199.109.133, 185.199.110.133, ...\n",
            "Connecting to raw.githubusercontent.com (raw.githubusercontent.com)|185.199.108.133|:443... connected.\n",
            "HTTP request sent, awaiting response... 200 OK\n",
            "Length: 2655438 (2.5M) [text/plain]\n",
            "Saving to: ‘kartaslovsent.csv’\n",
            "\n",
            "kartaslovsent.csv   100%[===================>]   2.53M  --.-KB/s    in 0.02s   \n",
            "\n",
            "2022-12-29 05:49:39 (105 MB/s) - ‘kartaslovsent.csv’ saved [2655438/2655438]\n",
            "\n"
          ]
        }
      ],
      "source": [
        "!wget https://raw.githubusercontent.com/named-entity/hse-nlp/master/4th_year/Project/dev_aspects.txt\n",
        "\n",
        "!wget https://raw.githubusercontent.com/named-entity/hse-nlp/master/4th_year/Project/dev_reviews.txt\n",
        "\n",
        "!wget https://raw.githubusercontent.com/dkulagin/kartaslov/master/dataset/kartaslovsent/kartaslovsent.csv"
      ]
    },
    {
      "cell_type": "code",
      "source": [
        "!pip install spacy==3.2.0\n",
        "!python -m spacy download ru_core_news_lg"
      ],
      "metadata": {
        "id": "pAxf42AnKC3a"
      },
      "execution_count": null,
      "outputs": []
    },
    {
      "cell_type": "code",
      "source": [
        "import pandas as pd\n",
        "import tqdm\n",
        "from sklearn.metrics import accuracy_score\n",
        "import matplotlib.pyplot as plt\n",
        "import seaborn as sns"
      ],
      "metadata": {
        "id": "VQAxrvdNFzPC"
      },
      "execution_count": 22,
      "outputs": []
    },
    {
      "cell_type": "code",
      "source": [
        "import spacy\n",
        "\n",
        "nlp = spacy.load('ru_core_news_lg')"
      ],
      "metadata": {
        "id": "aHz95M-FL6Jg"
      },
      "execution_count": 4,
      "outputs": []
    },
    {
      "cell_type": "markdown",
      "source": [
        "# Скачаем тональный словарь русского языка [Картаслов](https://github.com/dkulagin/kartaslov/tree/master/dataset/kartaslovsent)"
      ],
      "metadata": {
        "id": "T7QiOMENxr10"
      }
    },
    {
      "cell_type": "code",
      "source": [
        "sent_dict = pd.read_csv('kartaslovsent.csv', sep=';')"
      ],
      "metadata": {
        "id": "kaBV3xuOxLXc"
      },
      "execution_count": 5,
      "outputs": []
    },
    {
      "cell_type": "code",
      "source": [
        "sent_dict"
      ],
      "metadata": {
        "colab": {
          "base_uri": "https://localhost:8080/",
          "height": 419
        },
        "id": "tVeuTJX-xnzu",
        "outputId": "5de5cf57-7997-4a23-93ec-fec1066a30e1"
      },
      "execution_count": 6,
      "outputs": [
        {
          "output_type": "execute_result",
          "data": {
            "text/plain": [
              "               term   tag  value   pstv   ngtv   neut  dunno  \\\n",
              "0            абажур  NEUT   0.08  0.185  0.037  0.580  0.198   \n",
              "1         аббатство  NEUT   0.10  0.192  0.038  0.578  0.192   \n",
              "2      аббревиатура  NEUT   0.08  0.196  0.000  0.630  0.174   \n",
              "3             абзац  NEUT   0.00  0.137  0.000  0.706  0.157   \n",
              "4         абиссинец  NEUT   0.28  0.151  0.113  0.245  0.491   \n",
              "...             ...   ...    ...    ...    ...    ...    ...   \n",
              "46122       ёмкость  NEUT   0.00  0.167  0.000  0.690  0.143   \n",
              "46123        ёрзать  NGTV  -0.54  0.050  0.446  0.397  0.107   \n",
              "46124      ёрничать  NGTV  -0.79  0.078  0.529  0.236  0.157   \n",
              "46125           ёрш  NEUT   0.16  0.224  0.072  0.576  0.128   \n",
              "46126         ёршик  NEUT   0.00  0.152  0.043  0.718  0.087   \n",
              "\n",
              "       pstvNgtvDisagreementRatio  \n",
              "0                           0.00  \n",
              "1                           0.00  \n",
              "2                           0.00  \n",
              "3                           0.00  \n",
              "4                           0.19  \n",
              "...                          ...  \n",
              "46122                       0.00  \n",
              "46123                       0.00  \n",
              "46124                       0.00  \n",
              "46125                       0.00  \n",
              "46126                       0.00  \n",
              "\n",
              "[46127 rows x 8 columns]"
            ],
            "text/html": [
              "\n",
              "  <div id=\"df-e5fa0bdb-df83-480a-84fa-84030bf5f054\">\n",
              "    <div class=\"colab-df-container\">\n",
              "      <div>\n",
              "<style scoped>\n",
              "    .dataframe tbody tr th:only-of-type {\n",
              "        vertical-align: middle;\n",
              "    }\n",
              "\n",
              "    .dataframe tbody tr th {\n",
              "        vertical-align: top;\n",
              "    }\n",
              "\n",
              "    .dataframe thead th {\n",
              "        text-align: right;\n",
              "    }\n",
              "</style>\n",
              "<table border=\"1\" class=\"dataframe\">\n",
              "  <thead>\n",
              "    <tr style=\"text-align: right;\">\n",
              "      <th></th>\n",
              "      <th>term</th>\n",
              "      <th>tag</th>\n",
              "      <th>value</th>\n",
              "      <th>pstv</th>\n",
              "      <th>ngtv</th>\n",
              "      <th>neut</th>\n",
              "      <th>dunno</th>\n",
              "      <th>pstvNgtvDisagreementRatio</th>\n",
              "    </tr>\n",
              "  </thead>\n",
              "  <tbody>\n",
              "    <tr>\n",
              "      <th>0</th>\n",
              "      <td>абажур</td>\n",
              "      <td>NEUT</td>\n",
              "      <td>0.08</td>\n",
              "      <td>0.185</td>\n",
              "      <td>0.037</td>\n",
              "      <td>0.580</td>\n",
              "      <td>0.198</td>\n",
              "      <td>0.00</td>\n",
              "    </tr>\n",
              "    <tr>\n",
              "      <th>1</th>\n",
              "      <td>аббатство</td>\n",
              "      <td>NEUT</td>\n",
              "      <td>0.10</td>\n",
              "      <td>0.192</td>\n",
              "      <td>0.038</td>\n",
              "      <td>0.578</td>\n",
              "      <td>0.192</td>\n",
              "      <td>0.00</td>\n",
              "    </tr>\n",
              "    <tr>\n",
              "      <th>2</th>\n",
              "      <td>аббревиатура</td>\n",
              "      <td>NEUT</td>\n",
              "      <td>0.08</td>\n",
              "      <td>0.196</td>\n",
              "      <td>0.000</td>\n",
              "      <td>0.630</td>\n",
              "      <td>0.174</td>\n",
              "      <td>0.00</td>\n",
              "    </tr>\n",
              "    <tr>\n",
              "      <th>3</th>\n",
              "      <td>абзац</td>\n",
              "      <td>NEUT</td>\n",
              "      <td>0.00</td>\n",
              "      <td>0.137</td>\n",
              "      <td>0.000</td>\n",
              "      <td>0.706</td>\n",
              "      <td>0.157</td>\n",
              "      <td>0.00</td>\n",
              "    </tr>\n",
              "    <tr>\n",
              "      <th>4</th>\n",
              "      <td>абиссинец</td>\n",
              "      <td>NEUT</td>\n",
              "      <td>0.28</td>\n",
              "      <td>0.151</td>\n",
              "      <td>0.113</td>\n",
              "      <td>0.245</td>\n",
              "      <td>0.491</td>\n",
              "      <td>0.19</td>\n",
              "    </tr>\n",
              "    <tr>\n",
              "      <th>...</th>\n",
              "      <td>...</td>\n",
              "      <td>...</td>\n",
              "      <td>...</td>\n",
              "      <td>...</td>\n",
              "      <td>...</td>\n",
              "      <td>...</td>\n",
              "      <td>...</td>\n",
              "      <td>...</td>\n",
              "    </tr>\n",
              "    <tr>\n",
              "      <th>46122</th>\n",
              "      <td>ёмкость</td>\n",
              "      <td>NEUT</td>\n",
              "      <td>0.00</td>\n",
              "      <td>0.167</td>\n",
              "      <td>0.000</td>\n",
              "      <td>0.690</td>\n",
              "      <td>0.143</td>\n",
              "      <td>0.00</td>\n",
              "    </tr>\n",
              "    <tr>\n",
              "      <th>46123</th>\n",
              "      <td>ёрзать</td>\n",
              "      <td>NGTV</td>\n",
              "      <td>-0.54</td>\n",
              "      <td>0.050</td>\n",
              "      <td>0.446</td>\n",
              "      <td>0.397</td>\n",
              "      <td>0.107</td>\n",
              "      <td>0.00</td>\n",
              "    </tr>\n",
              "    <tr>\n",
              "      <th>46124</th>\n",
              "      <td>ёрничать</td>\n",
              "      <td>NGTV</td>\n",
              "      <td>-0.79</td>\n",
              "      <td>0.078</td>\n",
              "      <td>0.529</td>\n",
              "      <td>0.236</td>\n",
              "      <td>0.157</td>\n",
              "      <td>0.00</td>\n",
              "    </tr>\n",
              "    <tr>\n",
              "      <th>46125</th>\n",
              "      <td>ёрш</td>\n",
              "      <td>NEUT</td>\n",
              "      <td>0.16</td>\n",
              "      <td>0.224</td>\n",
              "      <td>0.072</td>\n",
              "      <td>0.576</td>\n",
              "      <td>0.128</td>\n",
              "      <td>0.00</td>\n",
              "    </tr>\n",
              "    <tr>\n",
              "      <th>46126</th>\n",
              "      <td>ёршик</td>\n",
              "      <td>NEUT</td>\n",
              "      <td>0.00</td>\n",
              "      <td>0.152</td>\n",
              "      <td>0.043</td>\n",
              "      <td>0.718</td>\n",
              "      <td>0.087</td>\n",
              "      <td>0.00</td>\n",
              "    </tr>\n",
              "  </tbody>\n",
              "</table>\n",
              "<p>46127 rows × 8 columns</p>\n",
              "</div>\n",
              "      <button class=\"colab-df-convert\" onclick=\"convertToInteractive('df-e5fa0bdb-df83-480a-84fa-84030bf5f054')\"\n",
              "              title=\"Convert this dataframe to an interactive table.\"\n",
              "              style=\"display:none;\">\n",
              "        \n",
              "  <svg xmlns=\"http://www.w3.org/2000/svg\" height=\"24px\"viewBox=\"0 0 24 24\"\n",
              "       width=\"24px\">\n",
              "    <path d=\"M0 0h24v24H0V0z\" fill=\"none\"/>\n",
              "    <path d=\"M18.56 5.44l.94 2.06.94-2.06 2.06-.94-2.06-.94-.94-2.06-.94 2.06-2.06.94zm-11 1L8.5 8.5l.94-2.06 2.06-.94-2.06-.94L8.5 2.5l-.94 2.06-2.06.94zm10 10l.94 2.06.94-2.06 2.06-.94-2.06-.94-.94-2.06-.94 2.06-2.06.94z\"/><path d=\"M17.41 7.96l-1.37-1.37c-.4-.4-.92-.59-1.43-.59-.52 0-1.04.2-1.43.59L10.3 9.45l-7.72 7.72c-.78.78-.78 2.05 0 2.83L4 21.41c.39.39.9.59 1.41.59.51 0 1.02-.2 1.41-.59l7.78-7.78 2.81-2.81c.8-.78.8-2.07 0-2.86zM5.41 20L4 18.59l7.72-7.72 1.47 1.35L5.41 20z\"/>\n",
              "  </svg>\n",
              "      </button>\n",
              "      \n",
              "  <style>\n",
              "    .colab-df-container {\n",
              "      display:flex;\n",
              "      flex-wrap:wrap;\n",
              "      gap: 12px;\n",
              "    }\n",
              "\n",
              "    .colab-df-convert {\n",
              "      background-color: #E8F0FE;\n",
              "      border: none;\n",
              "      border-radius: 50%;\n",
              "      cursor: pointer;\n",
              "      display: none;\n",
              "      fill: #1967D2;\n",
              "      height: 32px;\n",
              "      padding: 0 0 0 0;\n",
              "      width: 32px;\n",
              "    }\n",
              "\n",
              "    .colab-df-convert:hover {\n",
              "      background-color: #E2EBFA;\n",
              "      box-shadow: 0px 1px 2px rgba(60, 64, 67, 0.3), 0px 1px 3px 1px rgba(60, 64, 67, 0.15);\n",
              "      fill: #174EA6;\n",
              "    }\n",
              "\n",
              "    [theme=dark] .colab-df-convert {\n",
              "      background-color: #3B4455;\n",
              "      fill: #D2E3FC;\n",
              "    }\n",
              "\n",
              "    [theme=dark] .colab-df-convert:hover {\n",
              "      background-color: #434B5C;\n",
              "      box-shadow: 0px 1px 3px 1px rgba(0, 0, 0, 0.15);\n",
              "      filter: drop-shadow(0px 1px 2px rgba(0, 0, 0, 0.3));\n",
              "      fill: #FFFFFF;\n",
              "    }\n",
              "  </style>\n",
              "\n",
              "      <script>\n",
              "        const buttonEl =\n",
              "          document.querySelector('#df-e5fa0bdb-df83-480a-84fa-84030bf5f054 button.colab-df-convert');\n",
              "        buttonEl.style.display =\n",
              "          google.colab.kernel.accessAllowed ? 'block' : 'none';\n",
              "\n",
              "        async function convertToInteractive(key) {\n",
              "          const element = document.querySelector('#df-e5fa0bdb-df83-480a-84fa-84030bf5f054');\n",
              "          const dataTable =\n",
              "            await google.colab.kernel.invokeFunction('convertToInteractive',\n",
              "                                                     [key], {});\n",
              "          if (!dataTable) return;\n",
              "\n",
              "          const docLinkHtml = 'Like what you see? Visit the ' +\n",
              "            '<a target=\"_blank\" href=https://colab.research.google.com/notebooks/data_table.ipynb>data table notebook</a>'\n",
              "            + ' to learn more about interactive tables.';\n",
              "          element.innerHTML = '';\n",
              "          dataTable['output_type'] = 'display_data';\n",
              "          await google.colab.output.renderOutput(dataTable, element);\n",
              "          const docLink = document.createElement('div');\n",
              "          docLink.innerHTML = docLinkHtml;\n",
              "          element.appendChild(docLink);\n",
              "        }\n",
              "      </script>\n",
              "    </div>\n",
              "  </div>\n",
              "  "
            ]
          },
          "metadata": {},
          "execution_count": 6
        }
      ]
    },
    {
      "cell_type": "markdown",
      "source": [
        "Чтобы посмотреть, стоит ли заниматься даннным методом, проверим точность на золотом стандарте. В целом, кажется, более логичным использовать данный метод уже на выделенных аспектах. "
      ],
      "metadata": {
        "id": "4kZAMeVIgGk7"
      }
    },
    {
      "cell_type": "markdown",
      "source": [
        "#### Можно попробовать оценить аспекты, соотнося их со словами из словаря и опираясь на их оценки.  \n",
        "В словаре используются только 3 метки: положительное, отрицательное, нейтральное. Однако, в нашей классификации их 4: neutral, positive, both, negative. Предлагаю в таком случае смотреть на доли голосов при разметке, их как раз 4: pstv, ngtv, neut и dunno (перевес последнего можно относить к both)"
      ],
      "metadata": {
        "id": "DlwTFUxGzTL6"
      }
    },
    {
      "cell_type": "code",
      "source": [
        "gold = pd.read_csv('dev_aspects.txt', sep='\\t', names=['id', 'category', 'aspect', 'start', 'end', 'sentiment'])\n",
        "reviews = pd.read_csv('dev_reviews.txt', sep='\\t', names=['id', 'text'])"
      ],
      "metadata": {
        "id": "rEjYd1ri0GhP"
      },
      "execution_count": 7,
      "outputs": []
    },
    {
      "cell_type": "code",
      "source": [
        "reviews"
      ],
      "metadata": {
        "colab": {
          "base_uri": "https://localhost:8080/",
          "height": 419
        },
        "id": "MPzA1G7z0q7A",
        "outputId": "7beda7db-7531-4614-a3b3-8e629ccaa606"
      },
      "execution_count": 8,
      "outputs": [
        {
          "output_type": "execute_result",
          "data": {
            "text/plain": [
              "       id                                               text\n",
              "0   13823  Зашли в\"аппетит\" случайно.Не смотря на то,что ...\n",
              "1    1427  Здравствуйте!Посетили ваше заведение вчера пер...\n",
              "2   16714  Были в пятницу (19.03.10), заказывали столик д...\n",
              "3     797  Были в ресторане 2 раза. Один раз днем, все по...\n",
              "4   34710  Удивляюсь отзывам про хорошее обслуживание. Бы...\n",
              "..    ...                                                ...\n",
              "66   9216  Вы брали этот ресторан так как он близко от до...\n",
              "67   8996  Были с друзьями в пабе Метрополь, всё очень по...\n",
              "68  38299  Случайно увидели акцию на сайте купонов, решил...\n",
              "69  37819  Очень долго выбирали ресторан на Новогодний ка...\n",
              "70  11770  Была пару раз в пабе, очень понравилось. Вкусн...\n",
              "\n",
              "[71 rows x 2 columns]"
            ],
            "text/html": [
              "\n",
              "  <div id=\"df-dabc3c41-2717-4257-9ca1-58233286b053\">\n",
              "    <div class=\"colab-df-container\">\n",
              "      <div>\n",
              "<style scoped>\n",
              "    .dataframe tbody tr th:only-of-type {\n",
              "        vertical-align: middle;\n",
              "    }\n",
              "\n",
              "    .dataframe tbody tr th {\n",
              "        vertical-align: top;\n",
              "    }\n",
              "\n",
              "    .dataframe thead th {\n",
              "        text-align: right;\n",
              "    }\n",
              "</style>\n",
              "<table border=\"1\" class=\"dataframe\">\n",
              "  <thead>\n",
              "    <tr style=\"text-align: right;\">\n",
              "      <th></th>\n",
              "      <th>id</th>\n",
              "      <th>text</th>\n",
              "    </tr>\n",
              "  </thead>\n",
              "  <tbody>\n",
              "    <tr>\n",
              "      <th>0</th>\n",
              "      <td>13823</td>\n",
              "      <td>Зашли в\"аппетит\" случайно.Не смотря на то,что ...</td>\n",
              "    </tr>\n",
              "    <tr>\n",
              "      <th>1</th>\n",
              "      <td>1427</td>\n",
              "      <td>Здравствуйте!Посетили ваше заведение вчера пер...</td>\n",
              "    </tr>\n",
              "    <tr>\n",
              "      <th>2</th>\n",
              "      <td>16714</td>\n",
              "      <td>Были в пятницу (19.03.10), заказывали столик д...</td>\n",
              "    </tr>\n",
              "    <tr>\n",
              "      <th>3</th>\n",
              "      <td>797</td>\n",
              "      <td>Были в ресторане 2 раза. Один раз днем, все по...</td>\n",
              "    </tr>\n",
              "    <tr>\n",
              "      <th>4</th>\n",
              "      <td>34710</td>\n",
              "      <td>Удивляюсь отзывам про хорошее обслуживание. Бы...</td>\n",
              "    </tr>\n",
              "    <tr>\n",
              "      <th>...</th>\n",
              "      <td>...</td>\n",
              "      <td>...</td>\n",
              "    </tr>\n",
              "    <tr>\n",
              "      <th>66</th>\n",
              "      <td>9216</td>\n",
              "      <td>Вы брали этот ресторан так как он близко от до...</td>\n",
              "    </tr>\n",
              "    <tr>\n",
              "      <th>67</th>\n",
              "      <td>8996</td>\n",
              "      <td>Были с друзьями в пабе Метрополь, всё очень по...</td>\n",
              "    </tr>\n",
              "    <tr>\n",
              "      <th>68</th>\n",
              "      <td>38299</td>\n",
              "      <td>Случайно увидели акцию на сайте купонов, решил...</td>\n",
              "    </tr>\n",
              "    <tr>\n",
              "      <th>69</th>\n",
              "      <td>37819</td>\n",
              "      <td>Очень долго выбирали ресторан на Новогодний ка...</td>\n",
              "    </tr>\n",
              "    <tr>\n",
              "      <th>70</th>\n",
              "      <td>11770</td>\n",
              "      <td>Была пару раз в пабе, очень понравилось. Вкусн...</td>\n",
              "    </tr>\n",
              "  </tbody>\n",
              "</table>\n",
              "<p>71 rows × 2 columns</p>\n",
              "</div>\n",
              "      <button class=\"colab-df-convert\" onclick=\"convertToInteractive('df-dabc3c41-2717-4257-9ca1-58233286b053')\"\n",
              "              title=\"Convert this dataframe to an interactive table.\"\n",
              "              style=\"display:none;\">\n",
              "        \n",
              "  <svg xmlns=\"http://www.w3.org/2000/svg\" height=\"24px\"viewBox=\"0 0 24 24\"\n",
              "       width=\"24px\">\n",
              "    <path d=\"M0 0h24v24H0V0z\" fill=\"none\"/>\n",
              "    <path d=\"M18.56 5.44l.94 2.06.94-2.06 2.06-.94-2.06-.94-.94-2.06-.94 2.06-2.06.94zm-11 1L8.5 8.5l.94-2.06 2.06-.94-2.06-.94L8.5 2.5l-.94 2.06-2.06.94zm10 10l.94 2.06.94-2.06 2.06-.94-2.06-.94-.94-2.06-.94 2.06-2.06.94z\"/><path d=\"M17.41 7.96l-1.37-1.37c-.4-.4-.92-.59-1.43-.59-.52 0-1.04.2-1.43.59L10.3 9.45l-7.72 7.72c-.78.78-.78 2.05 0 2.83L4 21.41c.39.39.9.59 1.41.59.51 0 1.02-.2 1.41-.59l7.78-7.78 2.81-2.81c.8-.78.8-2.07 0-2.86zM5.41 20L4 18.59l7.72-7.72 1.47 1.35L5.41 20z\"/>\n",
              "  </svg>\n",
              "      </button>\n",
              "      \n",
              "  <style>\n",
              "    .colab-df-container {\n",
              "      display:flex;\n",
              "      flex-wrap:wrap;\n",
              "      gap: 12px;\n",
              "    }\n",
              "\n",
              "    .colab-df-convert {\n",
              "      background-color: #E8F0FE;\n",
              "      border: none;\n",
              "      border-radius: 50%;\n",
              "      cursor: pointer;\n",
              "      display: none;\n",
              "      fill: #1967D2;\n",
              "      height: 32px;\n",
              "      padding: 0 0 0 0;\n",
              "      width: 32px;\n",
              "    }\n",
              "\n",
              "    .colab-df-convert:hover {\n",
              "      background-color: #E2EBFA;\n",
              "      box-shadow: 0px 1px 2px rgba(60, 64, 67, 0.3), 0px 1px 3px 1px rgba(60, 64, 67, 0.15);\n",
              "      fill: #174EA6;\n",
              "    }\n",
              "\n",
              "    [theme=dark] .colab-df-convert {\n",
              "      background-color: #3B4455;\n",
              "      fill: #D2E3FC;\n",
              "    }\n",
              "\n",
              "    [theme=dark] .colab-df-convert:hover {\n",
              "      background-color: #434B5C;\n",
              "      box-shadow: 0px 1px 3px 1px rgba(0, 0, 0, 0.15);\n",
              "      filter: drop-shadow(0px 1px 2px rgba(0, 0, 0, 0.3));\n",
              "      fill: #FFFFFF;\n",
              "    }\n",
              "  </style>\n",
              "\n",
              "      <script>\n",
              "        const buttonEl =\n",
              "          document.querySelector('#df-dabc3c41-2717-4257-9ca1-58233286b053 button.colab-df-convert');\n",
              "        buttonEl.style.display =\n",
              "          google.colab.kernel.accessAllowed ? 'block' : 'none';\n",
              "\n",
              "        async function convertToInteractive(key) {\n",
              "          const element = document.querySelector('#df-dabc3c41-2717-4257-9ca1-58233286b053');\n",
              "          const dataTable =\n",
              "            await google.colab.kernel.invokeFunction('convertToInteractive',\n",
              "                                                     [key], {});\n",
              "          if (!dataTable) return;\n",
              "\n",
              "          const docLinkHtml = 'Like what you see? Visit the ' +\n",
              "            '<a target=\"_blank\" href=https://colab.research.google.com/notebooks/data_table.ipynb>data table notebook</a>'\n",
              "            + ' to learn more about interactive tables.';\n",
              "          element.innerHTML = '';\n",
              "          dataTable['output_type'] = 'display_data';\n",
              "          await google.colab.output.renderOutput(dataTable, element);\n",
              "          const docLink = document.createElement('div');\n",
              "          docLink.innerHTML = docLinkHtml;\n",
              "          element.appendChild(docLink);\n",
              "        }\n",
              "      </script>\n",
              "    </div>\n",
              "  </div>\n",
              "  "
            ]
          },
          "metadata": {},
          "execution_count": 8
        }
      ]
    },
    {
      "cell_type": "code",
      "source": [
        "gold"
      ],
      "metadata": {
        "colab": {
          "base_uri": "https://localhost:8080/",
          "height": 419
        },
        "id": "YWmKgEEm49Kr",
        "outputId": "5c945f80-50ad-4156-b9f6-9294f18969aa"
      },
      "execution_count": 9,
      "outputs": [
        {
          "output_type": "execute_result",
          "data": {
            "text/plain": [
              "         id category              aspect  start   end sentiment\n",
              "0      3976    Whole           ресторане     71    80   neutral\n",
              "1      3976    Whole          ресторанах    198   208   neutral\n",
              "2      3976    Whole           ресторане    256   265   neutral\n",
              "3      3976  Service  Столик бронировали    267   285   neutral\n",
              "4      3976  Service       администратор    322   335  positive\n",
              "...     ...      ...                 ...    ...   ...       ...\n",
              "1185  33043  Service               заказ    792   797  positive\n",
              "1186  33043  Service            принесли    798   806  positive\n",
              "1187  33043     Food         приготовили    880   891  positive\n",
              "1188  33043  Service             оставил   1017  1024  negative\n",
              "1189  33043    Whole               Шатер   1318  1323  positive\n",
              "\n",
              "[1190 rows x 6 columns]"
            ],
            "text/html": [
              "\n",
              "  <div id=\"df-db0403f1-1d42-4fe1-88a3-04a644d75c0c\">\n",
              "    <div class=\"colab-df-container\">\n",
              "      <div>\n",
              "<style scoped>\n",
              "    .dataframe tbody tr th:only-of-type {\n",
              "        vertical-align: middle;\n",
              "    }\n",
              "\n",
              "    .dataframe tbody tr th {\n",
              "        vertical-align: top;\n",
              "    }\n",
              "\n",
              "    .dataframe thead th {\n",
              "        text-align: right;\n",
              "    }\n",
              "</style>\n",
              "<table border=\"1\" class=\"dataframe\">\n",
              "  <thead>\n",
              "    <tr style=\"text-align: right;\">\n",
              "      <th></th>\n",
              "      <th>id</th>\n",
              "      <th>category</th>\n",
              "      <th>aspect</th>\n",
              "      <th>start</th>\n",
              "      <th>end</th>\n",
              "      <th>sentiment</th>\n",
              "    </tr>\n",
              "  </thead>\n",
              "  <tbody>\n",
              "    <tr>\n",
              "      <th>0</th>\n",
              "      <td>3976</td>\n",
              "      <td>Whole</td>\n",
              "      <td>ресторане</td>\n",
              "      <td>71</td>\n",
              "      <td>80</td>\n",
              "      <td>neutral</td>\n",
              "    </tr>\n",
              "    <tr>\n",
              "      <th>1</th>\n",
              "      <td>3976</td>\n",
              "      <td>Whole</td>\n",
              "      <td>ресторанах</td>\n",
              "      <td>198</td>\n",
              "      <td>208</td>\n",
              "      <td>neutral</td>\n",
              "    </tr>\n",
              "    <tr>\n",
              "      <th>2</th>\n",
              "      <td>3976</td>\n",
              "      <td>Whole</td>\n",
              "      <td>ресторане</td>\n",
              "      <td>256</td>\n",
              "      <td>265</td>\n",
              "      <td>neutral</td>\n",
              "    </tr>\n",
              "    <tr>\n",
              "      <th>3</th>\n",
              "      <td>3976</td>\n",
              "      <td>Service</td>\n",
              "      <td>Столик бронировали</td>\n",
              "      <td>267</td>\n",
              "      <td>285</td>\n",
              "      <td>neutral</td>\n",
              "    </tr>\n",
              "    <tr>\n",
              "      <th>4</th>\n",
              "      <td>3976</td>\n",
              "      <td>Service</td>\n",
              "      <td>администратор</td>\n",
              "      <td>322</td>\n",
              "      <td>335</td>\n",
              "      <td>positive</td>\n",
              "    </tr>\n",
              "    <tr>\n",
              "      <th>...</th>\n",
              "      <td>...</td>\n",
              "      <td>...</td>\n",
              "      <td>...</td>\n",
              "      <td>...</td>\n",
              "      <td>...</td>\n",
              "      <td>...</td>\n",
              "    </tr>\n",
              "    <tr>\n",
              "      <th>1185</th>\n",
              "      <td>33043</td>\n",
              "      <td>Service</td>\n",
              "      <td>заказ</td>\n",
              "      <td>792</td>\n",
              "      <td>797</td>\n",
              "      <td>positive</td>\n",
              "    </tr>\n",
              "    <tr>\n",
              "      <th>1186</th>\n",
              "      <td>33043</td>\n",
              "      <td>Service</td>\n",
              "      <td>принесли</td>\n",
              "      <td>798</td>\n",
              "      <td>806</td>\n",
              "      <td>positive</td>\n",
              "    </tr>\n",
              "    <tr>\n",
              "      <th>1187</th>\n",
              "      <td>33043</td>\n",
              "      <td>Food</td>\n",
              "      <td>приготовили</td>\n",
              "      <td>880</td>\n",
              "      <td>891</td>\n",
              "      <td>positive</td>\n",
              "    </tr>\n",
              "    <tr>\n",
              "      <th>1188</th>\n",
              "      <td>33043</td>\n",
              "      <td>Service</td>\n",
              "      <td>оставил</td>\n",
              "      <td>1017</td>\n",
              "      <td>1024</td>\n",
              "      <td>negative</td>\n",
              "    </tr>\n",
              "    <tr>\n",
              "      <th>1189</th>\n",
              "      <td>33043</td>\n",
              "      <td>Whole</td>\n",
              "      <td>Шатер</td>\n",
              "      <td>1318</td>\n",
              "      <td>1323</td>\n",
              "      <td>positive</td>\n",
              "    </tr>\n",
              "  </tbody>\n",
              "</table>\n",
              "<p>1190 rows × 6 columns</p>\n",
              "</div>\n",
              "      <button class=\"colab-df-convert\" onclick=\"convertToInteractive('df-db0403f1-1d42-4fe1-88a3-04a644d75c0c')\"\n",
              "              title=\"Convert this dataframe to an interactive table.\"\n",
              "              style=\"display:none;\">\n",
              "        \n",
              "  <svg xmlns=\"http://www.w3.org/2000/svg\" height=\"24px\"viewBox=\"0 0 24 24\"\n",
              "       width=\"24px\">\n",
              "    <path d=\"M0 0h24v24H0V0z\" fill=\"none\"/>\n",
              "    <path d=\"M18.56 5.44l.94 2.06.94-2.06 2.06-.94-2.06-.94-.94-2.06-.94 2.06-2.06.94zm-11 1L8.5 8.5l.94-2.06 2.06-.94-2.06-.94L8.5 2.5l-.94 2.06-2.06.94zm10 10l.94 2.06.94-2.06 2.06-.94-2.06-.94-.94-2.06-.94 2.06-2.06.94z\"/><path d=\"M17.41 7.96l-1.37-1.37c-.4-.4-.92-.59-1.43-.59-.52 0-1.04.2-1.43.59L10.3 9.45l-7.72 7.72c-.78.78-.78 2.05 0 2.83L4 21.41c.39.39.9.59 1.41.59.51 0 1.02-.2 1.41-.59l7.78-7.78 2.81-2.81c.8-.78.8-2.07 0-2.86zM5.41 20L4 18.59l7.72-7.72 1.47 1.35L5.41 20z\"/>\n",
              "  </svg>\n",
              "      </button>\n",
              "      \n",
              "  <style>\n",
              "    .colab-df-container {\n",
              "      display:flex;\n",
              "      flex-wrap:wrap;\n",
              "      gap: 12px;\n",
              "    }\n",
              "\n",
              "    .colab-df-convert {\n",
              "      background-color: #E8F0FE;\n",
              "      border: none;\n",
              "      border-radius: 50%;\n",
              "      cursor: pointer;\n",
              "      display: none;\n",
              "      fill: #1967D2;\n",
              "      height: 32px;\n",
              "      padding: 0 0 0 0;\n",
              "      width: 32px;\n",
              "    }\n",
              "\n",
              "    .colab-df-convert:hover {\n",
              "      background-color: #E2EBFA;\n",
              "      box-shadow: 0px 1px 2px rgba(60, 64, 67, 0.3), 0px 1px 3px 1px rgba(60, 64, 67, 0.15);\n",
              "      fill: #174EA6;\n",
              "    }\n",
              "\n",
              "    [theme=dark] .colab-df-convert {\n",
              "      background-color: #3B4455;\n",
              "      fill: #D2E3FC;\n",
              "    }\n",
              "\n",
              "    [theme=dark] .colab-df-convert:hover {\n",
              "      background-color: #434B5C;\n",
              "      box-shadow: 0px 1px 3px 1px rgba(0, 0, 0, 0.15);\n",
              "      filter: drop-shadow(0px 1px 2px rgba(0, 0, 0, 0.3));\n",
              "      fill: #FFFFFF;\n",
              "    }\n",
              "  </style>\n",
              "\n",
              "      <script>\n",
              "        const buttonEl =\n",
              "          document.querySelector('#df-db0403f1-1d42-4fe1-88a3-04a644d75c0c button.colab-df-convert');\n",
              "        buttonEl.style.display =\n",
              "          google.colab.kernel.accessAllowed ? 'block' : 'none';\n",
              "\n",
              "        async function convertToInteractive(key) {\n",
              "          const element = document.querySelector('#df-db0403f1-1d42-4fe1-88a3-04a644d75c0c');\n",
              "          const dataTable =\n",
              "            await google.colab.kernel.invokeFunction('convertToInteractive',\n",
              "                                                     [key], {});\n",
              "          if (!dataTable) return;\n",
              "\n",
              "          const docLinkHtml = 'Like what you see? Visit the ' +\n",
              "            '<a target=\"_blank\" href=https://colab.research.google.com/notebooks/data_table.ipynb>data table notebook</a>'\n",
              "            + ' to learn more about interactive tables.';\n",
              "          element.innerHTML = '';\n",
              "          dataTable['output_type'] = 'display_data';\n",
              "          await google.colab.output.renderOutput(dataTable, element);\n",
              "          const docLink = document.createElement('div');\n",
              "          docLink.innerHTML = docLinkHtml;\n",
              "          element.appendChild(docLink);\n",
              "        }\n",
              "      </script>\n",
              "    </div>\n",
              "  </div>\n",
              "  "
            ]
          },
          "metadata": {},
          "execution_count": 9
        }
      ]
    },
    {
      "cell_type": "markdown",
      "source": [
        "Лемматизируем аспекты"
      ],
      "metadata": {
        "id": "HYPMsXOAc0xt"
      }
    },
    {
      "cell_type": "code",
      "source": [
        "gold['lemmas'] = gold.apply(lambda x: \" \".join([token.lemma_ for token in nlp(x['aspect'])]), axis = 1)"
      ],
      "metadata": {
        "id": "96IxkxnpINB3"
      },
      "execution_count": 10,
      "outputs": []
    },
    {
      "cell_type": "code",
      "source": [
        "pred = []\n",
        "for aspect in gold['lemmas']:\n",
        "  score_dict = {'positive': 0, 'negative': 0, 'neutral': 0, 'both': 0}\n",
        "  for lemma in aspect.split(' '):\n",
        "    try:\n",
        "      scores = sent_dict[sent_dict['term'] == lemma][['pstv', 'ngtv', 'neut', 'dunno']]\n",
        "      score_dict['positive'] += float(scores['pstv'])\n",
        "      score_dict['negative'] += float(scores['ngtv'])\n",
        "      score_dict['neutral'] += float(scores['neut'])\n",
        "      score_dict['both'] += float(scores['dunno'])\n",
        "    except:\n",
        "      continue\n",
        "  pred.append(max(score_dict, key=score_dict.get))"
      ],
      "metadata": {
        "id": "eGAMwBUdInaJ"
      },
      "execution_count": 19,
      "outputs": []
    },
    {
      "cell_type": "code",
      "source": [
        "gold['pred'] = pred"
      ],
      "metadata": {
        "id": "fPvW3W7dV80e"
      },
      "execution_count": 20,
      "outputs": []
    },
    {
      "cell_type": "code",
      "source": [
        "print(\"Accuracy: %.4f\" % accuracy_score(list(gold['pred']), list(gold['sentiment'])))"
      ],
      "metadata": {
        "colab": {
          "base_uri": "https://localhost:8080/"
        },
        "id": "F4F59lCpW3uP",
        "outputId": "d8f522cb-caa7-41f8-9235-92cf47851119"
      },
      "execution_count": 21,
      "outputs": [
        {
          "output_type": "stream",
          "name": "stdout",
          "text": [
            "Accuracy: 0.2908\n"
          ]
        }
      ]
    },
    {
      "cell_type": "markdown",
      "source": [
        "# Попробуем еще раз. \n",
        "Будем смотреть на то, за какую тональность больше голосов, а также сравнивать голоса за негативную и положительную оценку: если разница будет меньше 0.05, то есть одного процента, а нейтральная оценка будет не больше 50%, то будет присваивать \"both\""
      ],
      "metadata": {
        "id": "u58N_Raybu_h"
      }
    },
    {
      "cell_type": "code",
      "source": [
        "pred = []\n",
        "for aspect in gold['lemmas']:\n",
        "  score_dict = {'positive': 0, 'negative': 0, 'neutral': 0, 'both': 0}\n",
        "  len_aspect = len(aspect.split(' '))\n",
        "  for lemma in aspect.split(' '):\n",
        "    try:\n",
        "      scores = sent_dict[sent_dict['term'] == lemma][['pstv', 'ngtv', 'neut', 'dunno']]\n",
        "      score_dict['positive'] += float(scores['pstv'])\n",
        "      score_dict['negative'] += float(scores['ngtv'])\n",
        "      score_dict['neutral'] += float(scores['neut'])\n",
        "      score_dict['both'] += float(scores['dunno'])\n",
        "    except:\n",
        "      continue\n",
        "  score_dict['positive'] = score_dict['positive'] / len_aspect\n",
        "  score_dict['negative'] = score_dict['negative'] / len_aspect\n",
        "  score_dict['neutral'] = score_dict['neutral'] / len_aspect\n",
        "  score_dict['both'] = score_dict['both'] / len_aspect\n",
        "  \n",
        "  if abs(score_dict['positive'] - score_dict['negative']) < 0.05 and score_dict['both'] < 0.5:\n",
        "    pred.append('both')\n",
        "  else:\n",
        "    pred.append(max(score_dict, key=score_dict.get))"
      ],
      "metadata": {
        "id": "wXXwnFoDbuJE"
      },
      "execution_count": 17,
      "outputs": []
    },
    {
      "cell_type": "code",
      "source": [
        "print(\"Accuracy: %.4f\" % accuracy_score(pred, list(gold['sentiment'])))"
      ],
      "metadata": {
        "colab": {
          "base_uri": "https://localhost:8080/"
        },
        "id": "nfAOdbIofRbN",
        "outputId": "3ef42c9f-9f7a-4f36-d54f-fd4962c92ff5"
      },
      "execution_count": 18,
      "outputs": [
        {
          "output_type": "stream",
          "name": "stdout",
          "text": [
            "Accuracy: 0.2420\n"
          ]
        }
      ]
    },
    {
      "cell_type": "markdown",
      "source": [
        "Стало хуже... "
      ],
      "metadata": {
        "id": "4ymHavdefXRN"
      }
    },
    {
      "cell_type": "markdown",
      "source": [
        "Давайте посмотрим на первое слово"
      ],
      "metadata": {
        "id": "V8Jf1ySgg4uT"
      }
    },
    {
      "cell_type": "code",
      "source": [
        "pred = []\n",
        "for aspect in gold['lemmas']:\n",
        "  score_dict = {'positive': 0, 'negative': 0, 'neutral': 0, 'both': 0}\n",
        "  len_aspect = len(aspect.split(' '))\n",
        "  lemma = aspect.split(' ')[0]\n",
        "  try:\n",
        "    scores = sent_dict[sent_dict['term'] == lemma][['pstv', 'ngtv', 'neut', 'dunno']]\n",
        "    score_dict['positive'] += float(scores['pstv'])\n",
        "    score_dict['negative'] += float(scores['ngtv'])\n",
        "    score_dict['neutral'] += float(scores['neut'])\n",
        "    score_dict['both'] += float(scores['dunno'])\n",
        "    if abs(score_dict['positive'] - score_dict['negative']) < 0.05 and score_dict['both'] < 0.5:\n",
        "      pred.append('both')\n",
        "    else:\n",
        "      pred.append(max(score_dict, key=score_dict.get))\n",
        "  except:\n",
        "    pred.append('neut')  "
      ],
      "metadata": {
        "id": "qazpFQx-jSje"
      },
      "execution_count": 31,
      "outputs": []
    },
    {
      "cell_type": "code",
      "source": [
        "print(\"Accuracy: %.4f\" % accuracy_score(pred, list(gold['sentiment'])))"
      ],
      "metadata": {
        "colab": {
          "base_uri": "https://localhost:8080/"
        },
        "id": "BNEV5NfRjuU_",
        "outputId": "ab749ae5-f37a-4044-ad22-ee96c2658bc7"
      },
      "execution_count": 32,
      "outputs": [
        {
          "output_type": "stream",
          "name": "stdout",
          "text": [
            "Accuracy: 0.2387\n"
          ]
        }
      ]
    },
    {
      "cell_type": "markdown",
      "source": [
        "## Проблемы метода. \n",
        "- в словаре нет необходимой нам разметки \"both\" или ей подобной, поэтому разметка аспектов осложняется\n",
        "- если смотреть на value слова в словаре, то мы никак не будем различать \"neutral\" и \"both\"\n",
        "- словарь не контекстно зависимый, поэтому многие оценки очевидно не соотвествуют нашим данным. Так, например, прилагательное \"высокий\" имеет нейтральную оценку, а количество голосов за положительную оценку опережает количество за отрицательную. Однако, в нашем случае \"высокая цена\" будет иметь скорее отрицательную коннатацию, а \"высокий уровень обслуживания\" - положительную. \n"
      ],
      "metadata": {
        "id": "WTaI7Bx4kPfg"
      }
    }
  ]
}