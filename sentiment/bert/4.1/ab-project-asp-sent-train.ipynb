{
 "cells": [
  {
   "cell_type": "markdown",
   "metadata": {},
   "source": [
    "### 1. Подготовка данных"
   ]
  },
  {
   "cell_type": "code",
   "execution_count": null,
   "metadata": {
    "execution": {
     "iopub.execute_input": "2022-12-27T23:38:36.111665Z",
     "iopub.status.busy": "2022-12-27T23:38:36.110681Z",
     "iopub.status.idle": "2022-12-27T23:38:38.061514Z",
     "shell.execute_reply": "2022-12-27T23:38:38.060331Z",
     "shell.execute_reply.started": "2022-12-27T23:38:36.111530Z"
    }
   },
   "outputs": [],
   "source": [
    "import pandas as pd\n",
    "import re\n",
    "import torch"
   ]
  },
  {
   "cell_type": "code",
   "execution_count": null,
   "metadata": {
    "execution": {
     "iopub.execute_input": "2022-12-27T23:57:35.755850Z",
     "iopub.status.busy": "2022-12-27T23:57:35.750598Z",
     "iopub.status.idle": "2022-12-27T23:57:35.787414Z",
     "shell.execute_reply": "2022-12-27T23:57:35.786562Z",
     "shell.execute_reply.started": "2022-12-27T23:57:35.755813Z"
    }
   },
   "outputs": [],
   "source": [
    "train_text = pd.read_csv('/kaggle/input/ab-project/ab_train_reviews.txt', sep = '\\t', header=None)\n",
    "train_asp = pd.read_csv('/kaggle/input/ab-project/train_aspects.txt', sep = '\\t', header=None)"
   ]
  },
  {
   "cell_type": "code",
   "execution_count": null,
   "metadata": {
    "execution": {
     "iopub.execute_input": "2022-12-28T00:15:42.021907Z",
     "iopub.status.busy": "2022-12-28T00:15:42.021477Z",
     "iopub.status.idle": "2022-12-28T00:15:42.027096Z",
     "shell.execute_reply": "2022-12-28T00:15:42.025834Z",
     "shell.execute_reply.started": "2022-12-28T00:15:42.021871Z"
    }
   },
   "outputs": [],
   "source": [
    "from tqdm import tqdm"
   ]
  },
  {
   "cell_type": "code",
   "execution_count": null,
   "metadata": {
    "execution": {
     "iopub.execute_input": "2022-12-28T00:19:58.029476Z",
     "iopub.status.busy": "2022-12-28T00:19:58.029078Z",
     "iopub.status.idle": "2022-12-28T00:20:00.193398Z",
     "shell.execute_reply": "2022-12-28T00:20:00.192486Z",
     "shell.execute_reply.started": "2022-12-28T00:19:58.029441Z"
    }
   },
   "outputs": [],
   "source": [
    "res = []\n",
    "asp_vals = train_asp.values\n",
    "for i in tqdm(range(len(train_asp))):\n",
    "    \n",
    "    id_ = asp_vals[i][0]\n",
    "    text = train_text[train_text[0]==id_][1].values[0]\n",
    "    \n",
    "    w = asp_vals[i][2]\n",
    "    qw = '@q@ ' + w + ' @q@'\n",
    "    \n",
    "    ln = [qw + ' ' + text]\n",
    "    res.extend(ln)\n"
   ]
  },
  {
   "cell_type": "code",
   "execution_count": null,
   "metadata": {
    "execution": {
     "iopub.execute_input": "2022-12-28T00:21:13.010847Z",
     "iopub.status.busy": "2022-12-28T00:21:13.010474Z",
     "iopub.status.idle": "2022-12-28T00:21:13.017759Z",
     "shell.execute_reply": "2022-12-28T00:21:13.016790Z",
     "shell.execute_reply.started": "2022-12-28T00:21:13.010817Z"
    }
   },
   "outputs": [],
   "source": [
    "ls = pd.get_dummies(train_asp[5]).astype('float')"
   ]
  },
  {
   "cell_type": "markdown",
   "metadata": {},
   "source": [
    "### 2. Bert f-t"
   ]
  },
  {
   "cell_type": "code",
   "execution_count": null,
   "metadata": {
    "execution": {
     "iopub.execute_input": "2022-12-28T00:21:51.155674Z",
     "iopub.status.busy": "2022-12-28T00:21:51.155278Z",
     "iopub.status.idle": "2022-12-28T00:22:19.460812Z",
     "shell.execute_reply": "2022-12-28T00:22:19.459642Z",
     "shell.execute_reply.started": "2022-12-28T00:21:51.155637Z"
    }
   },
   "outputs": [],
   "source": [
    "from transformers import AutoTokenizer, AutoModelForSequenceClassification\n",
    "\n",
    "tokenizer = AutoTokenizer.from_pretrained('sberbank-ai/ruBert-base')\n",
    "model = AutoModelForSequenceClassification.from_pretrained('sberbank-ai/ruBert-base', num_labels=4).to('cuda')"
   ]
  },
  {
   "cell_type": "code",
   "execution_count": null,
   "metadata": {
    "execution": {
     "iopub.execute_input": "2022-12-28T00:22:53.766663Z",
     "iopub.status.busy": "2022-12-28T00:22:53.765485Z",
     "iopub.status.idle": "2022-12-28T00:23:03.181998Z",
     "shell.execute_reply": "2022-12-28T00:23:03.180872Z",
     "shell.execute_reply.started": "2022-12-28T00:22:53.766586Z"
    }
   },
   "outputs": [],
   "source": [
    "pip install evaluate --quiet"
   ]
  },
  {
   "cell_type": "code",
   "execution_count": null,
   "metadata": {
    "execution": {
     "iopub.execute_input": "2022-12-28T00:23:16.637474Z",
     "iopub.status.busy": "2022-12-28T00:23:16.637088Z",
     "iopub.status.idle": "2022-12-28T00:23:24.077376Z",
     "shell.execute_reply": "2022-12-28T00:23:24.076395Z",
     "shell.execute_reply.started": "2022-12-28T00:23:16.637437Z"
    }
   },
   "outputs": [],
   "source": [
    "import torch\n",
    "from transformers import TrainingArguments, Trainer\n",
    "from torch.utils.data import TensorDataset, DataLoader, RandomSampler, SequentialSampler\n",
    "from sklearn.model_selection import train_test_split\n",
    "\n",
    "import pandas as pd\n",
    "import numpy as np\n",
    "import evaluate"
   ]
  },
  {
   "cell_type": "code",
   "execution_count": null,
   "metadata": {
    "execution": {
     "iopub.execute_input": "2022-12-28T00:23:50.026978Z",
     "iopub.status.busy": "2022-12-28T00:23:50.026584Z",
     "iopub.status.idle": "2022-12-28T00:23:50.046526Z",
     "shell.execute_reply": "2022-12-28T00:23:50.045550Z",
     "shell.execute_reply.started": "2022-12-28T00:23:50.026945Z"
    }
   },
   "outputs": [],
   "source": [
    "vals = ls.values\n",
    "labels = torch.tensor(vals)\n",
    "X_train, X_test, y_train, y_test = train_test_split(res, labels, test_size = 0.25, random_state=666, shuffle=True )"
   ]
  },
  {
   "cell_type": "code",
   "execution_count": null,
   "metadata": {
    "execution": {
     "iopub.execute_input": "2022-12-28T00:24:00.233208Z",
     "iopub.status.busy": "2022-12-28T00:24:00.232485Z",
     "iopub.status.idle": "2022-12-28T00:24:00.238321Z",
     "shell.execute_reply": "2022-12-28T00:24:00.237356Z",
     "shell.execute_reply.started": "2022-12-28T00:24:00.233170Z"
    }
   },
   "outputs": [],
   "source": [
    "def prep(text, tokenizer=tokenizer):\n",
    "    return tokenizer(text, padding = 'max_length', max_length = 128, truncation=True, return_tensors='pt')"
   ]
  },
  {
   "cell_type": "code",
   "execution_count": null,
   "metadata": {
    "execution": {
     "iopub.execute_input": "2022-12-28T00:24:09.315939Z",
     "iopub.status.busy": "2022-12-28T00:24:09.314670Z",
     "iopub.status.idle": "2022-12-28T00:24:12.587416Z",
     "shell.execute_reply": "2022-12-28T00:24:12.586409Z",
     "shell.execute_reply.started": "2022-12-28T00:24:09.315886Z"
    }
   },
   "outputs": [],
   "source": [
    "X_train = prep(X_train)\n",
    "X_test = prep(X_test)"
   ]
  },
  {
   "cell_type": "code",
   "execution_count": null,
   "metadata": {
    "execution": {
     "iopub.execute_input": "2022-12-28T00:24:15.419659Z",
     "iopub.status.busy": "2022-12-28T00:24:15.419271Z",
     "iopub.status.idle": "2022-12-28T00:24:15.429030Z",
     "shell.execute_reply": "2022-12-28T00:24:15.427914Z",
     "shell.execute_reply.started": "2022-12-28T00:24:15.419620Z"
    }
   },
   "outputs": [],
   "source": [
    "class TextDataset(torch.utils.data.Dataset):\n",
    "    def __init__(self, encodings, labels):\n",
    "        self.encodings = encodings\n",
    "        self.labels = torch.tensor(labels)\n",
    "\n",
    "    def __getitem__(self, idx):\n",
    "        item = {key: torch.tensor(val[idx]) for key, val in self.encodings.items()}\n",
    "        item['labels'] = torch.tensor(self.labels[idx])\n",
    "        return item\n",
    "\n",
    "    def __len__(self):\n",
    "        return len(self.labels)\n",
    "\n",
    "train_dataset = TextDataset(X_train, y_train)\n",
    "val_dataset = TextDataset(X_test, y_test)\n"
   ]
  },
  {
   "cell_type": "code",
   "execution_count": null,
   "metadata": {
    "execution": {
     "iopub.execute_input": "2022-12-28T00:24:16.956101Z",
     "iopub.status.busy": "2022-12-28T00:24:16.955742Z",
     "iopub.status.idle": "2022-12-28T00:24:18.045543Z",
     "shell.execute_reply": "2022-12-28T00:24:18.044712Z",
     "shell.execute_reply.started": "2022-12-28T00:24:16.956071Z"
    }
   },
   "outputs": [],
   "source": [
    "metric = evaluate.load(\"accuracy\")"
   ]
  },
  {
   "cell_type": "code",
   "execution_count": null,
   "metadata": {
    "execution": {
     "iopub.execute_input": "2022-12-28T00:34:58.228445Z",
     "iopub.status.busy": "2022-12-28T00:34:58.227742Z",
     "iopub.status.idle": "2022-12-28T00:34:58.236923Z",
     "shell.execute_reply": "2022-12-28T00:34:58.235659Z",
     "shell.execute_reply.started": "2022-12-28T00:34:58.228408Z"
    }
   },
   "outputs": [],
   "source": [
    "def compute_metrics(eval_pred):\n",
    "    logits, labels = eval_pred\n",
    "    predictions = np.argmax(logits, axis=-1)\n",
    "    labels_ = [np.argmax(i) for i in labels]\n",
    "    return metric.compute(predictions=predictions, references=labels_)"
   ]
  },
  {
   "cell_type": "code",
   "execution_count": null,
   "metadata": {
    "execution": {
     "iopub.execute_input": "2022-12-28T00:45:32.665528Z",
     "iopub.status.busy": "2022-12-28T00:45:32.665148Z",
     "iopub.status.idle": "2022-12-28T00:45:32.677080Z",
     "shell.execute_reply": "2022-12-28T00:45:32.676077Z",
     "shell.execute_reply.started": "2022-12-28T00:45:32.665491Z"
    }
   },
   "outputs": [],
   "source": [
    "training_args = TrainingArguments(output_dir=\"./ab_bert_asp\", \n",
    "                                  evaluation_strategy=\"epoch\",\n",
    "                                  per_device_train_batch_size = 8,\n",
    "                                  per_device_eval_batch_size = 8,\n",
    "                                  save_strategy = 'epoch',\n",
    "                                  num_train_epochs=5)"
   ]
  },
  {
   "cell_type": "code",
   "execution_count": null,
   "metadata": {
    "execution": {
     "iopub.execute_input": "2022-12-28T00:45:35.472781Z",
     "iopub.status.busy": "2022-12-28T00:45:35.472380Z",
     "iopub.status.idle": "2022-12-28T00:45:35.490839Z",
     "shell.execute_reply": "2022-12-28T00:45:35.489685Z",
     "shell.execute_reply.started": "2022-12-28T00:45:35.472746Z"
    }
   },
   "outputs": [],
   "source": [
    "trainer = Trainer(\n",
    "    model=model,\n",
    "    args=training_args,\n",
    "    train_dataset=train_dataset,\n",
    "    eval_dataset=val_dataset,\n",
    "    compute_metrics=compute_metrics,\n",
    ")"
   ]
  },
  {
   "cell_type": "code",
   "execution_count": null,
   "metadata": {
    "execution": {
     "iopub.execute_input": "2022-12-28T00:45:40.374196Z",
     "iopub.status.busy": "2022-12-28T00:45:40.373459Z",
     "iopub.status.idle": "2022-12-28T00:52:19.187195Z",
     "shell.execute_reply": "2022-12-28T00:52:19.186264Z",
     "shell.execute_reply.started": "2022-12-28T00:45:40.374158Z"
    }
   },
   "outputs": [],
   "source": [
    "trainer.train()"
   ]
  }
 ],
 "metadata": {
  "kernelspec": {
   "display_name": "Python 3 (ipykernel)",
   "language": "python",
   "name": "python3"
  },
  "language_info": {
   "codemirror_mode": {
    "name": "ipython",
    "version": 3
   },
   "file_extension": ".py",
   "mimetype": "text/x-python",
   "name": "python",
   "nbconvert_exporter": "python",
   "pygments_lexer": "ipython3",
   "version": "3.10.6"
  }
 },
 "nbformat": 4,
 "nbformat_minor": 4
}
