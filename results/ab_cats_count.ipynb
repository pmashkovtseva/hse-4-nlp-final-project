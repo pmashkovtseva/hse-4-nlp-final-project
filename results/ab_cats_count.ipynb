{
 "cells": [
  {
   "cell_type": "code",
   "execution_count": 53,
   "id": "2693fbe7",
   "metadata": {},
   "outputs": [],
   "source": [
    "import pandas as pd\n",
    "from collections import Counter as c\n",
    "import numpy as np"
   ]
  },
  {
   "cell_type": "code",
   "execution_count": 54,
   "id": "df275f3e",
   "metadata": {},
   "outputs": [],
   "source": [
    "df = pd.read_csv('ab_pred_asp_cats.csv') # файл с сентиментом для эксплицитных аспектов\n",
    "gold = pd.read_csv('ab_dev_cats.txt', sep='\\t', header=None) # таргет"
   ]
  },
  {
   "cell_type": "code",
   "execution_count": 77,
   "id": "9312a218",
   "metadata": {},
   "outputs": [],
   "source": [
    "def switch(labs): # приоритеты при равных скорах\n",
    "    if 'negative' in labs and 'positive' in labs:\n",
    "        return 'both'\n",
    "    elif 'positive' in labs:\n",
    "        return 'positive'\n",
    "    elif 'negative' in labs:\n",
    "        return 'negative'\n",
    "    elif 'both' in labs:\n",
    "        return 'both'\n",
    "    elif 'neutral' in labs:\n",
    "        return 'neutral'\n",
    "    "
   ]
  },
  {
   "cell_type": "code",
   "execution_count": 79,
   "id": "965ff56a",
   "metadata": {},
   "outputs": [],
   "source": [
    "def cats_from_asp(df, gold):\n",
    "    vals = df.values\n",
    "    d = {}\n",
    "\n",
    "    for i in vals:\n",
    "        if not i[0] in d:\n",
    "            d[i[0]] = [(i[1], i[5])]\n",
    "        else:\n",
    "            d[i[0]].append((i[1], i[5]))\n",
    "\n",
    "\n",
    "    for i in d:\n",
    "        d[i] = dict(c(d[i]))\n",
    "        \n",
    "        \n",
    "    res = []\n",
    "    cats = gold[1].unique().tolist()\n",
    "    for i in d:\n",
    "        id_ = i\n",
    "        for j in cats:\n",
    "            grades = [k for k in d[i] if k[0]==j]\n",
    "\n",
    "            if not grades:\n",
    "                ln = [id_, j, 'absence']\n",
    "            else:\n",
    "                scores = np.asarray([d[i][k] for k in grades])  # приписывается самая частая метка категории     \n",
    "                idx = np.argmax(scores)\n",
    "                \n",
    "                labs = [k[1] for k in grades if d[i][k]==scores[idx]]\n",
    "                if len(labs)==1:\n",
    "                    sent = grades[idx][1]\n",
    "                    ln = [id_, j, sent]\n",
    "                else:\n",
    "                    fl = switch(labs)\n",
    "                    ln = [id_, j, fl]\n",
    "\n",
    "            res.append(ln)\n",
    "            \n",
    "    out_df = pd.DataFrame(res, columns = ['id', 'cat', 'sent'])\n",
    "    return out_df\n"
   ]
  },
  {
   "cell_type": "code",
   "execution_count": 81,
   "id": "23aa31e0",
   "metadata": {},
   "outputs": [
    {
     "name": "stdout",
     "output_type": "stream",
     "text": [
      "acc: 0.7830985915492957\n"
     ]
    }
   ],
   "source": [
    "from sklearn.metrics import accuracy_score\n",
    "out_df = cats_from_asp(df, gold)\n",
    "a = accuracy_score(gold[2].tolist(), out_df['sent'].tolist())\n",
    "print(f'acc: {a}')"
   ]
  }
 ],
 "metadata": {
  "kernelspec": {
   "display_name": "Python 3 (ipykernel)",
   "language": "python",
   "name": "python3"
  },
  "language_info": {
   "codemirror_mode": {
    "name": "ipython",
    "version": 3
   },
   "file_extension": ".py",
   "mimetype": "text/x-python",
   "name": "python",
   "nbconvert_exporter": "python",
   "pygments_lexer": "ipython3",
   "version": "3.9.12"
  }
 },
 "nbformat": 4,
 "nbformat_minor": 5
}
