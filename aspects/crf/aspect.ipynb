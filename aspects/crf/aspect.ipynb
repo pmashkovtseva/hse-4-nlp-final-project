{
  "cells": [
    {
      "cell_type": "markdown",
      "metadata": {
        "id": "XHej93PiyvHK"
      },
      "source": [
        "# Аспектный анализ тональности текстов"
      ]
    },
    {
      "cell_type": "markdown",
      "metadata": {
        "id": "BhJMZlcAyvHS"
      },
      "source": [
        "* [1] https://github.com/nlpub/pymystem3\n",
        "* [2] SentiRuEval2015\n",
        "* [3] https://rusvectores.org/ru/models/"
      ]
    },
    {
      "cell_type": "code",
      "execution_count": null,
      "metadata": {
        "id": "o3cup2SeyvHX",
        "colab": {
          "base_uri": "https://localhost:8080/"
        },
        "outputId": "8c539c14-ef25-4689-8e68-1cea7dfac3a1"
      },
      "outputs": [
        {
          "output_type": "stream",
          "name": "stdout",
          "text": [
            "Cloning into 'stepik-dl-nlp'...\n",
            "remote: Enumerating objects: 293, done.\u001b[K\n",
            "remote: Total 293 (delta 0), reused 0 (delta 0), pack-reused 293\u001b[K\n",
            "Receiving objects: 100% (293/293), 42.29 MiB | 18.67 MiB/s, done.\n",
            "Resolving deltas: 100% (134/134), done.\n",
            "Looking in indexes: https://pypi.org/simple, https://us-python.pkg.dev/colab-wheels/public/simple/\n",
            "Requirement already satisfied: scikit-learn in /usr/local/lib/python3.8/dist-packages (from -r stepik-dl-nlp/requirements.txt (line 1)) (1.0.2)\n",
            "Collecting spacy-udpipe\n",
            "  Downloading spacy_udpipe-1.0.0-py3-none-any.whl (11 kB)\n",
            "Collecting pymorphy2\n",
            "  Downloading pymorphy2-0.9.1-py3-none-any.whl (55 kB)\n",
            "\u001b[K     |████████████████████████████████| 55 kB 2.2 MB/s \n",
            "\u001b[?25hRequirement already satisfied: torch>=1.2 in /usr/local/lib/python3.8/dist-packages (from -r stepik-dl-nlp/requirements.txt (line 4)) (1.13.0+cu116)\n",
            "Requirement already satisfied: matplotlib in /usr/local/lib/python3.8/dist-packages (from -r stepik-dl-nlp/requirements.txt (line 5)) (3.2.2)\n",
            "Collecting ipymarkup\n",
            "  Downloading ipymarkup-0.9.0-py3-none-any.whl (14 kB)\n",
            "Requirement already satisfied: lxml in /usr/local/lib/python3.8/dist-packages (from -r stepik-dl-nlp/requirements.txt (line 7)) (4.9.2)\n",
            "Requirement already satisfied: scipy in /usr/local/lib/python3.8/dist-packages (from -r stepik-dl-nlp/requirements.txt (line 8)) (1.7.3)\n",
            "Requirement already satisfied: pandas in /usr/local/lib/python3.8/dist-packages (from -r stepik-dl-nlp/requirements.txt (line 9)) (1.3.5)\n",
            "Requirement already satisfied: tqdm in /usr/local/lib/python3.8/dist-packages (from -r stepik-dl-nlp/requirements.txt (line 10)) (4.64.1)\n",
            "Collecting youtokentome\n",
            "  Downloading youtokentome-1.0.6-cp38-cp38-manylinux2010_x86_64.whl (1.7 MB)\n",
            "\u001b[K     |████████████████████████████████| 1.7 MB 47.7 MB/s \n",
            "\u001b[?25hRequirement already satisfied: seaborn in /usr/local/lib/python3.8/dist-packages (from -r stepik-dl-nlp/requirements.txt (line 12)) (0.11.2)\n",
            "Requirement already satisfied: ipykernel in /usr/local/lib/python3.8/dist-packages (from -r stepik-dl-nlp/requirements.txt (line 13)) (5.3.4)\n",
            "Requirement already satisfied: ipython in /usr/local/lib/python3.8/dist-packages (from -r stepik-dl-nlp/requirements.txt (line 14)) (7.9.0)\n",
            "Collecting pyconll\n",
            "  Downloading pyconll-3.1.0-py3-none-any.whl (26 kB)\n",
            "Collecting gensim==3.8.1\n",
            "  Downloading gensim-3.8.1.tar.gz (23.4 MB)\n",
            "\u001b[K     |████████████████████████████████| 23.4 MB 4.9 MB/s \n",
            "\u001b[?25hCollecting wget\n",
            "  Downloading wget-3.2.zip (10 kB)\n",
            "Collecting livelossplot==0.5.3\n",
            "  Downloading livelossplot-0.5.3-py3-none-any.whl (30 kB)\n",
            "Requirement already satisfied: numpy>=1.11.3 in /usr/local/lib/python3.8/dist-packages (from gensim==3.8.1->-r stepik-dl-nlp/requirements.txt (line 16)) (1.21.6)\n",
            "Requirement already satisfied: six>=1.5.0 in /usr/local/lib/python3.8/dist-packages (from gensim==3.8.1->-r stepik-dl-nlp/requirements.txt (line 16)) (1.15.0)\n",
            "Requirement already satisfied: smart_open>=1.8.1 in /usr/local/lib/python3.8/dist-packages (from gensim==3.8.1->-r stepik-dl-nlp/requirements.txt (line 16)) (6.3.0)\n",
            "Requirement already satisfied: bokeh in /usr/local/lib/python3.8/dist-packages (from livelossplot==0.5.3->-r stepik-dl-nlp/requirements.txt (line 18)) (2.3.3)\n",
            "Requirement already satisfied: typing-extensions in /usr/local/lib/python3.8/dist-packages (from torch>=1.2->-r stepik-dl-nlp/requirements.txt (line 4)) (4.4.0)\n",
            "Requirement already satisfied: threadpoolctl>=2.0.0 in /usr/local/lib/python3.8/dist-packages (from scikit-learn->-r stepik-dl-nlp/requirements.txt (line 1)) (3.1.0)\n",
            "Requirement already satisfied: joblib>=0.11 in /usr/local/lib/python3.8/dist-packages (from scikit-learn->-r stepik-dl-nlp/requirements.txt (line 1)) (1.2.0)\n",
            "Requirement already satisfied: spacy<4.0.0,>=3.0.0 in /usr/local/lib/python3.8/dist-packages (from spacy-udpipe->-r stepik-dl-nlp/requirements.txt (line 2)) (3.4.4)\n",
            "Collecting ufal.udpipe>=1.2.0\n",
            "  Downloading ufal.udpipe-1.2.0.3.tar.gz (304 kB)\n",
            "\u001b[K     |████████████████████████████████| 304 kB 68.0 MB/s \n",
            "\u001b[?25hRequirement already satisfied: packaging>=20.0 in /usr/local/lib/python3.8/dist-packages (from spacy<4.0.0,>=3.0.0->spacy-udpipe->-r stepik-dl-nlp/requirements.txt (line 2)) (21.3)\n",
            "Requirement already satisfied: setuptools in /usr/local/lib/python3.8/dist-packages (from spacy<4.0.0,>=3.0.0->spacy-udpipe->-r stepik-dl-nlp/requirements.txt (line 2)) (57.4.0)\n",
            "Requirement already satisfied: jinja2 in /usr/local/lib/python3.8/dist-packages (from spacy<4.0.0,>=3.0.0->spacy-udpipe->-r stepik-dl-nlp/requirements.txt (line 2)) (2.11.3)\n",
            "Requirement already satisfied: typer<0.8.0,>=0.3.0 in /usr/local/lib/python3.8/dist-packages (from spacy<4.0.0,>=3.0.0->spacy-udpipe->-r stepik-dl-nlp/requirements.txt (line 2)) (0.7.0)\n",
            "Requirement already satisfied: srsly<3.0.0,>=2.4.3 in /usr/local/lib/python3.8/dist-packages (from spacy<4.0.0,>=3.0.0->spacy-udpipe->-r stepik-dl-nlp/requirements.txt (line 2)) (2.4.5)\n",
            "Requirement already satisfied: spacy-loggers<2.0.0,>=1.0.0 in /usr/local/lib/python3.8/dist-packages (from spacy<4.0.0,>=3.0.0->spacy-udpipe->-r stepik-dl-nlp/requirements.txt (line 2)) (1.0.4)\n",
            "Requirement already satisfied: catalogue<2.1.0,>=2.0.6 in /usr/local/lib/python3.8/dist-packages (from spacy<4.0.0,>=3.0.0->spacy-udpipe->-r stepik-dl-nlp/requirements.txt (line 2)) (2.0.8)\n",
            "Requirement already satisfied: requests<3.0.0,>=2.13.0 in /usr/local/lib/python3.8/dist-packages (from spacy<4.0.0,>=3.0.0->spacy-udpipe->-r stepik-dl-nlp/requirements.txt (line 2)) (2.23.0)\n",
            "Requirement already satisfied: murmurhash<1.1.0,>=0.28.0 in /usr/local/lib/python3.8/dist-packages (from spacy<4.0.0,>=3.0.0->spacy-udpipe->-r stepik-dl-nlp/requirements.txt (line 2)) (1.0.9)\n",
            "Requirement already satisfied: thinc<8.2.0,>=8.1.0 in /usr/local/lib/python3.8/dist-packages (from spacy<4.0.0,>=3.0.0->spacy-udpipe->-r stepik-dl-nlp/requirements.txt (line 2)) (8.1.5)\n",
            "Requirement already satisfied: preshed<3.1.0,>=3.0.2 in /usr/local/lib/python3.8/dist-packages (from spacy<4.0.0,>=3.0.0->spacy-udpipe->-r stepik-dl-nlp/requirements.txt (line 2)) (3.0.8)\n",
            "Requirement already satisfied: pydantic!=1.8,!=1.8.1,<1.11.0,>=1.7.4 in /usr/local/lib/python3.8/dist-packages (from spacy<4.0.0,>=3.0.0->spacy-udpipe->-r stepik-dl-nlp/requirements.txt (line 2)) (1.10.2)\n",
            "Requirement already satisfied: pathy>=0.3.5 in /usr/local/lib/python3.8/dist-packages (from spacy<4.0.0,>=3.0.0->spacy-udpipe->-r stepik-dl-nlp/requirements.txt (line 2)) (0.10.1)\n",
            "Requirement already satisfied: wasabi<1.1.0,>=0.9.1 in /usr/local/lib/python3.8/dist-packages (from spacy<4.0.0,>=3.0.0->spacy-udpipe->-r stepik-dl-nlp/requirements.txt (line 2)) (0.10.1)\n",
            "Requirement already satisfied: langcodes<4.0.0,>=3.2.0 in /usr/local/lib/python3.8/dist-packages (from spacy<4.0.0,>=3.0.0->spacy-udpipe->-r stepik-dl-nlp/requirements.txt (line 2)) (3.3.0)\n",
            "Requirement already satisfied: spacy-legacy<3.1.0,>=3.0.10 in /usr/local/lib/python3.8/dist-packages (from spacy<4.0.0,>=3.0.0->spacy-udpipe->-r stepik-dl-nlp/requirements.txt (line 2)) (3.0.10)\n",
            "Requirement already satisfied: cymem<2.1.0,>=2.0.2 in /usr/local/lib/python3.8/dist-packages (from spacy<4.0.0,>=3.0.0->spacy-udpipe->-r stepik-dl-nlp/requirements.txt (line 2)) (2.0.7)\n",
            "Requirement already satisfied: pyparsing!=3.0.5,>=2.0.2 in /usr/local/lib/python3.8/dist-packages (from packaging>=20.0->spacy<4.0.0,>=3.0.0->spacy-udpipe->-r stepik-dl-nlp/requirements.txt (line 2)) (3.0.9)\n",
            "Requirement already satisfied: certifi>=2017.4.17 in /usr/local/lib/python3.8/dist-packages (from requests<3.0.0,>=2.13.0->spacy<4.0.0,>=3.0.0->spacy-udpipe->-r stepik-dl-nlp/requirements.txt (line 2)) (2022.12.7)\n",
            "Requirement already satisfied: idna<3,>=2.5 in /usr/local/lib/python3.8/dist-packages (from requests<3.0.0,>=2.13.0->spacy<4.0.0,>=3.0.0->spacy-udpipe->-r stepik-dl-nlp/requirements.txt (line 2)) (2.10)\n",
            "Requirement already satisfied: urllib3!=1.25.0,!=1.25.1,<1.26,>=1.21.1 in /usr/local/lib/python3.8/dist-packages (from requests<3.0.0,>=2.13.0->spacy<4.0.0,>=3.0.0->spacy-udpipe->-r stepik-dl-nlp/requirements.txt (line 2)) (1.24.3)\n",
            "Requirement already satisfied: chardet<4,>=3.0.2 in /usr/local/lib/python3.8/dist-packages (from requests<3.0.0,>=2.13.0->spacy<4.0.0,>=3.0.0->spacy-udpipe->-r stepik-dl-nlp/requirements.txt (line 2)) (3.0.4)\n",
            "Requirement already satisfied: blis<0.8.0,>=0.7.8 in /usr/local/lib/python3.8/dist-packages (from thinc<8.2.0,>=8.1.0->spacy<4.0.0,>=3.0.0->spacy-udpipe->-r stepik-dl-nlp/requirements.txt (line 2)) (0.7.9)\n",
            "Requirement already satisfied: confection<1.0.0,>=0.0.1 in /usr/local/lib/python3.8/dist-packages (from thinc<8.2.0,>=8.1.0->spacy<4.0.0,>=3.0.0->spacy-udpipe->-r stepik-dl-nlp/requirements.txt (line 2)) (0.0.3)\n",
            "Requirement already satisfied: click<9.0.0,>=7.1.1 in /usr/local/lib/python3.8/dist-packages (from typer<0.8.0,>=0.3.0->spacy<4.0.0,>=3.0.0->spacy-udpipe->-r stepik-dl-nlp/requirements.txt (line 2)) (7.1.2)\n",
            "Collecting docopt>=0.6\n",
            "  Downloading docopt-0.6.2.tar.gz (25 kB)\n",
            "Collecting dawg-python>=0.7.1\n",
            "  Downloading DAWG_Python-0.7.2-py2.py3-none-any.whl (11 kB)\n",
            "Collecting pymorphy2-dicts-ru<3.0,>=2.4\n",
            "  Downloading pymorphy2_dicts_ru-2.4.417127.4579844-py2.py3-none-any.whl (8.2 MB)\n",
            "\u001b[K     |████████████████████████████████| 8.2 MB 57.1 MB/s \n",
            "\u001b[?25hRequirement already satisfied: python-dateutil>=2.1 in /usr/local/lib/python3.8/dist-packages (from matplotlib->-r stepik-dl-nlp/requirements.txt (line 5)) (2.8.2)\n",
            "Requirement already satisfied: cycler>=0.10 in /usr/local/lib/python3.8/dist-packages (from matplotlib->-r stepik-dl-nlp/requirements.txt (line 5)) (0.11.0)\n",
            "Requirement already satisfied: kiwisolver>=1.0.1 in /usr/local/lib/python3.8/dist-packages (from matplotlib->-r stepik-dl-nlp/requirements.txt (line 5)) (1.4.4)\n",
            "Collecting intervaltree>=3\n",
            "  Downloading intervaltree-3.1.0.tar.gz (32 kB)\n",
            "Requirement already satisfied: sortedcontainers<3.0,>=2.0 in /usr/local/lib/python3.8/dist-packages (from intervaltree>=3->ipymarkup->-r stepik-dl-nlp/requirements.txt (line 6)) (2.4.0)\n",
            "Requirement already satisfied: pytz>=2017.3 in /usr/local/lib/python3.8/dist-packages (from pandas->-r stepik-dl-nlp/requirements.txt (line 9)) (2022.6)\n",
            "Requirement already satisfied: tornado>=4.2 in /usr/local/lib/python3.8/dist-packages (from ipykernel->-r stepik-dl-nlp/requirements.txt (line 13)) (6.0.4)\n",
            "Requirement already satisfied: traitlets>=4.1.0 in /usr/local/lib/python3.8/dist-packages (from ipykernel->-r stepik-dl-nlp/requirements.txt (line 13)) (5.7.1)\n",
            "Requirement already satisfied: jupyter-client in /usr/local/lib/python3.8/dist-packages (from ipykernel->-r stepik-dl-nlp/requirements.txt (line 13)) (6.1.12)\n",
            "Requirement already satisfied: prompt-toolkit<2.1.0,>=2.0.0 in /usr/local/lib/python3.8/dist-packages (from ipython->-r stepik-dl-nlp/requirements.txt (line 14)) (2.0.10)\n",
            "Requirement already satisfied: pickleshare in /usr/local/lib/python3.8/dist-packages (from ipython->-r stepik-dl-nlp/requirements.txt (line 14)) (0.7.5)\n",
            "Requirement already satisfied: pygments in /usr/local/lib/python3.8/dist-packages (from ipython->-r stepik-dl-nlp/requirements.txt (line 14)) (2.6.1)\n",
            "Requirement already satisfied: backcall in /usr/local/lib/python3.8/dist-packages (from ipython->-r stepik-dl-nlp/requirements.txt (line 14)) (0.2.0)\n",
            "Requirement already satisfied: decorator in /usr/local/lib/python3.8/dist-packages (from ipython->-r stepik-dl-nlp/requirements.txt (line 14)) (4.4.2)\n",
            "Requirement already satisfied: pexpect in /usr/local/lib/python3.8/dist-packages (from ipython->-r stepik-dl-nlp/requirements.txt (line 14)) (4.8.0)\n",
            "Collecting jedi>=0.10\n",
            "  Downloading jedi-0.18.2-py2.py3-none-any.whl (1.6 MB)\n",
            "\u001b[K     |████████████████████████████████| 1.6 MB 58.2 MB/s \n",
            "\u001b[?25hRequirement already satisfied: parso<0.9.0,>=0.8.0 in /usr/local/lib/python3.8/dist-packages (from jedi>=0.10->ipython->-r stepik-dl-nlp/requirements.txt (line 14)) (0.8.3)\n",
            "Requirement already satisfied: wcwidth in /usr/local/lib/python3.8/dist-packages (from prompt-toolkit<2.1.0,>=2.0.0->ipython->-r stepik-dl-nlp/requirements.txt (line 14)) (0.2.5)\n",
            "Requirement already satisfied: pillow>=7.1.0 in /usr/local/lib/python3.8/dist-packages (from bokeh->livelossplot==0.5.3->-r stepik-dl-nlp/requirements.txt (line 18)) (7.1.2)\n",
            "Requirement already satisfied: PyYAML>=3.10 in /usr/local/lib/python3.8/dist-packages (from bokeh->livelossplot==0.5.3->-r stepik-dl-nlp/requirements.txt (line 18)) (6.0)\n",
            "Requirement already satisfied: MarkupSafe>=0.23 in /usr/local/lib/python3.8/dist-packages (from jinja2->spacy<4.0.0,>=3.0.0->spacy-udpipe->-r stepik-dl-nlp/requirements.txt (line 2)) (2.0.1)\n",
            "Requirement already satisfied: jupyter-core>=4.6.0 in /usr/local/lib/python3.8/dist-packages (from jupyter-client->ipykernel->-r stepik-dl-nlp/requirements.txt (line 13)) (5.1.0)\n",
            "Requirement already satisfied: pyzmq>=13 in /usr/local/lib/python3.8/dist-packages (from jupyter-client->ipykernel->-r stepik-dl-nlp/requirements.txt (line 13)) (23.2.1)\n",
            "Requirement already satisfied: platformdirs>=2.5 in /usr/local/lib/python3.8/dist-packages (from jupyter-core>=4.6.0->jupyter-client->ipykernel->-r stepik-dl-nlp/requirements.txt (line 13)) (2.6.0)\n",
            "Requirement already satisfied: ptyprocess>=0.5 in /usr/local/lib/python3.8/dist-packages (from pexpect->ipython->-r stepik-dl-nlp/requirements.txt (line 14)) (0.7.0)\n",
            "Building wheels for collected packages: gensim, ufal.udpipe, docopt, intervaltree, wget\n",
            "  Building wheel for gensim (setup.py) ... \u001b[?25l\u001b[?25hdone\n",
            "  Created wheel for gensim: filename=gensim-3.8.1-cp38-cp38-linux_x86_64.whl size=25870879 sha256=2b98098d6c9b7610780d630c952db501004b3bea511a791672a17af982cbcddf\n",
            "  Stored in directory: /root/.cache/pip/wheels/33/de/03/7346ae70da7f980f78569668caf78fb2d678b176e549557c7d\n",
            "  Building wheel for ufal.udpipe (setup.py) ... \u001b[?25l\u001b[?25hdone\n",
            "  Created wheel for ufal.udpipe: filename=ufal.udpipe-1.2.0.3-cp38-cp38-linux_x86_64.whl size=5627080 sha256=009ebff57996dcf4433a1e34d5c83caf1b9ddf6d68492eb196a263eee5d0e74e\n",
            "  Stored in directory: /root/.cache/pip/wheels/d4/c1/67/142cea91540458ab9edac9c280a19b549a03217d7b441d32a6\n",
            "  Building wheel for docopt (setup.py) ... \u001b[?25l\u001b[?25hdone\n",
            "  Created wheel for docopt: filename=docopt-0.6.2-py2.py3-none-any.whl size=13723 sha256=58ebd00b968525fd4202b0290ec1ba6ab34130d043f9a09d38ee621add3c01cb\n",
            "  Stored in directory: /root/.cache/pip/wheels/56/ea/58/ead137b087d9e326852a851351d1debf4ada529b6ac0ec4e8c\n",
            "  Building wheel for intervaltree (setup.py) ... \u001b[?25l\u001b[?25hdone\n",
            "  Created wheel for intervaltree: filename=intervaltree-3.1.0-py2.py3-none-any.whl size=26118 sha256=abbd8561931dcfcc26986c79f57bafb898048920470add0b98badacbc29d0b4a\n",
            "  Stored in directory: /root/.cache/pip/wheels/45/23/de/5789a92962483fd33cb06674792b9697c1b3766d7c7742830e\n",
            "  Building wheel for wget (setup.py) ... \u001b[?25l\u001b[?25hdone\n",
            "  Created wheel for wget: filename=wget-3.2-py3-none-any.whl size=9674 sha256=0464b181fe49f805df39692a7c589c871b5c314bfdd7a5a8eea02bf08a9b6de5\n",
            "  Stored in directory: /root/.cache/pip/wheels/bd/a8/c3/3cf2c14a1837a4e04bd98631724e81f33f462d86a1d895fae0\n",
            "Successfully built gensim ufal.udpipe docopt intervaltree wget\n",
            "Installing collected packages: jedi, ufal.udpipe, pymorphy2-dicts-ru, intervaltree, docopt, dawg-python, youtokentome, wget, spacy-udpipe, pymorphy2, pyconll, livelossplot, ipymarkup, gensim\n",
            "  Attempting uninstall: intervaltree\n",
            "    Found existing installation: intervaltree 2.1.0\n",
            "    Uninstalling intervaltree-2.1.0:\n",
            "      Successfully uninstalled intervaltree-2.1.0\n",
            "  Attempting uninstall: gensim\n",
            "    Found existing installation: gensim 3.6.0\n",
            "    Uninstalling gensim-3.6.0:\n",
            "      Successfully uninstalled gensim-3.6.0\n",
            "Successfully installed dawg-python-0.7.2 docopt-0.6.2 gensim-3.8.1 intervaltree-3.1.0 ipymarkup-0.9.0 jedi-0.18.2 livelossplot-0.5.3 pyconll-3.1.0 pymorphy2-0.9.1 pymorphy2-dicts-ru-2.4.417127.4579844 spacy-udpipe-1.0.0 ufal.udpipe-1.2.0.3 wget-3.2 youtokentome-1.0.6\n"
          ]
        }
      ],
      "source": [
        "# Если Вы запускаете ноутбук на colab или kaggle,\n",
        "# выполните следующие строчки, чтобы подгрузить библиотеку dlnlputils:\n",
        "\n",
        "!git clone https://github.com/Samsung-IT-Academy/stepik-dl-nlp.git && pip install -r stepik-dl-nlp/requirements.txt\n",
        "import sys; sys.path.append('./stepik-dl-nlp')"
      ]
    },
    {
      "cell_type": "code",
      "execution_count": null,
      "metadata": {
        "id": "DKZV7LSeyvHg",
        "outputId": "fe734df4-a2d3-4fa5-b863-73ed8772a561",
        "colab": {
          "base_uri": "https://localhost:8080/"
        }
      },
      "outputs": [
        {
          "output_type": "execute_result",
          "data": {
            "text/plain": [
              "<torch._C.Generator at 0x7fb56dec2130>"
            ]
          },
          "metadata": {},
          "execution_count": 2
        }
      ],
      "source": [
        "import torch\n",
        "import torch.nn as nn\n",
        "import torch.nn.functional as F\n",
        "import torch.optim as optim\n",
        "\n",
        "import random\n",
        "import numpy as np\n",
        "import matplotlib.pyplot as plt\n",
        "%matplotlib inline\n",
        "\n",
        "torch.manual_seed(1)"
      ]
    },
    {
      "cell_type": "markdown",
      "metadata": {
        "id": "1RrrGHVQyvHo"
      },
      "source": [
        "## Оригинальная разметка"
      ]
    },
    {
      "cell_type": "code",
      "execution_count": null,
      "metadata": {
        "id": "sUTVJLATyvHr"
      },
      "outputs": [],
      "source": [
        "!wget 'https://raw.githubusercontent.com/suppukerr/project_auto/main/aspects_bio.tsv'"
      ]
    },
    {
      "cell_type": "code",
      "execution_count": null,
      "metadata": {
        "id": "QX7vcuYzyvHx",
        "colab": {
          "base_uri": "https://localhost:8080/"
        },
        "outputId": "e4433daf-19a9-4894-8a21-0715eb51fea9"
      },
      "outputs": [
        {
          "output_type": "stream",
          "name": "stderr",
          "text": [
            "/usr/local/lib/python3.8/dist-packages/torch/cuda/__init__.py:497: UserWarning: Can't initialize NVML\n",
            "  warnings.warn(\"Can't initialize NVML\")\n"
          ]
        }
      ],
      "source": [
        "from dlnlputils.sentiment_utils import parse_xml_sentiment, parse_xml_aspect, show_markup"
      ]
    },
    {
      "cell_type": "markdown",
      "metadata": {
        "id": "wvzRDETKyvHz"
      },
      "source": [
        "тексты с разметкой аспектов и тональностей: "
      ]
    },
    {
      "cell_type": "code",
      "execution_count": null,
      "metadata": {
        "id": "U7zSHd0oyvH2",
        "colab": {
          "base_uri": "https://localhost:8080/",
          "height": 329
        },
        "outputId": "e2b1a0df-8516-4e6f-bd37-11571e7bfba0"
      },
      "outputs": [
        {
          "output_type": "error",
          "ename": "FileNotFoundError",
          "evalue": "ignored",
          "traceback": [
            "\u001b[0;31m---------------------------------------------------------------------------\u001b[0m",
            "\u001b[0;31mFileNotFoundError\u001b[0m                         Traceback (most recent call last)",
            "\u001b[0;32m<ipython-input-5-916bf3388f20>\u001b[0m in \u001b[0;36m<module>\u001b[0;34m\u001b[0m\n\u001b[0;32m----> 1\u001b[0;31m \u001b[0mtexts_w_sentiment_spans\u001b[0m \u001b[0;34m=\u001b[0m \u001b[0mparse_xml_sentiment\u001b[0m\u001b[0;34m(\u001b[0m\u001b[0mxml_sentiments\u001b[0m\u001b[0;34m)\u001b[0m\u001b[0;34m\u001b[0m\u001b[0;34m\u001b[0m\u001b[0m\n\u001b[0m\u001b[1;32m      2\u001b[0m \u001b[0mtexts_w_aspect_spans\u001b[0m    \u001b[0;34m=\u001b[0m \u001b[0mparse_xml_aspect\u001b[0m\u001b[0;34m(\u001b[0m\u001b[0mxml_sentiments\u001b[0m\u001b[0;34m)\u001b[0m\u001b[0;34m\u001b[0m\u001b[0;34m\u001b[0m\u001b[0m\n",
            "\u001b[0;32m/content/./stepik-dl-nlp/dlnlputils/sentiment_utils.py\u001b[0m in \u001b[0;36mparse_xml_sentiment\u001b[0;34m(xml_file)\u001b[0m\n\u001b[1;32m    196\u001b[0m \u001b[0;34m\u001b[0m\u001b[0m\n\u001b[1;32m    197\u001b[0m \u001b[0;34m\u001b[0m\u001b[0m\n\u001b[0;32m--> 198\u001b[0;31m \u001b[0;32mdef\u001b[0m \u001b[0mparse_xml_sentiment\u001b[0m\u001b[0;34m(\u001b[0m\u001b[0mxml_file\u001b[0m\u001b[0;34m)\u001b[0m\u001b[0;34m:\u001b[0m \u001b[0;32mreturn\u001b[0m \u001b[0mparseXML\u001b[0m\u001b[0;34m(\u001b[0m\u001b[0mxml_file\u001b[0m\u001b[0;34m,\u001b[0m \u001b[0mget_sentiment_spans\u001b[0m\u001b[0;34m)\u001b[0m\u001b[0;34m\u001b[0m\u001b[0;34m\u001b[0m\u001b[0m\n\u001b[0m\u001b[1;32m    199\u001b[0m \u001b[0;32mdef\u001b[0m \u001b[0mparse_xml_aspect\u001b[0m\u001b[0;34m(\u001b[0m\u001b[0mxml_file\u001b[0m\u001b[0;34m)\u001b[0m\u001b[0;34m:\u001b[0m    \u001b[0;32mreturn\u001b[0m \u001b[0mparseXML\u001b[0m\u001b[0;34m(\u001b[0m\u001b[0mxml_file\u001b[0m\u001b[0;34m,\u001b[0m \u001b[0mget_aspect_spans\u001b[0m\u001b[0;34m)\u001b[0m\u001b[0;34m\u001b[0m\u001b[0;34m\u001b[0m\u001b[0m\n\u001b[1;32m    200\u001b[0m \u001b[0;34m\u001b[0m\u001b[0m\n",
            "\u001b[0;32m/content/./stepik-dl-nlp/dlnlputils/sentiment_utils.py\u001b[0m in \u001b[0;36mparseXML\u001b[0;34m(xmlFile, span_func)\u001b[0m\n\u001b[1;32m    201\u001b[0m \u001b[0;34m\u001b[0m\u001b[0m\n\u001b[1;32m    202\u001b[0m \u001b[0;32mdef\u001b[0m \u001b[0mparseXML\u001b[0m\u001b[0;34m(\u001b[0m\u001b[0mxmlFile\u001b[0m\u001b[0;34m,\u001b[0m \u001b[0mspan_func\u001b[0m\u001b[0;34m)\u001b[0m\u001b[0;34m:\u001b[0m\u001b[0;34m\u001b[0m\u001b[0;34m\u001b[0m\u001b[0m\n\u001b[0;32m--> 203\u001b[0;31m     \u001b[0mxml\u001b[0m  \u001b[0;34m=\u001b[0m \u001b[0mopen\u001b[0m\u001b[0;34m(\u001b[0m\u001b[0mxmlFile\u001b[0m\u001b[0;34m)\u001b[0m\u001b[0;34m.\u001b[0m\u001b[0mread\u001b[0m\u001b[0;34m(\u001b[0m\u001b[0;34m)\u001b[0m\u001b[0;34m\u001b[0m\u001b[0;34m\u001b[0m\u001b[0m\n\u001b[0m\u001b[1;32m    204\u001b[0m     \u001b[0mroot\u001b[0m \u001b[0;34m=\u001b[0m \u001b[0metree\u001b[0m\u001b[0;34m.\u001b[0m\u001b[0mfromstring\u001b[0m\u001b[0;34m(\u001b[0m\u001b[0mxml\u001b[0m\u001b[0;34m)\u001b[0m\u001b[0;34m\u001b[0m\u001b[0;34m\u001b[0m\u001b[0m\n\u001b[1;32m    205\u001b[0m \u001b[0;34m\u001b[0m\u001b[0m\n",
            "\u001b[0;31mFileNotFoundError\u001b[0m: [Errno 2] No such file or directory: 'datasets/sentirueval2015/SentiRuEval_car_markup_train.xml'"
          ]
        }
      ],
      "source": [
        "texts_w_sentiment_spans = parse_xml_sentiment(xml_sentiments)\n",
        "texts_w_aspect_spans    = parse_xml_aspect(xml_sentiments)"
      ]
    },
    {
      "cell_type": "code",
      "execution_count": null,
      "metadata": {
        "id": "nCOEZgtPyvH7",
        "outputId": "d70f0a17-6c2d-4112-c95b-4b7cb158933a",
        "colab": {
          "base_uri": "https://localhost:8080/",
          "height": 201
        }
      },
      "outputs": [
        {
          "output_type": "error",
          "ename": "NameError",
          "evalue": "ignored",
          "traceback": [
            "\u001b[0;31m---------------------------------------------------------------------------\u001b[0m",
            "\u001b[0;31mNameError\u001b[0m                                 Traceback (most recent call last)",
            "\u001b[0;32m<ipython-input-6-9c083af914f2>\u001b[0m in \u001b[0;36m<module>\u001b[0;34m\u001b[0m\n\u001b[0;32m----> 1\u001b[0;31m \u001b[0mamount\u001b[0m \u001b[0;34m=\u001b[0m \u001b[0mlen\u001b[0m\u001b[0;34m(\u001b[0m\u001b[0mtexts_w_sentiment_spans\u001b[0m\u001b[0;34m)\u001b[0m\u001b[0;34m\u001b[0m\u001b[0;34m\u001b[0m\u001b[0m\n\u001b[0m\u001b[1;32m      2\u001b[0m \u001b[0;34m\u001b[0m\u001b[0m\n\u001b[1;32m      3\u001b[0m \u001b[0mprint\u001b[0m\u001b[0;34m(\u001b[0m\u001b[0;34m'Загружено {} текстов с разметкой тональности\\n'\u001b[0m\u001b[0;34m.\u001b[0m\u001b[0mformat\u001b[0m\u001b[0;34m(\u001b[0m\u001b[0mamount\u001b[0m\u001b[0;34m)\u001b[0m\u001b[0;34m)\u001b[0m\u001b[0;34m\u001b[0m\u001b[0;34m\u001b[0m\u001b[0m\n",
            "\u001b[0;31mNameError\u001b[0m: name 'texts_w_sentiment_spans' is not defined"
          ]
        }
      ],
      "source": [
        "amount = len(texts_w_sentiment_spans)\n",
        "\n",
        "print('Загружено {} текстов с разметкой тональности\\n'.format(amount))"
      ]
    },
    {
      "cell_type": "markdown",
      "metadata": {
        "id": "xfKxuQf_yvH_"
      },
      "source": [
        "##### выберем 2 текста, на которых будем рассматривать все примеры:"
      ]
    },
    {
      "cell_type": "code",
      "execution_count": null,
      "metadata": {
        "id": "H0psNXa3yvIC"
      },
      "outputs": [],
      "source": [
        "random_picks = [random.randint(0,amount-1) for _ in range(0,2)]"
      ]
    },
    {
      "cell_type": "markdown",
      "metadata": {
        "id": "j53LjlppyvIE"
      },
      "source": [
        "####  тональность (sentiment)"
      ]
    },
    {
      "cell_type": "code",
      "execution_count": null,
      "metadata": {
        "scrolled": true,
        "id": "R0LiUDx_yvIG",
        "outputId": "1d0e14e4-6d49-4e31-c7ea-3ed43cfea619"
      },
      "outputs": [
        {
          "name": "stdout",
          "output_type": "stream",
          "text": [
            "Текст №: 76\n"
          ]
        },
        {
          "data": {
            "text/html": [
              "<div class=\"tex2jax_ignore\" style=\"white-space: pre-wrap\">Сегодня я купил <span style=\"padding: 2px; border-radius: 4px; border: 1px solid #ffe0b2; background: #fff3e0\">машину лада гранта<span style=\"vertical-align: middle; margin-left: 2px; font-size: 0.7em; color: #ffb74d;\">neutral</span></span> и ни как не могу ее продать начнем с покупки <span style=\"padding: 2px; border-radius: 4px; border: 1px solid #ffe0b2; background: #fff3e0\">машина<span style=\"vertical-align: middle; margin-left: 2px; font-size: 0.7em; color: #ffb74d;\">neutral</span></span> мне обошлась в четыреста восемдесят тысяч <span style=\"padding: 2px; border-radius: 4px; border: 1px solid #ffe0b2; background: #fff3e0\">рублей<span style=\"vertical-align: middle; margin-left: 2px; font-size: 0.7em; color: #ffb74d;\">neutral</span></span> на реканий на <span style=\"padding: 2px; border-radius: 4px; border: 1px solid #c8e6c9; background: #e8f5e9\">машину<span style=\"vertical-align: middle; margin-left: 2px; font-size: 0.7em; color: #66bb6a;\">positive</span></span> нет <span style=\"padding: 2px; border-radius: 4px; border: 1px solid #ffe0b2; background: #fff3e0\">стоимость масла<span style=\"vertical-align: middle; margin-left: 2px; font-size: 0.7em; color: #ffb74d;\">neutral</span></span> 850 рублей замена бампера 5000 <span style=\"padding: 2px; border-radius: 4px; border: 1px solid #ffe0b2; background: #fff3e0\">рублей<span style=\"vertical-align: middle; margin-left: 2px; font-size: 0.7em; color: #ffb74d;\">neutral</span></span> если собираетесь делать <span style=\"padding: 2px; border-radius: 4px; border: 1px solid #ffe0b2; background: #fff3e0\">ремонт машины<span style=\"vertical-align: middle; margin-left: 2px; font-size: 0.7em; color: #ffb74d;\">neutral</span></span> капитально, то <span style=\"padding: 2px; border-radius: 4px; border: 1px solid #ffe0b2; background: #fff3e0\">стоимость<span style=\"vertical-align: middle; margin-left: 2px; font-size: 0.7em; color: #ffb74d;\">neutral</span></span> обойдется в районе 200000 рублей <span style=\"padding: 2px; border-radius: 4px; border: 1px solid #ffe0b2; background: #fff3e0\">мощьность<span style=\"vertical-align: middle; margin-left: 2px; font-size: 0.7em; color: #ffb74d;\">neutral</span></span> у нее 100 <span style=\"padding: 2px; border-radius: 4px; border: 1px solid #ffe0b2; background: #fff3e0\">лошадей<span style=\"vertical-align: middle; margin-left: 2px; font-size: 0.7em; color: #ffb74d;\">neutral</span></span> <span style=\"padding: 2px; border-radius: 4px; border: 1px solid #ffe0b2; background: #fff3e0\">макс скорость<span style=\"vertical-align: middle; margin-left: 2px; font-size: 0.7em; color: #ffb74d;\">neutral</span></span> 185 км в час. Общее впечатление : замечательный <span style=\"padding: 2px; border-radius: 4px; border: 1px solid #c8e6c9; background: #e8f5e9\">автомобиль<span style=\"vertical-align: middle; margin-left: 2px; font-size: 0.7em; color: #66bb6a;\">positive</span></span></div>"
            ],
            "text/plain": [
              "BoxMarkup('Сегодня я купил машину лада гранта и ни как не могу ее продать начнем с покупки машина мне обошлась в четыреста восемдесят тысяч рублей на реканий на машину нет стоимость масла 850 рублей замена бампера 5000 рублей если собираетесь делать ремонт машины капитально, то стоимость обойдется в районе 200000 рублей мощьность у нее 100 лошадей макс скорость 185 км в час. Общее впечатление : замечательный автомобиль',\n",
              "          [Span(16, 34, 'neutral'),\n",
              "           Span(80, 86, 'neutral'),\n",
              "           Span(129, 135, 'neutral'),\n",
              "           Span(150, 156, 'positive'),\n",
              "           Span(161, 176, 'neutral'),\n",
              "           Span(208, 214, 'neutral'),\n",
              "           Span(239, 252, 'neutral'),\n",
              "           Span(268, 277, 'neutral'),\n",
              "           Span(311, 320, 'neutral'),\n",
              "           Span(331, 338, 'neutral'),\n",
              "           Span(339, 352, 'neutral'),\n",
              "           Span(401, 411, 'positive')])"
            ]
          },
          "metadata": {},
          "output_type": "display_data"
        },
        {
          "name": "stdout",
          "output_type": "stream",
          "text": [
            "Текст №: 43\n"
          ]
        },
        {
          "data": {
            "text/html": [
              "<div class=\"tex2jax_ignore\" style=\"white-space: pre-wrap\">Начну с того, что на <span style=\"padding: 2px; border-radius: 4px; border: 1px solid #ffe0b2; background: #fff3e0\">Тойоте Хайс<span style=\"vertical-align: middle; margin-left: 2px; font-size: 0.7em; color: #ffb74d;\">neutral</span></span> работает мой муж и уже давненько. Поначалу <span style=\"padding: 2px; border-radius: 4px; border: 1px solid #c8e6c9; background: #e8f5e9\">машинка<span style=\"vertical-align: middle; margin-left: 2px; font-size: 0.7em; color: #66bb6a;\">positive</span></span> очень понравилась и <span style=\"padding: 2px; border-radius: 4px; border: 1px solid #c8e6c9; background: #e8f5e9\">внешне<span style=\"vertical-align: middle; margin-left: 2px; font-size: 0.7em; color: #66bb6a;\">positive</span></span>, и внутренне. Муж был просто в восторге, что его по работе пересадили с <span style=\"padding: 2px; border-radius: 4px; border: 1px solid #ffe0b2; background: #fff3e0\">Баргузина<span style=\"vertical-align: middle; margin-left: 2px; font-size: 0.7em; color: #ffb74d;\">neutral</span></span> на <span style=\"padding: 2px; border-radius: 4px; border: 1px solid #c8e6c9; background: #e8f5e9\">Хайс<span style=\"vertical-align: middle; margin-left: 2px; font-size: 0.7em; color: #66bb6a;\">positive</span></span>, и не замечал недостатков в этой <span style=\"padding: 2px; border-radius: 4px; border: 1px solid #ffcdd2; background: #ffebee\">машине<span style=\"vertical-align: middle; margin-left: 2px; font-size: 0.7em; color: #e57373;\">both</span></span>. А так как он периодически отвозит меня на работу и забирает с работы на ней, то и я волей-неволей столкнулась с этой <span style=\"padding: 2px; border-radius: 4px; border: 1px solid #ffe0b2; background: #fff3e0\">машиной<span style=\"vertical-align: middle; margin-left: 2px; font-size: 0.7em; color: #ffb74d;\">neutral</span></span>. Конечно, после <span style=\"padding: 2px; border-radius: 4px; border: 1px solid #ffe0b2; background: #fff3e0\">Баргузина<span style=\"vertical-align: middle; margin-left: 2px; font-size: 0.7em; color: #ffb74d;\">neutral</span></span> <span style=\"padding: 2px; border-radius: 4px; border: 1px solid #c8e6c9; background: #e8f5e9\">Хайс<span style=\"vertical-align: middle; margin-left: 2px; font-size: 0.7em; color: #66bb6a;\">positive</span></span> казался просто нереальной <span style=\"padding: 2px; border-radius: 4px; border: 1px solid #c8e6c9; background: #e8f5e9\">машиной<span style=\"vertical-align: middle; margin-left: 2px; font-size: 0.7em; color: #66bb6a;\">positive</span></span>. И <span style=\"padding: 2px; border-radius: 4px; border: 1px solid #c8e6c9; background: #e8f5e9\">удобство<span style=\"vertical-align: middle; margin-left: 2px; font-size: 0.7em; color: #66bb6a;\">positive</span></span> <span style=\"padding: 2px; border-radius: 4px; border: 1px solid #c8e6c9; background: #e8f5e9\">кресел в салоне<span style=\"vertical-align: middle; margin-left: 2px; font-size: 0.7em; color: #66bb6a;\">positive</span></span>, и <span style=\"padding: 2px; border-radius: 4px; border: 1px solid #c8e6c9; background: #e8f5e9\">плавность хода<span style=\"vertical-align: middle; margin-left: 2px; font-size: 0.7em; color: #66bb6a;\">positive</span></span>, и <span style=\"padding: 2px; border-radius: 4px; border: 1px solid #c8e6c9; background: #e8f5e9\">внешний вид<span style=\"vertical-align: middle; margin-left: 2px; font-size: 0.7em; color: #66bb6a;\">positive</span></span>, всё приводило в восторг. Муж даже начал бредить идеей, что для нашей большой семьи (у нас трое деток) покупка такой <span style=\"padding: 2px; border-radius: 4px; border: 1px solid #c8e6c9; background: #e8f5e9\">машины<span style=\"vertical-align: middle; margin-left: 2px; font-size: 0.7em; color: #66bb6a;\">positive</span></span> в семью будет идеальной. Даже в мечтах обрисовывал, как он переделает <span style=\"padding: 2px; border-radius: 4px; border: 1px solid #ffe0b2; background: #fff3e0\">салон<span style=\"vertical-align: middle; margin-left: 2px; font-size: 0.7em; color: #ffb74d;\">neutral</span></span> под междугородние путешествия всей семьёй. Но прошло уже года три-четыре, как он работает на <span style=\"padding: 2px; border-radius: 4px; border: 1px solid #ffe0b2; background: #fff3e0\">Тойоте Хайс<span style=\"vertical-align: middle; margin-left: 2px; font-size: 0.7em; color: #ffb74d;\">neutral</span></span>. Сейчас могу сказать только одно: <span style=\"padding: 2px; border-radius: 4px; border: 1px solid #ffcdd2; background: #ffebee\">машина<span style=\"vertical-align: middle; margin-left: 2px; font-size: 0.7em; color: #e57373;\">negative</span></span> ужасная до безобразия. В этом мы убедились оба. Начну с того, что проживаем мы в северном районе нашей страны, и, соответственно, <span style=\"padding: 2px; border-radius: 4px; border: 1px solid #ffe0b2; background: #fff3e0\">машина<span style=\"vertical-align: middle; margin-left: 2px; font-size: 0.7em; color: #ffb74d;\">neutral</span></span> эксплуатируется зимой при довольно низких температурах. Так вот, в зимний период <span style=\"padding: 2px; border-radius: 4px; border: 1px solid #ffcdd2; background: #ffebee\">салон<span style=\"vertical-align: middle; margin-left: 2px; font-size: 0.7em; color: #e57373;\">negative</span></span> <span style=\"padding: 2px; border-radius: 4px; border: 1px solid #ffcdd2; background: #ffebee\">прогревается<span style=\"vertical-align: middle; margin-left: 2px; font-size: 0.7em; color: #e57373;\">negative</span></span> только в зоне <span style=\"padding: 2px; border-radius: 4px; border: 1px solid #ffcdd2; background: #ffebee\">передних сидений<span style=\"vertical-align: middle; margin-left: 2px; font-size: 0.7em; color: #e57373;\">negative</span></span> (водителя и пассажира), и то кое-как. В самом салоне <span style=\"padding: 2px; border-radius: 4px; border: 1px solid #ffcdd2; background: #ffebee\">машина<span style=\"vertical-align: middle; margin-left: 2px; font-size: 0.7em; color: #e57373;\">negative</span></span> <span style=\"padding: 2px; border-radius: 4px; border: 1px solid #ffcdd2; background: #ffebee\">не прогревается<span style=\"vertical-align: middle; margin-left: 2px; font-size: 0.7em; color: #e57373;\">negative</span></span>, несмотря на дополнительные <span style=\"padding: 2px; border-radius: 4px; border: 1px solid #ffe0b2; background: #fff3e0\">печки<span style=\"vertical-align: middle; margin-left: 2px; font-size: 0.7em; color: #ffb74d;\">neutral</span></span> и всевозможные <span style=\"padding: 2px; border-radius: 4px; border: 1px solid #ffe0b2; background: #fff3e0\">регуляторы температуры нагрева<span style=\"vertical-align: middle; margin-left: 2px; font-size: 0.7em; color: #ffb74d;\">neutral</span></span>. Так же зимой <span style=\"padding: 2px; border-radius: 4px; border: 1px solid #ffcdd2; background: #ffebee\">на поворотах<span style=\"vertical-align: middle; margin-left: 2px; font-size: 0.7em; color: #e57373;\">negative</span></span> (например, на перекрёстке) очень сильно <span style=\"padding: 2px; border-radius: 4px; border: 1px solid #ffcdd2; background: #ffebee\">заносит<span style=\"vertical-align: middle; margin-left: 2px; font-size: 0.7em; color: #e57373;\">negative</span></span> <span style=\"padding: 2px; border-radius: 4px; border: 1px solid #ffcdd2; background: #ffebee\">заднюю часть автомобиля<span style=\"vertical-align: middle; margin-left: 2px; font-size: 0.7em; color: #e57373;\">negative</span></span>. Ну это понятно - <span style=\"padding: 2px; border-radius: 4px; border: 1px solid #ffe0b2; background: #fff3e0\">задний привод<span style=\"vertical-align: middle; margin-left: 2px; font-size: 0.7em; color: #ffb74d;\">neutral</span></span> и всё остальное прочее. Но <span style=\"padding: 2px; border-radius: 4px; border: 1px solid #ffcdd2; background: #ffebee\">заносы<span style=\"vertical-align: middle; margin-left: 2px; font-size: 0.7em; color: #e57373;\">negative</span></span> эти, даже глядя со стороны, приводят в тихую жуть. <span style=\"padding: 2px; border-radius: 4px; border: 1px solid #ffcdd2; background: #ffebee\">Хайсов<span style=\"vertical-align: middle; margin-left: 2px; font-size: 0.7em; color: #e57373;\">negative</span></span> по городу бегает достаточное количество и регулярно наблюдается картина с этими <span style=\"padding: 2px; border-radius: 4px; border: 1px solid #ffcdd2; background: #ffebee\">заносами<span style=\"vertical-align: middle; margin-left: 2px; font-size: 0.7em; color: #e57373;\">negative</span></span>. <span style=\"padding: 2px; border-radius: 4px; border: 1px solid #ffcdd2; background: #ffebee\">Дверь на салазках<span style=\"vertical-align: middle; margin-left: 2px; font-size: 0.7em; color: #e57373;\">negative</span></span> снаружи <span style=\"padding: 2px; border-radius: 4px; border: 1px solid #ffcdd2; background: #ffebee\">открывается ужасно<span style=\"vertical-align: middle; margin-left: 2px; font-size: 0.7em; color: #e57373;\">negative</span></span> - женская половина пассажиров, в том числе и я, регулярно ломают ногти, так как <span style=\"padding: 2px; border-radius: 4px; border: 1px solid #ffcdd2; background: #ffebee\">ручка<span style=\"vertical-align: middle; margin-left: 2px; font-size: 0.7em; color: #e57373;\">negative</span></span> сделана не очень хорошо и с неё постоянно соскальзывают пальцы. В <span style=\"padding: 2px; border-radius: 4px; border: 1px solid #ffcdd2; background: #ffebee\">водительской части салона<span style=\"vertical-align: middle; margin-left: 2px; font-size: 0.7em; color: #e57373;\">both</span></span> в принципе всё довольно неплохо, за исключением <span style=\"padding: 2px; border-radius: 4px; border: 1px solid #ffcdd2; background: #ffebee\">торпеды<span style=\"vertical-align: middle; margin-left: 2px; font-size: 0.7em; color: #e57373;\">negative</span></span>, которая после недолгой эксплуатации автомобиля начала <span style=\"padding: 2px; border-radius: 4px; border: 1px solid #ffcdd2; background: #ffebee\">греметь<span style=\"vertical-align: middle; margin-left: 2px; font-size: 0.7em; color: #e57373;\">negative</span></span>, что само по себе уже не приятно. Да и сам <span style=\"padding: 2px; border-radius: 4px; border: 1px solid #ffcdd2; background: #ffebee\">кузов Хайса<span style=\"vertical-align: middle; margin-left: 2px; font-size: 0.7em; color: #e57373;\">negative</span></span> начал <span style=\"padding: 2px; border-radius: 4px; border: 1px solid #ffcdd2; background: #ffebee\">скрипеть<span style=\"vertical-align: middle; margin-left: 2px; font-size: 0.7em; color: #e57373;\">negative</span></span>, чем сразу заслужил гордое звание <span style=\"padding: 2px; border-radius: 4px; border: 1px solid #ffcdd2; background: #ffebee\">\"Сарай\"<span style=\"vertical-align: middle; margin-left: 2px; font-size: 0.7em; color: #e57373;\">negative</span></span>. <span style=\"padding: 2px; border-radius: 4px; border: 1px solid #ffcdd2; background: #ffebee\">Сервисное обслуживание<span style=\"vertical-align: middle; margin-left: 2px; font-size: 0.7em; color: #e57373;\">negative</span></span> в Тойота-центре нашего города тоже ниже плинтуса. <span style=\"padding: 2px; border-radius: 4px; border: 1px solid #ffe0b2; background: #fff3e0\">Машина<span style=\"vertical-align: middle; margin-left: 2px; font-size: 0.7em; color: #ffb74d;\">neutral</span></span> хоть и обслуживается за счёт организации, но после каждого <span style=\"padding: 2px; border-radius: 4px; border: 1px solid #ffcdd2; background: #ffebee\">ТО<span style=\"vertical-align: middle; margin-left: 2px; font-size: 0.7em; color: #e57373;\">negative</span></span> мой муж, мягко говоря, в шоке от того, как сервис-менеджеры каждый раз находят на ровном месте какие-то \"болячки\" у <span style=\"padding: 2px; border-radius: 4px; border: 1px solid #ffcdd2; background: #ffebee\">машины<span style=\"vertical-align: middle; margin-left: 2px; font-size: 0.7em; color: #e57373;\">negative</span></span>, дабы <span style=\"padding: 2px; border-radius: 4px; border: 1px solid #ffcdd2; background: #ffebee\">содрать побольше денег<span style=\"vertical-align: middle; margin-left: 2px; font-size: 0.7em; color: #e57373;\">negative</span></span>. А те <span style=\"padding: 2px; border-radius: 4px; border: 1px solid #ffcdd2; background: #ffebee\">поломки<span style=\"vertical-align: middle; margin-left: 2px; font-size: 0.7em; color: #e57373;\">negative</span></span>, которые действительно требуют серьёзного внимания, в заказ-наряде прописываются, но специалисты даже и не заглядывают туда. Таким образом, мой муж половину этой зимы проездил с <span style=\"padding: 2px; border-radius: 4px; border: 1px solid #ffcdd2; background: #ffebee\">\"инвалидным\"<span style=\"vertical-align: middle; margin-left: 2px; font-size: 0.7em; color: #e57373;\">negative</span></span> <span style=\"padding: 2px; border-radius: 4px; border: 1px solid #ffcdd2; background: #ffebee\">задним правым колесом<span style=\"vertical-align: middle; margin-left: 2px; font-size: 0.7em; color: #e57373;\">negative</span></span>: <span style=\"padding: 2px; border-radius: 4px; border: 1px solid #ffcdd2; background: #ffebee\">с места тронуться<span style=\"vertical-align: middle; margin-left: 2px; font-size: 0.7em; color: #e57373;\">negative</span></span> было невозможно - оно просто <span style=\"padding: 2px; border-radius: 4px; border: 1px solid #ffcdd2; background: #ffebee\">не крутилось<span style=\"vertical-align: middle; margin-left: 2px; font-size: 0.7em; color: #e57373;\">negative</span></span>, приходилось его <span style=\"padding: 2px; border-radius: 4px; border: 1px solid #ffcdd2; background: #ffebee\">срывать<span style=\"vertical-align: middle; margin-left: 2px; font-size: 0.7em; color: #e57373;\">negative</span></span>. Вобщем, впечатление от <span style=\"padding: 2px; border-radius: 4px; border: 1px solid #ffcdd2; background: #ffebee\">Хайса<span style=\"vertical-align: middle; margin-left: 2px; font-size: 0.7em; color: #e57373;\">negative</span></span> не айс (прям каламбур получился). <span style=\"padding: 2px; border-radius: 4px; border: 1px solid #c8e6c9; background: #e8f5e9\">Внешне<span style=\"vertical-align: middle; margin-left: 2px; font-size: 0.7em; color: #66bb6a;\">positive</span></span>, да, <span style=\"padding: 2px; border-radius: 4px; border: 1px solid #c8e6c9; background: #e8f5e9\">выглядит<span style=\"vertical-align: middle; margin-left: 2px; font-size: 0.7em; color: #66bb6a;\">positive</span></span> <span style=\"padding: 2px; border-radius: 4px; border: 1px solid #c8e6c9; background: #e8f5e9\">красиво<span style=\"vertical-align: middle; margin-left: 2px; font-size: 0.7em; color: #66bb6a;\">positive</span></span> и <span style=\"padding: 2px; border-radius: 4px; border: 1px solid #c8e6c9; background: #e8f5e9\">величественно<span style=\"vertical-align: middle; margin-left: 2px; font-size: 0.7em; color: #66bb6a;\">positive</span></span>. Но на самом деле такой же <span style=\"padding: 2px; border-radius: 4px; border: 1px solid #ffcdd2; background: #ffebee\">\"сарай\"<span style=\"vertical-align: middle; margin-left: 2px; font-size: 0.7em; color: #e57373;\">negative</span></span> как <span style=\"padding: 2px; border-radius: 4px; border: 1px solid #ffcdd2; background: #ffebee\">Баргузин<span style=\"vertical-align: middle; margin-left: 2px; font-size: 0.7em; color: #e57373;\">negative</span></span>, <span style=\"padding: 2px; border-radius: 4px; border: 1px solid #ffcdd2; background: #ffebee\">Газель<span style=\"vertical-align: middle; margin-left: 2px; font-size: 0.7em; color: #e57373;\">negative</span></span> и прочее. Одно, что <span style=\"padding: 2px; border-radius: 4px; border: 1px solid #c8e6c9; background: #e8f5e9\">кочки пятой точкой не чувствуешь<span style=\"vertical-align: middle; margin-left: 2px; font-size: 0.7em; color: #66bb6a;\">positive</span></span> :) За такую <span style=\"padding: 2px; border-radius: 4px; border: 1px solid #ffcdd2; background: #ffebee\">цену<span style=\"vertical-align: middle; margin-left: 2px; font-size: 0.7em; color: #e57373;\">negative</span></span> ожидаешь лучшего <span style=\"padding: 2px; border-radius: 4px; border: 1px solid #ffcdd2; background: #ffebee\">качества<span style=\"vertical-align: middle; margin-left: 2px; font-size: 0.7em; color: #e57373;\">negative</span></span>. </div>"
            ],
            "text/plain": [
              "BoxMarkup('Начну с того, что на Тойоте Хайс работает мой муж и уже давненько. Поначалу машинка очень понравилась и внешне, и внутренне. Муж был просто в восторге, что его по работе пересадили с Баргузина на Хайс, и не замечал недостатков в этой машине. А так как он периодически отвозит меня на работу и забирает с работы на ней, то и я волей-неволей столкнулась с этой машиной. Конечно, после Баргузина Хайс казался просто нереальной машиной. И удобство кресел в салоне, и плавность хода, и внешний вид, всё приводило в восторг. Муж даже начал бредить идеей, что для нашей большой семьи (у нас трое деток) покупка такой машины в семью будет идеальной. Даже в мечтах обрисовывал, как он переделает салон под междугородние путешествия всей семьёй. Но прошло уже года три-четыре, как он работает на Тойоте Хайс. Сейчас могу сказать только одно: машина ужасная до безобразия. В этом мы убедились оба. Начну с того, что проживаем мы в северном районе нашей страны, и, соответственно, машина эксплуатируется зимой при довольно низких температурах. Так вот, в зимний период салон прогревается только в зоне передних сидений (водителя и пассажира), и то кое-как. В самом салоне машина не прогревается, несмотря на дополнительные печки и всевозможные регуляторы температуры нагрева. Так же зимой на поворотах (например, на перекрёстке) очень сильно заносит заднюю часть автомобиля. Ну это понятно - задний привод и всё остальное прочее. Но заносы эти, даже глядя со стороны, приводят в тихую жуть. Хайсов по городу бегает достаточное количество и регулярно наблюдается картина с этими заносами. Дверь на салазках снаружи открывается ужасно - женская половина пассажиров, в том числе и я, регулярно ломают ногти, так как ручка сделана не очень хорошо и с неё постоянно соскальзывают пальцы. В водительской части салона в принципе всё довольно неплохо, за исключением торпеды, которая после недолгой эксплуатации автомобиля начала греметь, что само по себе уже не приятно. Да и сам кузов Хайса начал скрипеть, чем сразу заслужил гордое звание \"Сарай\". Сервисное обслуживание в Тойота-центре нашего города тоже ниже плинтуса. Машина хоть и обслуживается за счёт организации, но после каждого ТО мой муж, мягко говоря, в шоке от того, как сервис-менеджеры каждый раз находят на ровном месте какие-то \"болячки\" у машины, дабы содрать побольше денег. А те поломки, которые действительно требуют серьёзного внимания, в заказ-наряде прописываются, но специалисты даже и не заглядывают туда. Таким образом, мой муж половину этой зимы проездил с \"инвалидным\" задним правым колесом: с места тронуться было невозможно - оно просто не крутилось, приходилось его срывать. Вобщем, впечатление от Хайса не айс (прям каламбур получился). Внешне, да, выглядит красиво и величественно. Но на самом деле такой же \"сарай\" как Баргузин, Газель и прочее. Одно, что кочки пятой точкой не чувствуешь :) За такую цену ожидаешь лучшего качества. ',\n",
              "          [Span(21, 32, 'neutral'),\n",
              "           Span(76, 83, 'positive'),\n",
              "           Span(104, 110, 'positive'),\n",
              "           Span(183, 192, 'neutral'),\n",
              "           Span(196, 200, 'positive'),\n",
              "           Span(234, 240, 'both'),\n",
              "           Span(359, 366, 'neutral'),\n",
              "           Span(383, 392, 'neutral'),\n",
              "           Span(393, 397, 'positive'),\n",
              "           Span(424, 431, 'positive'),\n",
              "           Span(435, 443, 'positive'),\n",
              "           Span(444, 459, 'positive'),\n",
              "           Span(463, 477, 'positive'),\n",
              "           Span(481, 492, 'positive'),\n",
              "           Span(610, 616, 'positive'),\n",
              "           Span(687, 692, 'neutral'),\n",
              "           Span(786, 797, 'neutral'),\n",
              "           Span(832, 838, 'negative'),\n",
              "           Span(969, 975, 'neutral'),\n",
              "           Span(1057, 1062, 'negative'),\n",
              "           Span(1063, 1075, 'negative'),\n",
              "           Span(1090, 1106, 'negative'),\n",
              "           Span(1160, 1166, 'negative'),\n",
              "           Span(1167, 1182, 'negative'),\n",
              "           Span(1211, 1216, 'neutral'),\n",
              "           Span(1232, 1262, 'neutral'),\n",
              "           Span(1277, 1289, 'negative'),\n",
              "           Span(1330, 1337, 'negative'),\n",
              "           Span(1338, 1361, 'negative'),\n",
              "           Span(1380, 1393, 'neutral'),\n",
              "           Span(1421, 1427, 'negative'),\n",
              "           Span(1479, 1485, 'negative'),\n",
              "           Span(1566, 1574, 'negative'),\n",
              "           Span(1576, 1593, 'negative'),\n",
              "           Span(1602, 1620, 'negative'),\n",
              "           Span(1701, 1706, 'negative'),\n",
              "           Span(1773, 1798, 'both'),\n",
              "           Span(1847, 1854, 'negative'),\n",
              "           Span(1910, 1917, 'negative'),\n",
              "           Span(1961, 1972, 'negative'),\n",
              "           Span(1979, 1987, 'negative'),\n",
              "           Span(2022, 2029, 'negative'),\n",
              "           Span(2031, 2053, 'negative'),\n",
              "           Span(2104, 2110, 'neutral'),\n",
              "           Span(2170, 2172, 'negative'),\n",
              "           Span(2289, 2295, 'negative'),\n",
              "           Span(2302, 2324, 'negative'),\n",
              "           Span(2331, 2338, 'negative'),\n",
              "           Span(2517, 2529, 'negative'),\n",
              "           Span(2530, 2551, 'negative'),\n",
              "           Span(2553, 2570, 'negative'),\n",
              "           Span(2600, 2612, 'negative'),\n",
              "           Span(2630, 2637, 'negative'),\n",
              "           Span(2662, 2667, 'negative'),\n",
              "           Span(2702, 2708, 'positive'),\n",
              "           Span(2714, 2722, 'positive'),\n",
              "           Span(2723, 2730, 'positive'),\n",
              "           Span(2733, 2746, 'positive'),\n",
              "           Span(2774, 2781, 'negative'),\n",
              "           Span(2786, 2794, 'negative'),\n",
              "           Span(2796, 2802, 'negative'),\n",
              "           Span(2823, 2855, 'positive'),\n",
              "           Span(2868, 2872, 'negative'),\n",
              "           Span(2890, 2898, 'negative')])"
            ]
          },
          "metadata": {},
          "output_type": "display_data"
        }
      ],
      "source": [
        "for rand_i in random_picks:\n",
        "    text, spans = texts_w_sentiment_spans[rand_i]\n",
        "    \n",
        "    print('Текст №:',rand_i)\n",
        "    show_markup(text,spans)"
      ]
    },
    {
      "cell_type": "markdown",
      "metadata": {
        "id": "rqbDBDP0yvIK"
      },
      "source": [
        "####  Аспекты (aspects)"
      ]
    },
    {
      "cell_type": "code",
      "execution_count": null,
      "metadata": {
        "scrolled": true,
        "id": "iVC8cyt6yvIM",
        "outputId": "5bddec4a-cc78-4c9f-a450-23352dd33ad4"
      },
      "outputs": [
        {
          "name": "stdout",
          "output_type": "stream",
          "text": [
            "Текст №: 76\n"
          ]
        },
        {
          "data": {
            "text/html": [
              "<div class=\"tex2jax_ignore\" style=\"white-space: pre-wrap\">Сегодня я купил <span style=\"padding: 2px; border-radius: 4px; border: 1px solid #ffcdd2; background: #ffebee\">машину лада гранта<span style=\"vertical-align: middle; margin-left: 2px; font-size: 0.7em; color: #e57373;\">Whole</span></span> и ни как не могу ее продать начнем с покупки <span style=\"padding: 2px; border-radius: 4px; border: 1px solid #ffcdd2; background: #ffebee\">машина<span style=\"vertical-align: middle; margin-left: 2px; font-size: 0.7em; color: #e57373;\">Costs</span></span> мне обошлась в четыреста восемдесят тысяч <span style=\"padding: 2px; border-radius: 4px; border: 1px solid #ffcdd2; background: #ffebee\">рублей<span style=\"vertical-align: middle; margin-left: 2px; font-size: 0.7em; color: #e57373;\">Costs</span></span> на реканий на <span style=\"padding: 2px; border-radius: 4px; border: 1px solid #ffcdd2; background: #ffebee\">машину<span style=\"vertical-align: middle; margin-left: 2px; font-size: 0.7em; color: #e57373;\">Whole</span></span> нет <span style=\"padding: 2px; border-radius: 4px; border: 1px solid #ffcdd2; background: #ffebee\">стоимость масла<span style=\"vertical-align: middle; margin-left: 2px; font-size: 0.7em; color: #e57373;\">Costs</span></span> 850 рублей замена бампера 5000 <span style=\"padding: 2px; border-radius: 4px; border: 1px solid #ffcdd2; background: #ffebee\">рублей<span style=\"vertical-align: middle; margin-left: 2px; font-size: 0.7em; color: #e57373;\">Costs</span></span> если собираетесь делать <span style=\"padding: 2px; border-radius: 4px; border: 1px solid #ffcdd2; background: #ffebee\">ремонт машины<span style=\"vertical-align: middle; margin-left: 2px; font-size: 0.7em; color: #e57373;\">Costs</span></span> капитально, то <span style=\"padding: 2px; border-radius: 4px; border: 1px solid #ffcdd2; background: #ffebee\">стоимость<span style=\"vertical-align: middle; margin-left: 2px; font-size: 0.7em; color: #e57373;\">Costs</span></span> обойдется в районе 200000 рублей <span style=\"padding: 2px; border-radius: 4px; border: 1px solid #bbdefb; background: #e3f2fd\">мощьность<span style=\"vertical-align: middle; margin-left: 2px; font-size: 0.7em; color: #64b5f6;\">Driveability</span></span> у нее 100 <span style=\"padding: 2px; border-radius: 4px; border: 1px solid #bbdefb; background: #e3f2fd\">лошадей<span style=\"vertical-align: middle; margin-left: 2px; font-size: 0.7em; color: #64b5f6;\">Driveability</span></span> <span style=\"padding: 2px; border-radius: 4px; border: 1px solid #bbdefb; background: #e3f2fd\">макс скорость<span style=\"vertical-align: middle; margin-left: 2px; font-size: 0.7em; color: #64b5f6;\">Driveability</span></span> 185 км в час. Общее впечатление : замечательный <span style=\"padding: 2px; border-radius: 4px; border: 1px solid #ffcdd2; background: #ffebee\">автомобиль<span style=\"vertical-align: middle; margin-left: 2px; font-size: 0.7em; color: #e57373;\">Whole</span></span></div>"
            ],
            "text/plain": [
              "BoxMarkup('Сегодня я купил машину лада гранта и ни как не могу ее продать начнем с покупки машина мне обошлась в четыреста восемдесят тысяч рублей на реканий на машину нет стоимость масла 850 рублей замена бампера 5000 рублей если собираетесь делать ремонт машины капитально, то стоимость обойдется в районе 200000 рублей мощьность у нее 100 лошадей макс скорость 185 км в час. Общее впечатление : замечательный автомобиль',\n",
              "          [Span(16, 34, 'Whole'),\n",
              "           Span(80, 86, 'Costs'),\n",
              "           Span(129, 135, 'Costs'),\n",
              "           Span(150, 156, 'Whole'),\n",
              "           Span(161, 176, 'Costs'),\n",
              "           Span(208, 214, 'Costs'),\n",
              "           Span(239, 252, 'Costs'),\n",
              "           Span(268, 277, 'Costs'),\n",
              "           Span(311, 320, 'Driveability'),\n",
              "           Span(331, 338, 'Driveability'),\n",
              "           Span(339, 352, 'Driveability'),\n",
              "           Span(401, 411, 'Whole')])"
            ]
          },
          "metadata": {},
          "output_type": "display_data"
        },
        {
          "name": "stdout",
          "output_type": "stream",
          "text": [
            "Текст №: 43\n"
          ]
        },
        {
          "data": {
            "text/html": [
              "<div class=\"tex2jax_ignore\" style=\"white-space: pre-wrap\">Начну с того, что на <span style=\"padding: 2px; border-radius: 4px; border: 1px solid #ffcdd2; background: #ffebee\">Тойоте Хайс<span style=\"vertical-align: middle; margin-left: 2px; font-size: 0.7em; color: #e57373;\">Whole</span></span> работает мой муж и уже давненько. Поначалу <span style=\"padding: 2px; border-radius: 4px; border: 1px solid #ffcdd2; background: #ffebee\">машинка<span style=\"vertical-align: middle; margin-left: 2px; font-size: 0.7em; color: #e57373;\">Whole</span></span> очень понравилась и <span style=\"padding: 2px; border-radius: 4px; border: 1px solid #bbdefb; background: #e3f2fd\">внешне<span style=\"vertical-align: middle; margin-left: 2px; font-size: 0.7em; color: #64b5f6;\">Appearance</span></span>, и внутренне. Муж был просто в восторге, что его по работе пересадили с <span style=\"padding: 2px; border-radius: 4px; border: 1px solid #ffcdd2; background: #ffebee\">Баргузина<span style=\"vertical-align: middle; margin-left: 2px; font-size: 0.7em; color: #e57373;\">Whole</span></span> на <span style=\"padding: 2px; border-radius: 4px; border: 1px solid #ffcdd2; background: #ffebee\">Хайс<span style=\"vertical-align: middle; margin-left: 2px; font-size: 0.7em; color: #e57373;\">Whole</span></span>, и не замечал недостатков в этой <span style=\"padding: 2px; border-radius: 4px; border: 1px solid #ffcdd2; background: #ffebee\">машине<span style=\"vertical-align: middle; margin-left: 2px; font-size: 0.7em; color: #e57373;\">Whole</span></span>. А так как он периодически отвозит меня на работу и забирает с работы на ней, то и я волей-неволей столкнулась с этой <span style=\"padding: 2px; border-radius: 4px; border: 1px solid #ffcdd2; background: #ffebee\">машиной<span style=\"vertical-align: middle; margin-left: 2px; font-size: 0.7em; color: #e57373;\">Whole</span></span>. Конечно, после <span style=\"padding: 2px; border-radius: 4px; border: 1px solid #ffcdd2; background: #ffebee\">Баргузина<span style=\"vertical-align: middle; margin-left: 2px; font-size: 0.7em; color: #e57373;\">Whole</span></span> <span style=\"padding: 2px; border-radius: 4px; border: 1px solid #ffcdd2; background: #ffebee\">Хайс<span style=\"vertical-align: middle; margin-left: 2px; font-size: 0.7em; color: #e57373;\">Whole</span></span> казался просто нереальной <span style=\"padding: 2px; border-radius: 4px; border: 1px solid #ffcdd2; background: #ffebee\">машиной<span style=\"vertical-align: middle; margin-left: 2px; font-size: 0.7em; color: #e57373;\">Whole</span></span>. И <span style=\"padding: 2px; border-radius: 4px; border: 1px solid #ffe0b2; background: #fff3e0\">удобство<span style=\"vertical-align: middle; margin-left: 2px; font-size: 0.7em; color: #ffb74d;\">Comfort</span></span> <span style=\"padding: 2px; border-radius: 4px; border: 1px solid #ffe0b2; background: #fff3e0\">кресел в салоне<span style=\"vertical-align: middle; margin-left: 2px; font-size: 0.7em; color: #ffb74d;\">Comfort</span></span>, и <span style=\"padding: 2px; border-radius: 4px; border: 1px solid #bbdefb; background: #e3f2fd\">плавность хода<span style=\"vertical-align: middle; margin-left: 2px; font-size: 0.7em; color: #64b5f6;\">Driveability</span></span>, и <span style=\"padding: 2px; border-radius: 4px; border: 1px solid #bbdefb; background: #e3f2fd\">внешний вид<span style=\"vertical-align: middle; margin-left: 2px; font-size: 0.7em; color: #64b5f6;\">Appearance</span></span>, всё приводило в восторг. Муж даже начал бредить идеей, что для нашей большой семьи (у нас трое деток) покупка такой <span style=\"padding: 2px; border-radius: 4px; border: 1px solid #ffcdd2; background: #ffebee\">машины<span style=\"vertical-align: middle; margin-left: 2px; font-size: 0.7em; color: #e57373;\">Whole</span></span> в семью будет идеальной. Даже в мечтах обрисовывал, как он переделает <span style=\"padding: 2px; border-radius: 4px; border: 1px solid #ffe0b2; background: #fff3e0\">салон<span style=\"vertical-align: middle; margin-left: 2px; font-size: 0.7em; color: #ffb74d;\">Comfort</span></span> под междугородние путешествия всей семьёй. Но прошло уже года три-четыре, как он работает на <span style=\"padding: 2px; border-radius: 4px; border: 1px solid #ffcdd2; background: #ffebee\">Тойоте Хайс<span style=\"vertical-align: middle; margin-left: 2px; font-size: 0.7em; color: #e57373;\">Whole</span></span>. Сейчас могу сказать только одно: <span style=\"padding: 2px; border-radius: 4px; border: 1px solid #ffcdd2; background: #ffebee\">машина<span style=\"vertical-align: middle; margin-left: 2px; font-size: 0.7em; color: #e57373;\">Whole</span></span> ужасная до безобразия. В этом мы убедились оба. Начну с того, что проживаем мы в северном районе нашей страны, и, соответственно, <span style=\"padding: 2px; border-radius: 4px; border: 1px solid #ffcdd2; background: #ffebee\">машина<span style=\"vertical-align: middle; margin-left: 2px; font-size: 0.7em; color: #e57373;\">Whole</span></span> эксплуатируется зимой при довольно низких температурах. Так вот, в зимний период <span style=\"padding: 2px; border-radius: 4px; border: 1px solid #ffe0b2; background: #fff3e0\">салон<span style=\"vertical-align: middle; margin-left: 2px; font-size: 0.7em; color: #ffb74d;\">Comfort</span></span> <span style=\"padding: 2px; border-radius: 4px; border: 1px solid #ffe0b2; background: #fff3e0\">прогревается<span style=\"vertical-align: middle; margin-left: 2px; font-size: 0.7em; color: #ffb74d;\">Comfort</span></span> только в зоне <span style=\"padding: 2px; border-radius: 4px; border: 1px solid #ffe0b2; background: #fff3e0\">передних сидений<span style=\"vertical-align: middle; margin-left: 2px; font-size: 0.7em; color: #ffb74d;\">Comfort</span></span> (водителя и пассажира), и то кое-как. В самом салоне <span style=\"padding: 2px; border-radius: 4px; border: 1px solid #ffe0b2; background: #fff3e0\">машина<span style=\"vertical-align: middle; margin-left: 2px; font-size: 0.7em; color: #ffb74d;\">Comfort</span></span> <span style=\"padding: 2px; border-radius: 4px; border: 1px solid #ffe0b2; background: #fff3e0\">не прогревается<span style=\"vertical-align: middle; margin-left: 2px; font-size: 0.7em; color: #ffb74d;\">Comfort</span></span>, несмотря на дополнительные <span style=\"padding: 2px; border-radius: 4px; border: 1px solid #ffe0b2; background: #fff3e0\">печки<span style=\"vertical-align: middle; margin-left: 2px; font-size: 0.7em; color: #ffb74d;\">Comfort</span></span> и всевозможные <span style=\"padding: 2px; border-radius: 4px; border: 1px solid #ffe0b2; background: #fff3e0\">регуляторы температуры нагрева<span style=\"vertical-align: middle; margin-left: 2px; font-size: 0.7em; color: #ffb74d;\">Comfort</span></span>. Так же зимой <span style=\"padding: 2px; border-radius: 4px; border: 1px solid #bbdefb; background: #e3f2fd\">на поворотах<span style=\"vertical-align: middle; margin-left: 2px; font-size: 0.7em; color: #64b5f6;\">Driveability</span></span> (например, на перекрёстке) очень сильно <span style=\"padding: 2px; border-radius: 4px; border: 1px solid #bbdefb; background: #e3f2fd\">заносит<span style=\"vertical-align: middle; margin-left: 2px; font-size: 0.7em; color: #64b5f6;\">Driveability</span></span> <span style=\"padding: 2px; border-radius: 4px; border: 1px solid #bbdefb; background: #e3f2fd\">заднюю часть автомобиля<span style=\"vertical-align: middle; margin-left: 2px; font-size: 0.7em; color: #64b5f6;\">Driveability</span></span>. Ну это понятно - <span style=\"padding: 2px; border-radius: 4px; border: 1px solid #bbdefb; background: #e3f2fd\">задний привод<span style=\"vertical-align: middle; margin-left: 2px; font-size: 0.7em; color: #64b5f6;\">Driveability</span></span> и всё остальное прочее. Но <span style=\"padding: 2px; border-radius: 4px; border: 1px solid #bbdefb; background: #e3f2fd\">заносы<span style=\"vertical-align: middle; margin-left: 2px; font-size: 0.7em; color: #64b5f6;\">Driveability</span></span> эти, даже глядя со стороны, приводят в тихую жуть. <span style=\"padding: 2px; border-radius: 4px; border: 1px solid #bbdefb; background: #e3f2fd\">Хайсов<span style=\"vertical-align: middle; margin-left: 2px; font-size: 0.7em; color: #64b5f6;\">Driveability</span></span> по городу бегает достаточное количество и регулярно наблюдается картина с этими <span style=\"padding: 2px; border-radius: 4px; border: 1px solid #bbdefb; background: #e3f2fd\">заносами<span style=\"vertical-align: middle; margin-left: 2px; font-size: 0.7em; color: #64b5f6;\">Driveability</span></span>. <span style=\"padding: 2px; border-radius: 4px; border: 1px solid #ffe0b2; background: #fff3e0\">Дверь на салазках<span style=\"vertical-align: middle; margin-left: 2px; font-size: 0.7em; color: #ffb74d;\">Comfort</span></span> снаружи <span style=\"padding: 2px; border-radius: 4px; border: 1px solid #ffe0b2; background: #fff3e0\">открывается ужасно<span style=\"vertical-align: middle; margin-left: 2px; font-size: 0.7em; color: #ffb74d;\">Comfort</span></span> - женская половина пассажиров, в том числе и я, регулярно ломают ногти, так как <span style=\"padding: 2px; border-radius: 4px; border: 1px solid #ffe0b2; background: #fff3e0\">ручка<span style=\"vertical-align: middle; margin-left: 2px; font-size: 0.7em; color: #ffb74d;\">Comfort</span></span> сделана не очень хорошо и с неё постоянно соскальзывают пальцы. В <span style=\"padding: 2px; border-radius: 4px; border: 1px solid #ffe0b2; background: #fff3e0\">водительской части салона<span style=\"vertical-align: middle; margin-left: 2px; font-size: 0.7em; color: #ffb74d;\">Comfort</span></span> в принципе всё довольно неплохо, за исключением <span style=\"padding: 2px; border-radius: 4px; border: 1px solid #ffe0b2; background: #fff3e0\">торпеды<span style=\"vertical-align: middle; margin-left: 2px; font-size: 0.7em; color: #ffb74d;\">Comfort</span></span>, которая после недолгой эксплуатации автомобиля начала <span style=\"padding: 2px; border-radius: 4px; border: 1px solid #ffe0b2; background: #fff3e0\">греметь<span style=\"vertical-align: middle; margin-left: 2px; font-size: 0.7em; color: #ffb74d;\">Comfort</span></span>, что само по себе уже не приятно. Да и сам <span style=\"padding: 2px; border-radius: 4px; border: 1px solid #ffe0b2; background: #fff3e0\">кузов Хайса<span style=\"vertical-align: middle; margin-left: 2px; font-size: 0.7em; color: #ffb74d;\">Comfort</span></span> начал <span style=\"padding: 2px; border-radius: 4px; border: 1px solid #ffe0b2; background: #fff3e0\">скрипеть<span style=\"vertical-align: middle; margin-left: 2px; font-size: 0.7em; color: #ffb74d;\">Comfort</span></span>, чем сразу заслужил гордое звание <span style=\"padding: 2px; border-radius: 4px; border: 1px solid #c8e6c9; background: #e8f5e9\">\"Сарай\"<span style=\"vertical-align: middle; margin-left: 2px; font-size: 0.7em; color: #66bb6a;\">Reliability</span></span>. <span style=\"padding: 2px; border-radius: 4px; border: 1px solid #c8e6c9; background: #e8f5e9\">Сервисное обслуживание<span style=\"vertical-align: middle; margin-left: 2px; font-size: 0.7em; color: #66bb6a;\">Reliability</span></span> в Тойота-центре нашего города тоже ниже плинтуса. <span style=\"padding: 2px; border-radius: 4px; border: 1px solid #c8e6c9; background: #e8f5e9\">Машина<span style=\"vertical-align: middle; margin-left: 2px; font-size: 0.7em; color: #66bb6a;\">Reliability</span></span> хоть и обслуживается за счёт организации, но после каждого <span style=\"padding: 2px; border-radius: 4px; border: 1px solid #c8e6c9; background: #e8f5e9\">ТО<span style=\"vertical-align: middle; margin-left: 2px; font-size: 0.7em; color: #66bb6a;\">Reliability</span></span> мой муж, мягко говоря, в шоке от того, как сервис-менеджеры каждый раз находят на ровном месте какие-то \"болячки\" у <span style=\"padding: 2px; border-radius: 4px; border: 1px solid #ffcdd2; background: #ffebee\">машины<span style=\"vertical-align: middle; margin-left: 2px; font-size: 0.7em; color: #e57373;\">Costs</span></span>, дабы <span style=\"padding: 2px; border-radius: 4px; border: 1px solid #ffcdd2; background: #ffebee\">содрать побольше денег<span style=\"vertical-align: middle; margin-left: 2px; font-size: 0.7em; color: #e57373;\">Costs</span></span>. А те <span style=\"padding: 2px; border-radius: 4px; border: 1px solid #c8e6c9; background: #e8f5e9\">поломки<span style=\"vertical-align: middle; margin-left: 2px; font-size: 0.7em; color: #66bb6a;\">Reliability</span></span>, которые действительно требуют серьёзного внимания, в заказ-наряде прописываются, но специалисты даже и не заглядывают туда. Таким образом, мой муж половину этой зимы проездил с <span style=\"padding: 2px; border-radius: 4px; border: 1px solid #c8e6c9; background: #e8f5e9\">\"инвалидным\"<span style=\"vertical-align: middle; margin-left: 2px; font-size: 0.7em; color: #66bb6a;\">Reliability</span></span> <span style=\"padding: 2px; border-radius: 4px; border: 1px solid #c8e6c9; background: #e8f5e9\">задним правым колесом<span style=\"vertical-align: middle; margin-left: 2px; font-size: 0.7em; color: #66bb6a;\">Reliability</span></span>: <span style=\"padding: 2px; border-radius: 4px; border: 1px solid #bbdefb; background: #e3f2fd\">с места тронуться<span style=\"vertical-align: middle; margin-left: 2px; font-size: 0.7em; color: #64b5f6;\">Driveability</span></span> было невозможно - оно просто <span style=\"padding: 2px; border-radius: 4px; border: 1px solid #c8e6c9; background: #e8f5e9\">не крутилось<span style=\"vertical-align: middle; margin-left: 2px; font-size: 0.7em; color: #66bb6a;\">Reliability</span></span>, приходилось его <span style=\"padding: 2px; border-radius: 4px; border: 1px solid #bbdefb; background: #e3f2fd\">срывать<span style=\"vertical-align: middle; margin-left: 2px; font-size: 0.7em; color: #64b5f6;\">Driveability</span></span>. Вобщем, впечатление от <span style=\"padding: 2px; border-radius: 4px; border: 1px solid #ffcdd2; background: #ffebee\">Хайса<span style=\"vertical-align: middle; margin-left: 2px; font-size: 0.7em; color: #e57373;\">Whole</span></span> не айс (прям каламбур получился). <span style=\"padding: 2px; border-radius: 4px; border: 1px solid #bbdefb; background: #e3f2fd\">Внешне<span style=\"vertical-align: middle; margin-left: 2px; font-size: 0.7em; color: #64b5f6;\">Appearance</span></span>, да, <span style=\"padding: 2px; border-radius: 4px; border: 1px solid #bbdefb; background: #e3f2fd\">выглядит<span style=\"vertical-align: middle; margin-left: 2px; font-size: 0.7em; color: #64b5f6;\">Appearance</span></span> <span style=\"padding: 2px; border-radius: 4px; border: 1px solid #bbdefb; background: #e3f2fd\">красиво<span style=\"vertical-align: middle; margin-left: 2px; font-size: 0.7em; color: #64b5f6;\">Appearance</span></span> и <span style=\"padding: 2px; border-radius: 4px; border: 1px solid #bbdefb; background: #e3f2fd\">величественно<span style=\"vertical-align: middle; margin-left: 2px; font-size: 0.7em; color: #64b5f6;\">Appearance</span></span>. Но на самом деле такой же <span style=\"padding: 2px; border-radius: 4px; border: 1px solid #c8e6c9; background: #e8f5e9\">\"сарай\"<span style=\"vertical-align: middle; margin-left: 2px; font-size: 0.7em; color: #66bb6a;\">Reliability</span></span> как <span style=\"padding: 2px; border-radius: 4px; border: 1px solid #c8e6c9; background: #e8f5e9\">Баргузин<span style=\"vertical-align: middle; margin-left: 2px; font-size: 0.7em; color: #66bb6a;\">Reliability</span></span>, <span style=\"padding: 2px; border-radius: 4px; border: 1px solid #c8e6c9; background: #e8f5e9\">Газель<span style=\"vertical-align: middle; margin-left: 2px; font-size: 0.7em; color: #66bb6a;\">Reliability</span></span> и прочее. Одно, что <span style=\"padding: 2px; border-radius: 4px; border: 1px solid #bbdefb; background: #e3f2fd\">кочки пятой точкой не чувствуешь<span style=\"vertical-align: middle; margin-left: 2px; font-size: 0.7em; color: #64b5f6;\">Driveability</span></span> :) За такую <span style=\"padding: 2px; border-radius: 4px; border: 1px solid #ffcdd2; background: #ffebee\">цену<span style=\"vertical-align: middle; margin-left: 2px; font-size: 0.7em; color: #e57373;\">Costs</span></span> ожидаешь лучшего <span style=\"padding: 2px; border-radius: 4px; border: 1px solid #c8e6c9; background: #e8f5e9\">качества<span style=\"vertical-align: middle; margin-left: 2px; font-size: 0.7em; color: #66bb6a;\">Reliability</span></span>. </div>"
            ],
            "text/plain": [
              "BoxMarkup('Начну с того, что на Тойоте Хайс работает мой муж и уже давненько. Поначалу машинка очень понравилась и внешне, и внутренне. Муж был просто в восторге, что его по работе пересадили с Баргузина на Хайс, и не замечал недостатков в этой машине. А так как он периодически отвозит меня на работу и забирает с работы на ней, то и я волей-неволей столкнулась с этой машиной. Конечно, после Баргузина Хайс казался просто нереальной машиной. И удобство кресел в салоне, и плавность хода, и внешний вид, всё приводило в восторг. Муж даже начал бредить идеей, что для нашей большой семьи (у нас трое деток) покупка такой машины в семью будет идеальной. Даже в мечтах обрисовывал, как он переделает салон под междугородние путешествия всей семьёй. Но прошло уже года три-четыре, как он работает на Тойоте Хайс. Сейчас могу сказать только одно: машина ужасная до безобразия. В этом мы убедились оба. Начну с того, что проживаем мы в северном районе нашей страны, и, соответственно, машина эксплуатируется зимой при довольно низких температурах. Так вот, в зимний период салон прогревается только в зоне передних сидений (водителя и пассажира), и то кое-как. В самом салоне машина не прогревается, несмотря на дополнительные печки и всевозможные регуляторы температуры нагрева. Так же зимой на поворотах (например, на перекрёстке) очень сильно заносит заднюю часть автомобиля. Ну это понятно - задний привод и всё остальное прочее. Но заносы эти, даже глядя со стороны, приводят в тихую жуть. Хайсов по городу бегает достаточное количество и регулярно наблюдается картина с этими заносами. Дверь на салазках снаружи открывается ужасно - женская половина пассажиров, в том числе и я, регулярно ломают ногти, так как ручка сделана не очень хорошо и с неё постоянно соскальзывают пальцы. В водительской части салона в принципе всё довольно неплохо, за исключением торпеды, которая после недолгой эксплуатации автомобиля начала греметь, что само по себе уже не приятно. Да и сам кузов Хайса начал скрипеть, чем сразу заслужил гордое звание \"Сарай\". Сервисное обслуживание в Тойота-центре нашего города тоже ниже плинтуса. Машина хоть и обслуживается за счёт организации, но после каждого ТО мой муж, мягко говоря, в шоке от того, как сервис-менеджеры каждый раз находят на ровном месте какие-то \"болячки\" у машины, дабы содрать побольше денег. А те поломки, которые действительно требуют серьёзного внимания, в заказ-наряде прописываются, но специалисты даже и не заглядывают туда. Таким образом, мой муж половину этой зимы проездил с \"инвалидным\" задним правым колесом: с места тронуться было невозможно - оно просто не крутилось, приходилось его срывать. Вобщем, впечатление от Хайса не айс (прям каламбур получился). Внешне, да, выглядит красиво и величественно. Но на самом деле такой же \"сарай\" как Баргузин, Газель и прочее. Одно, что кочки пятой точкой не чувствуешь :) За такую цену ожидаешь лучшего качества. ',\n",
              "          [Span(21, 32, 'Whole'),\n",
              "           Span(76, 83, 'Whole'),\n",
              "           Span(104, 110, 'Appearance'),\n",
              "           Span(183, 192, 'Whole'),\n",
              "           Span(196, 200, 'Whole'),\n",
              "           Span(234, 240, 'Whole'),\n",
              "           Span(359, 366, 'Whole'),\n",
              "           Span(383, 392, 'Whole'),\n",
              "           Span(393, 397, 'Whole'),\n",
              "           Span(424, 431, 'Whole'),\n",
              "           Span(435, 443, 'Comfort'),\n",
              "           Span(444, 459, 'Comfort'),\n",
              "           Span(463, 477, 'Driveability'),\n",
              "           Span(481, 492, 'Appearance'),\n",
              "           Span(610, 616, 'Whole'),\n",
              "           Span(687, 692, 'Comfort'),\n",
              "           Span(786, 797, 'Whole'),\n",
              "           Span(832, 838, 'Whole'),\n",
              "           Span(969, 975, 'Whole'),\n",
              "           Span(1057, 1062, 'Comfort'),\n",
              "           Span(1063, 1075, 'Comfort'),\n",
              "           Span(1090, 1106, 'Comfort'),\n",
              "           Span(1160, 1166, 'Comfort'),\n",
              "           Span(1167, 1182, 'Comfort'),\n",
              "           Span(1211, 1216, 'Comfort'),\n",
              "           Span(1232, 1262, 'Comfort'),\n",
              "           Span(1277, 1289, 'Driveability'),\n",
              "           Span(1330, 1337, 'Driveability'),\n",
              "           Span(1338, 1361, 'Driveability'),\n",
              "           Span(1380, 1393, 'Driveability'),\n",
              "           Span(1421, 1427, 'Driveability'),\n",
              "           Span(1479, 1485, 'Driveability'),\n",
              "           Span(1566, 1574, 'Driveability'),\n",
              "           Span(1576, 1593, 'Comfort'),\n",
              "           Span(1602, 1620, 'Comfort'),\n",
              "           Span(1701, 1706, 'Comfort'),\n",
              "           Span(1773, 1798, 'Comfort'),\n",
              "           Span(1847, 1854, 'Comfort'),\n",
              "           Span(1910, 1917, 'Comfort'),\n",
              "           Span(1961, 1972, 'Comfort'),\n",
              "           Span(1979, 1987, 'Comfort'),\n",
              "           Span(2022, 2029, 'Reliability'),\n",
              "           Span(2031, 2053, 'Reliability'),\n",
              "           Span(2104, 2110, 'Reliability'),\n",
              "           Span(2170, 2172, 'Reliability'),\n",
              "           Span(2289, 2295, 'Costs'),\n",
              "           Span(2302, 2324, 'Costs'),\n",
              "           Span(2331, 2338, 'Reliability'),\n",
              "           Span(2517, 2529, 'Reliability'),\n",
              "           Span(2530, 2551, 'Reliability'),\n",
              "           Span(2553, 2570, 'Driveability'),\n",
              "           Span(2600, 2612, 'Reliability'),\n",
              "           Span(2630, 2637, 'Driveability'),\n",
              "           Span(2662, 2667, 'Whole'),\n",
              "           Span(2702, 2708, 'Appearance'),\n",
              "           Span(2714, 2722, 'Appearance'),\n",
              "           Span(2723, 2730, 'Appearance'),\n",
              "           Span(2733, 2746, 'Appearance'),\n",
              "           Span(2774, 2781, 'Reliability'),\n",
              "           Span(2786, 2794, 'Reliability'),\n",
              "           Span(2796, 2802, 'Reliability'),\n",
              "           Span(2823, 2855, 'Driveability'),\n",
              "           Span(2868, 2872, 'Costs'),\n",
              "           Span(2890, 2898, 'Reliability')])"
            ]
          },
          "metadata": {},
          "output_type": "display_data"
        }
      ],
      "source": [
        "for rand_i in random_picks:\n",
        "    text,spans = texts_w_aspect_spans[rand_i]\n",
        "    \n",
        "    print('Текст №:',rand_i)\n",
        "    show_markup(text,spans)"
      ]
    },
    {
      "cell_type": "markdown",
      "metadata": {
        "id": "1tcOdBHjyvIP"
      },
      "source": [
        "## BIO-тэги для обучения модели"
      ]
    },
    {
      "cell_type": "code",
      "execution_count": null,
      "metadata": {
        "id": "Ca3u6hL_yvIR"
      },
      "outputs": [],
      "source": [
        "from dlnlputils.sentiment_utils import fill_gaps, extract_BIO_tagged_tokens"
      ]
    },
    {
      "cell_type": "code",
      "execution_count": null,
      "metadata": {
        "id": "u70zE1JMyvIS",
        "outputId": "400cc482-bb80-486e-d418-82e1a2a5e03f"
      },
      "outputs": [
        {
          "name": "stdout",
          "output_type": "stream",
          "text": [
            "Полное покрытие разметкой текста №: 76\n"
          ]
        },
        {
          "data": {
            "text/html": [
              "<div class=\"tex2jax_ignore\" style=\"white-space: pre-wrap\"><span style=\"padding: 2px; border-radius: 4px; border: 1px solid #d7ccc8; background: #efebe9\">Сегодня я купил <span style=\"vertical-align: middle; margin-left: 2px; font-size: 0.7em; color: #a1887f;\">Other</span></span><span style=\"padding: 2px; border-radius: 4px; border: 1px solid #ffcdd2; background: #ffebee\">машину лада гранта<span style=\"vertical-align: middle; margin-left: 2px; font-size: 0.7em; color: #e57373;\">Whole</span></span><span style=\"padding: 2px; border-radius: 4px; border: 1px solid #d7ccc8; background: #efebe9\"> и ни как не могу ее продать начнем с покупки <span style=\"vertical-align: middle; margin-left: 2px; font-size: 0.7em; color: #a1887f;\">Other</span></span><span style=\"padding: 2px; border-radius: 4px; border: 1px solid #ffcdd2; background: #ffebee\">машина<span style=\"vertical-align: middle; margin-left: 2px; font-size: 0.7em; color: #e57373;\">Costs</span></span><span style=\"padding: 2px; border-radius: 4px; border: 1px solid #d7ccc8; background: #efebe9\"> мне обошлась в четыреста восемдесят тысяч <span style=\"vertical-align: middle; margin-left: 2px; font-size: 0.7em; color: #a1887f;\">Other</span></span><span style=\"padding: 2px; border-radius: 4px; border: 1px solid #ffcdd2; background: #ffebee\">рублей<span style=\"vertical-align: middle; margin-left: 2px; font-size: 0.7em; color: #e57373;\">Costs</span></span><span style=\"padding: 2px; border-radius: 4px; border: 1px solid #d7ccc8; background: #efebe9\"> на реканий на <span style=\"vertical-align: middle; margin-left: 2px; font-size: 0.7em; color: #a1887f;\">Other</span></span><span style=\"padding: 2px; border-radius: 4px; border: 1px solid #ffcdd2; background: #ffebee\">машину<span style=\"vertical-align: middle; margin-left: 2px; font-size: 0.7em; color: #e57373;\">Whole</span></span><span style=\"padding: 2px; border-radius: 4px; border: 1px solid #d7ccc8; background: #efebe9\"> нет <span style=\"vertical-align: middle; margin-left: 2px; font-size: 0.7em; color: #a1887f;\">Other</span></span><span style=\"padding: 2px; border-radius: 4px; border: 1px solid #ffcdd2; background: #ffebee\">стоимость масла<span style=\"vertical-align: middle; margin-left: 2px; font-size: 0.7em; color: #e57373;\">Costs</span></span><span style=\"padding: 2px; border-radius: 4px; border: 1px solid #d7ccc8; background: #efebe9\"> 850 рублей замена бампера 5000 <span style=\"vertical-align: middle; margin-left: 2px; font-size: 0.7em; color: #a1887f;\">Other</span></span><span style=\"padding: 2px; border-radius: 4px; border: 1px solid #ffcdd2; background: #ffebee\">рублей<span style=\"vertical-align: middle; margin-left: 2px; font-size: 0.7em; color: #e57373;\">Costs</span></span><span style=\"padding: 2px; border-radius: 4px; border: 1px solid #d7ccc8; background: #efebe9\"> если собираетесь делать <span style=\"vertical-align: middle; margin-left: 2px; font-size: 0.7em; color: #a1887f;\">Other</span></span><span style=\"padding: 2px; border-radius: 4px; border: 1px solid #ffcdd2; background: #ffebee\">ремонт машины<span style=\"vertical-align: middle; margin-left: 2px; font-size: 0.7em; color: #e57373;\">Costs</span></span><span style=\"padding: 2px; border-radius: 4px; border: 1px solid #d7ccc8; background: #efebe9\"> капитально, то <span style=\"vertical-align: middle; margin-left: 2px; font-size: 0.7em; color: #a1887f;\">Other</span></span><span style=\"padding: 2px; border-radius: 4px; border: 1px solid #ffcdd2; background: #ffebee\">стоимость<span style=\"vertical-align: middle; margin-left: 2px; font-size: 0.7em; color: #e57373;\">Costs</span></span><span style=\"padding: 2px; border-radius: 4px; border: 1px solid #d7ccc8; background: #efebe9\"> обойдется в районе 200000 рублей <span style=\"vertical-align: middle; margin-left: 2px; font-size: 0.7em; color: #a1887f;\">Other</span></span><span style=\"padding: 2px; border-radius: 4px; border: 1px solid #bbdefb; background: #e3f2fd\">мощьность<span style=\"vertical-align: middle; margin-left: 2px; font-size: 0.7em; color: #64b5f6;\">Driveability</span></span><span style=\"padding: 2px; border-radius: 4px; border: 1px solid #d7ccc8; background: #efebe9\"> у нее 100 <span style=\"vertical-align: middle; margin-left: 2px; font-size: 0.7em; color: #a1887f;\">Other</span></span><span style=\"padding: 2px; border-radius: 4px; border: 1px solid #bbdefb; background: #e3f2fd\">лошадей<span style=\"vertical-align: middle; margin-left: 2px; font-size: 0.7em; color: #64b5f6;\">Driveability</span></span><span style=\"padding: 2px; border-radius: 4px; border: 1px solid #d7ccc8; background: #efebe9\"> <span style=\"vertical-align: middle; margin-left: 2px; font-size: 0.7em; color: #a1887f;\">Other</span></span><span style=\"padding: 2px; border-radius: 4px; border: 1px solid #bbdefb; background: #e3f2fd\">макс скорость<span style=\"vertical-align: middle; margin-left: 2px; font-size: 0.7em; color: #64b5f6;\">Driveability</span></span><span style=\"padding: 2px; border-radius: 4px; border: 1px solid #d7ccc8; background: #efebe9\"> 185 км в час. Общее впечатление : замечательный <span style=\"vertical-align: middle; margin-left: 2px; font-size: 0.7em; color: #a1887f;\">Other</span></span><span style=\"padding: 2px; border-radius: 4px; border: 1px solid #ffcdd2; background: #ffebee\">автомобиль<span style=\"vertical-align: middle; margin-left: 2px; font-size: 0.7em; color: #e57373;\">Whole</span></span></div>"
            ],
            "text/plain": [
              "BoxMarkup('Сегодня я купил машину лада гранта и ни как не могу ее продать начнем с покупки машина мне обошлась в четыреста восемдесят тысяч рублей на реканий на машину нет стоимость масла 850 рублей замена бампера 5000 рублей если собираетесь делать ремонт машины капитально, то стоимость обойдется в районе 200000 рублей мощьность у нее 100 лошадей макс скорость 185 км в час. Общее впечатление : замечательный автомобиль',\n",
              "          [Span(0, 16, 'Other'),\n",
              "           Span(16, 34, 'Whole'),\n",
              "           Span(34, 80, 'Other'),\n",
              "           Span(80, 86, 'Costs'),\n",
              "           Span(86, 129, 'Other'),\n",
              "           Span(129, 135, 'Costs'),\n",
              "           Span(135, 150, 'Other'),\n",
              "           Span(150, 156, 'Whole'),\n",
              "           Span(156, 161, 'Other'),\n",
              "           Span(161, 176, 'Costs'),\n",
              "           Span(176, 208, 'Other'),\n",
              "           Span(208, 214, 'Costs'),\n",
              "           Span(214, 239, 'Other'),\n",
              "           Span(239, 252, 'Costs'),\n",
              "           Span(252, 268, 'Other'),\n",
              "           Span(268, 277, 'Costs'),\n",
              "           Span(277, 311, 'Other'),\n",
              "           Span(311, 320, 'Driveability'),\n",
              "           Span(320, 331, 'Other'),\n",
              "           Span(331, 338, 'Driveability'),\n",
              "           Span(338, 339, 'Other'),\n",
              "           Span(339, 352, 'Driveability'),\n",
              "           Span(352, 401, 'Other'),\n",
              "           Span(401, 411, 'Whole')])"
            ]
          },
          "metadata": {},
          "output_type": "display_data"
        },
        {
          "name": "stdout",
          "output_type": "stream",
          "text": [
            "Полное покрытие разметкой текста №: 43\n"
          ]
        },
        {
          "data": {
            "text/html": [
              "<div class=\"tex2jax_ignore\" style=\"white-space: pre-wrap\"><span style=\"padding: 2px; border-radius: 4px; border: 1px solid #d7ccc8; background: #efebe9\">Начну с того, что на <span style=\"vertical-align: middle; margin-left: 2px; font-size: 0.7em; color: #a1887f;\">Other</span></span><span style=\"padding: 2px; border-radius: 4px; border: 1px solid #ffcdd2; background: #ffebee\">Тойоте Хайс<span style=\"vertical-align: middle; margin-left: 2px; font-size: 0.7em; color: #e57373;\">Whole</span></span><span style=\"padding: 2px; border-radius: 4px; border: 1px solid #d7ccc8; background: #efebe9\"> работает мой муж и уже давненько. Поначалу <span style=\"vertical-align: middle; margin-left: 2px; font-size: 0.7em; color: #a1887f;\">Other</span></span><span style=\"padding: 2px; border-radius: 4px; border: 1px solid #ffcdd2; background: #ffebee\">машинка<span style=\"vertical-align: middle; margin-left: 2px; font-size: 0.7em; color: #e57373;\">Whole</span></span><span style=\"padding: 2px; border-radius: 4px; border: 1px solid #d7ccc8; background: #efebe9\"> очень понравилась и <span style=\"vertical-align: middle; margin-left: 2px; font-size: 0.7em; color: #a1887f;\">Other</span></span><span style=\"padding: 2px; border-radius: 4px; border: 1px solid #bbdefb; background: #e3f2fd\">внешне<span style=\"vertical-align: middle; margin-left: 2px; font-size: 0.7em; color: #64b5f6;\">Appearance</span></span><span style=\"padding: 2px; border-radius: 4px; border: 1px solid #d7ccc8; background: #efebe9\">, и внутренне. Муж был просто в восторге, что его по работе пересадили с <span style=\"vertical-align: middle; margin-left: 2px; font-size: 0.7em; color: #a1887f;\">Other</span></span><span style=\"padding: 2px; border-radius: 4px; border: 1px solid #ffcdd2; background: #ffebee\">Баргузина<span style=\"vertical-align: middle; margin-left: 2px; font-size: 0.7em; color: #e57373;\">Whole</span></span><span style=\"padding: 2px; border-radius: 4px; border: 1px solid #d7ccc8; background: #efebe9\"> на <span style=\"vertical-align: middle; margin-left: 2px; font-size: 0.7em; color: #a1887f;\">Other</span></span><span style=\"padding: 2px; border-radius: 4px; border: 1px solid #ffcdd2; background: #ffebee\">Хайс<span style=\"vertical-align: middle; margin-left: 2px; font-size: 0.7em; color: #e57373;\">Whole</span></span><span style=\"padding: 2px; border-radius: 4px; border: 1px solid #d7ccc8; background: #efebe9\">, и не замечал недостатков в этой <span style=\"vertical-align: middle; margin-left: 2px; font-size: 0.7em; color: #a1887f;\">Other</span></span><span style=\"padding: 2px; border-radius: 4px; border: 1px solid #ffcdd2; background: #ffebee\">машине<span style=\"vertical-align: middle; margin-left: 2px; font-size: 0.7em; color: #e57373;\">Whole</span></span><span style=\"padding: 2px; border-radius: 4px; border: 1px solid #d7ccc8; background: #efebe9\">. А так как он периодически отвозит меня на работу и забирает с работы на ней, то и я волей-неволей столкнулась с этой <span style=\"vertical-align: middle; margin-left: 2px; font-size: 0.7em; color: #a1887f;\">Other</span></span><span style=\"padding: 2px; border-radius: 4px; border: 1px solid #ffcdd2; background: #ffebee\">машиной<span style=\"vertical-align: middle; margin-left: 2px; font-size: 0.7em; color: #e57373;\">Whole</span></span><span style=\"padding: 2px; border-radius: 4px; border: 1px solid #d7ccc8; background: #efebe9\">. Конечно, после <span style=\"vertical-align: middle; margin-left: 2px; font-size: 0.7em; color: #a1887f;\">Other</span></span><span style=\"padding: 2px; border-radius: 4px; border: 1px solid #ffcdd2; background: #ffebee\">Баргузина<span style=\"vertical-align: middle; margin-left: 2px; font-size: 0.7em; color: #e57373;\">Whole</span></span><span style=\"padding: 2px; border-radius: 4px; border: 1px solid #d7ccc8; background: #efebe9\"> <span style=\"vertical-align: middle; margin-left: 2px; font-size: 0.7em; color: #a1887f;\">Other</span></span><span style=\"padding: 2px; border-radius: 4px; border: 1px solid #ffcdd2; background: #ffebee\">Хайс<span style=\"vertical-align: middle; margin-left: 2px; font-size: 0.7em; color: #e57373;\">Whole</span></span><span style=\"padding: 2px; border-radius: 4px; border: 1px solid #d7ccc8; background: #efebe9\"> казался просто нереальной <span style=\"vertical-align: middle; margin-left: 2px; font-size: 0.7em; color: #a1887f;\">Other</span></span><span style=\"padding: 2px; border-radius: 4px; border: 1px solid #ffcdd2; background: #ffebee\">машиной<span style=\"vertical-align: middle; margin-left: 2px; font-size: 0.7em; color: #e57373;\">Whole</span></span><span style=\"padding: 2px; border-radius: 4px; border: 1px solid #d7ccc8; background: #efebe9\">. И <span style=\"vertical-align: middle; margin-left: 2px; font-size: 0.7em; color: #a1887f;\">Other</span></span><span style=\"padding: 2px; border-radius: 4px; border: 1px solid #ffe0b2; background: #fff3e0\">удобство<span style=\"vertical-align: middle; margin-left: 2px; font-size: 0.7em; color: #ffb74d;\">Comfort</span></span><span style=\"padding: 2px; border-radius: 4px; border: 1px solid #d7ccc8; background: #efebe9\"> <span style=\"vertical-align: middle; margin-left: 2px; font-size: 0.7em; color: #a1887f;\">Other</span></span><span style=\"padding: 2px; border-radius: 4px; border: 1px solid #ffe0b2; background: #fff3e0\">кресел в салоне<span style=\"vertical-align: middle; margin-left: 2px; font-size: 0.7em; color: #ffb74d;\">Comfort</span></span><span style=\"padding: 2px; border-radius: 4px; border: 1px solid #d7ccc8; background: #efebe9\">, и <span style=\"vertical-align: middle; margin-left: 2px; font-size: 0.7em; color: #a1887f;\">Other</span></span><span style=\"padding: 2px; border-radius: 4px; border: 1px solid #bbdefb; background: #e3f2fd\">плавность хода<span style=\"vertical-align: middle; margin-left: 2px; font-size: 0.7em; color: #64b5f6;\">Driveability</span></span><span style=\"padding: 2px; border-radius: 4px; border: 1px solid #d7ccc8; background: #efebe9\">, и <span style=\"vertical-align: middle; margin-left: 2px; font-size: 0.7em; color: #a1887f;\">Other</span></span><span style=\"padding: 2px; border-radius: 4px; border: 1px solid #bbdefb; background: #e3f2fd\">внешний вид<span style=\"vertical-align: middle; margin-left: 2px; font-size: 0.7em; color: #64b5f6;\">Appearance</span></span><span style=\"padding: 2px; border-radius: 4px; border: 1px solid #d7ccc8; background: #efebe9\">, всё приводило в восторг. Муж даже начал бредить идеей, что для нашей большой семьи (у нас трое деток) покупка такой <span style=\"vertical-align: middle; margin-left: 2px; font-size: 0.7em; color: #a1887f;\">Other</span></span><span style=\"padding: 2px; border-radius: 4px; border: 1px solid #ffcdd2; background: #ffebee\">машины<span style=\"vertical-align: middle; margin-left: 2px; font-size: 0.7em; color: #e57373;\">Whole</span></span><span style=\"padding: 2px; border-radius: 4px; border: 1px solid #d7ccc8; background: #efebe9\"> в семью будет идеальной. Даже в мечтах обрисовывал, как он переделает <span style=\"vertical-align: middle; margin-left: 2px; font-size: 0.7em; color: #a1887f;\">Other</span></span><span style=\"padding: 2px; border-radius: 4px; border: 1px solid #ffe0b2; background: #fff3e0\">салон<span style=\"vertical-align: middle; margin-left: 2px; font-size: 0.7em; color: #ffb74d;\">Comfort</span></span><span style=\"padding: 2px; border-radius: 4px; border: 1px solid #d7ccc8; background: #efebe9\"> под междугородние путешествия всей семьёй. Но прошло уже года три-четыре, как он работает на <span style=\"vertical-align: middle; margin-left: 2px; font-size: 0.7em; color: #a1887f;\">Other</span></span><span style=\"padding: 2px; border-radius: 4px; border: 1px solid #ffcdd2; background: #ffebee\">Тойоте Хайс<span style=\"vertical-align: middle; margin-left: 2px; font-size: 0.7em; color: #e57373;\">Whole</span></span><span style=\"padding: 2px; border-radius: 4px; border: 1px solid #d7ccc8; background: #efebe9\">. Сейчас могу сказать только одно: <span style=\"vertical-align: middle; margin-left: 2px; font-size: 0.7em; color: #a1887f;\">Other</span></span><span style=\"padding: 2px; border-radius: 4px; border: 1px solid #ffcdd2; background: #ffebee\">машина<span style=\"vertical-align: middle; margin-left: 2px; font-size: 0.7em; color: #e57373;\">Whole</span></span><span style=\"padding: 2px; border-radius: 4px; border: 1px solid #d7ccc8; background: #efebe9\"> ужасная до безобразия. В этом мы убедились оба. Начну с того, что проживаем мы в северном районе нашей страны, и, соответственно, <span style=\"vertical-align: middle; margin-left: 2px; font-size: 0.7em; color: #a1887f;\">Other</span></span><span style=\"padding: 2px; border-radius: 4px; border: 1px solid #ffcdd2; background: #ffebee\">машина<span style=\"vertical-align: middle; margin-left: 2px; font-size: 0.7em; color: #e57373;\">Whole</span></span><span style=\"padding: 2px; border-radius: 4px; border: 1px solid #d7ccc8; background: #efebe9\"> эксплуатируется зимой при довольно низких температурах. Так вот, в зимний период <span style=\"vertical-align: middle; margin-left: 2px; font-size: 0.7em; color: #a1887f;\">Other</span></span><span style=\"padding: 2px; border-radius: 4px; border: 1px solid #ffe0b2; background: #fff3e0\">салон<span style=\"vertical-align: middle; margin-left: 2px; font-size: 0.7em; color: #ffb74d;\">Comfort</span></span><span style=\"padding: 2px; border-radius: 4px; border: 1px solid #d7ccc8; background: #efebe9\"> <span style=\"vertical-align: middle; margin-left: 2px; font-size: 0.7em; color: #a1887f;\">Other</span></span><span style=\"padding: 2px; border-radius: 4px; border: 1px solid #ffe0b2; background: #fff3e0\">прогревается<span style=\"vertical-align: middle; margin-left: 2px; font-size: 0.7em; color: #ffb74d;\">Comfort</span></span><span style=\"padding: 2px; border-radius: 4px; border: 1px solid #d7ccc8; background: #efebe9\"> только в зоне <span style=\"vertical-align: middle; margin-left: 2px; font-size: 0.7em; color: #a1887f;\">Other</span></span><span style=\"padding: 2px; border-radius: 4px; border: 1px solid #ffe0b2; background: #fff3e0\">передних сидений<span style=\"vertical-align: middle; margin-left: 2px; font-size: 0.7em; color: #ffb74d;\">Comfort</span></span><span style=\"padding: 2px; border-radius: 4px; border: 1px solid #d7ccc8; background: #efebe9\"> (водителя и пассажира), и то кое-как. В самом салоне <span style=\"vertical-align: middle; margin-left: 2px; font-size: 0.7em; color: #a1887f;\">Other</span></span><span style=\"padding: 2px; border-radius: 4px; border: 1px solid #ffe0b2; background: #fff3e0\">машина<span style=\"vertical-align: middle; margin-left: 2px; font-size: 0.7em; color: #ffb74d;\">Comfort</span></span><span style=\"padding: 2px; border-radius: 4px; border: 1px solid #d7ccc8; background: #efebe9\"> <span style=\"vertical-align: middle; margin-left: 2px; font-size: 0.7em; color: #a1887f;\">Other</span></span><span style=\"padding: 2px; border-radius: 4px; border: 1px solid #ffe0b2; background: #fff3e0\">не прогревается<span style=\"vertical-align: middle; margin-left: 2px; font-size: 0.7em; color: #ffb74d;\">Comfort</span></span><span style=\"padding: 2px; border-radius: 4px; border: 1px solid #d7ccc8; background: #efebe9\">, несмотря на дополнительные <span style=\"vertical-align: middle; margin-left: 2px; font-size: 0.7em; color: #a1887f;\">Other</span></span><span style=\"padding: 2px; border-radius: 4px; border: 1px solid #ffe0b2; background: #fff3e0\">печки<span style=\"vertical-align: middle; margin-left: 2px; font-size: 0.7em; color: #ffb74d;\">Comfort</span></span><span style=\"padding: 2px; border-radius: 4px; border: 1px solid #d7ccc8; background: #efebe9\"> и всевозможные <span style=\"vertical-align: middle; margin-left: 2px; font-size: 0.7em; color: #a1887f;\">Other</span></span><span style=\"padding: 2px; border-radius: 4px; border: 1px solid #ffe0b2; background: #fff3e0\">регуляторы температуры нагрева<span style=\"vertical-align: middle; margin-left: 2px; font-size: 0.7em; color: #ffb74d;\">Comfort</span></span><span style=\"padding: 2px; border-radius: 4px; border: 1px solid #d7ccc8; background: #efebe9\">. Так же зимой <span style=\"vertical-align: middle; margin-left: 2px; font-size: 0.7em; color: #a1887f;\">Other</span></span><span style=\"padding: 2px; border-radius: 4px; border: 1px solid #bbdefb; background: #e3f2fd\">на поворотах<span style=\"vertical-align: middle; margin-left: 2px; font-size: 0.7em; color: #64b5f6;\">Driveability</span></span><span style=\"padding: 2px; border-radius: 4px; border: 1px solid #d7ccc8; background: #efebe9\"> (например, на перекрёстке) очень сильно <span style=\"vertical-align: middle; margin-left: 2px; font-size: 0.7em; color: #a1887f;\">Other</span></span><span style=\"padding: 2px; border-radius: 4px; border: 1px solid #bbdefb; background: #e3f2fd\">заносит<span style=\"vertical-align: middle; margin-left: 2px; font-size: 0.7em; color: #64b5f6;\">Driveability</span></span><span style=\"padding: 2px; border-radius: 4px; border: 1px solid #d7ccc8; background: #efebe9\"> <span style=\"vertical-align: middle; margin-left: 2px; font-size: 0.7em; color: #a1887f;\">Other</span></span><span style=\"padding: 2px; border-radius: 4px; border: 1px solid #bbdefb; background: #e3f2fd\">заднюю часть автомобиля<span style=\"vertical-align: middle; margin-left: 2px; font-size: 0.7em; color: #64b5f6;\">Driveability</span></span><span style=\"padding: 2px; border-radius: 4px; border: 1px solid #d7ccc8; background: #efebe9\">. Ну это понятно - <span style=\"vertical-align: middle; margin-left: 2px; font-size: 0.7em; color: #a1887f;\">Other</span></span><span style=\"padding: 2px; border-radius: 4px; border: 1px solid #bbdefb; background: #e3f2fd\">задний привод<span style=\"vertical-align: middle; margin-left: 2px; font-size: 0.7em; color: #64b5f6;\">Driveability</span></span><span style=\"padding: 2px; border-radius: 4px; border: 1px solid #d7ccc8; background: #efebe9\"> и всё остальное прочее. Но <span style=\"vertical-align: middle; margin-left: 2px; font-size: 0.7em; color: #a1887f;\">Other</span></span><span style=\"padding: 2px; border-radius: 4px; border: 1px solid #bbdefb; background: #e3f2fd\">заносы<span style=\"vertical-align: middle; margin-left: 2px; font-size: 0.7em; color: #64b5f6;\">Driveability</span></span><span style=\"padding: 2px; border-radius: 4px; border: 1px solid #d7ccc8; background: #efebe9\"> эти, даже глядя со стороны, приводят в тихую жуть. <span style=\"vertical-align: middle; margin-left: 2px; font-size: 0.7em; color: #a1887f;\">Other</span></span><span style=\"padding: 2px; border-radius: 4px; border: 1px solid #bbdefb; background: #e3f2fd\">Хайсов<span style=\"vertical-align: middle; margin-left: 2px; font-size: 0.7em; color: #64b5f6;\">Driveability</span></span><span style=\"padding: 2px; border-radius: 4px; border: 1px solid #d7ccc8; background: #efebe9\"> по городу бегает достаточное количество и регулярно наблюдается картина с этими <span style=\"vertical-align: middle; margin-left: 2px; font-size: 0.7em; color: #a1887f;\">Other</span></span><span style=\"padding: 2px; border-radius: 4px; border: 1px solid #bbdefb; background: #e3f2fd\">заносами<span style=\"vertical-align: middle; margin-left: 2px; font-size: 0.7em; color: #64b5f6;\">Driveability</span></span><span style=\"padding: 2px; border-radius: 4px; border: 1px solid #d7ccc8; background: #efebe9\">. <span style=\"vertical-align: middle; margin-left: 2px; font-size: 0.7em; color: #a1887f;\">Other</span></span><span style=\"padding: 2px; border-radius: 4px; border: 1px solid #ffe0b2; background: #fff3e0\">Дверь на салазках<span style=\"vertical-align: middle; margin-left: 2px; font-size: 0.7em; color: #ffb74d;\">Comfort</span></span><span style=\"padding: 2px; border-radius: 4px; border: 1px solid #d7ccc8; background: #efebe9\"> снаружи <span style=\"vertical-align: middle; margin-left: 2px; font-size: 0.7em; color: #a1887f;\">Other</span></span><span style=\"padding: 2px; border-radius: 4px; border: 1px solid #ffe0b2; background: #fff3e0\">открывается ужасно<span style=\"vertical-align: middle; margin-left: 2px; font-size: 0.7em; color: #ffb74d;\">Comfort</span></span><span style=\"padding: 2px; border-radius: 4px; border: 1px solid #d7ccc8; background: #efebe9\"> - женская половина пассажиров, в том числе и я, регулярно ломают ногти, так как <span style=\"vertical-align: middle; margin-left: 2px; font-size: 0.7em; color: #a1887f;\">Other</span></span><span style=\"padding: 2px; border-radius: 4px; border: 1px solid #ffe0b2; background: #fff3e0\">ручка<span style=\"vertical-align: middle; margin-left: 2px; font-size: 0.7em; color: #ffb74d;\">Comfort</span></span><span style=\"padding: 2px; border-radius: 4px; border: 1px solid #d7ccc8; background: #efebe9\"> сделана не очень хорошо и с неё постоянно соскальзывают пальцы. В <span style=\"vertical-align: middle; margin-left: 2px; font-size: 0.7em; color: #a1887f;\">Other</span></span><span style=\"padding: 2px; border-radius: 4px; border: 1px solid #ffe0b2; background: #fff3e0\">водительской части салона<span style=\"vertical-align: middle; margin-left: 2px; font-size: 0.7em; color: #ffb74d;\">Comfort</span></span><span style=\"padding: 2px; border-radius: 4px; border: 1px solid #d7ccc8; background: #efebe9\"> в принципе всё довольно неплохо, за исключением <span style=\"vertical-align: middle; margin-left: 2px; font-size: 0.7em; color: #a1887f;\">Other</span></span><span style=\"padding: 2px; border-radius: 4px; border: 1px solid #ffe0b2; background: #fff3e0\">торпеды<span style=\"vertical-align: middle; margin-left: 2px; font-size: 0.7em; color: #ffb74d;\">Comfort</span></span><span style=\"padding: 2px; border-radius: 4px; border: 1px solid #d7ccc8; background: #efebe9\">, которая после недолгой эксплуатации автомобиля начала <span style=\"vertical-align: middle; margin-left: 2px; font-size: 0.7em; color: #a1887f;\">Other</span></span><span style=\"padding: 2px; border-radius: 4px; border: 1px solid #ffe0b2; background: #fff3e0\">греметь<span style=\"vertical-align: middle; margin-left: 2px; font-size: 0.7em; color: #ffb74d;\">Comfort</span></span><span style=\"padding: 2px; border-radius: 4px; border: 1px solid #d7ccc8; background: #efebe9\">, что само по себе уже не приятно. Да и сам <span style=\"vertical-align: middle; margin-left: 2px; font-size: 0.7em; color: #a1887f;\">Other</span></span><span style=\"padding: 2px; border-radius: 4px; border: 1px solid #ffe0b2; background: #fff3e0\">кузов Хайса<span style=\"vertical-align: middle; margin-left: 2px; font-size: 0.7em; color: #ffb74d;\">Comfort</span></span><span style=\"padding: 2px; border-radius: 4px; border: 1px solid #d7ccc8; background: #efebe9\"> начал <span style=\"vertical-align: middle; margin-left: 2px; font-size: 0.7em; color: #a1887f;\">Other</span></span><span style=\"padding: 2px; border-radius: 4px; border: 1px solid #ffe0b2; background: #fff3e0\">скрипеть<span style=\"vertical-align: middle; margin-left: 2px; font-size: 0.7em; color: #ffb74d;\">Comfort</span></span><span style=\"padding: 2px; border-radius: 4px; border: 1px solid #d7ccc8; background: #efebe9\">, чем сразу заслужил гордое звание <span style=\"vertical-align: middle; margin-left: 2px; font-size: 0.7em; color: #a1887f;\">Other</span></span><span style=\"padding: 2px; border-radius: 4px; border: 1px solid #c8e6c9; background: #e8f5e9\">\"Сарай\"<span style=\"vertical-align: middle; margin-left: 2px; font-size: 0.7em; color: #66bb6a;\">Reliability</span></span><span style=\"padding: 2px; border-radius: 4px; border: 1px solid #d7ccc8; background: #efebe9\">. <span style=\"vertical-align: middle; margin-left: 2px; font-size: 0.7em; color: #a1887f;\">Other</span></span><span style=\"padding: 2px; border-radius: 4px; border: 1px solid #c8e6c9; background: #e8f5e9\">Сервисное обслуживание<span style=\"vertical-align: middle; margin-left: 2px; font-size: 0.7em; color: #66bb6a;\">Reliability</span></span><span style=\"padding: 2px; border-radius: 4px; border: 1px solid #d7ccc8; background: #efebe9\"> в Тойота-центре нашего города тоже ниже плинтуса. <span style=\"vertical-align: middle; margin-left: 2px; font-size: 0.7em; color: #a1887f;\">Other</span></span><span style=\"padding: 2px; border-radius: 4px; border: 1px solid #c8e6c9; background: #e8f5e9\">Машина<span style=\"vertical-align: middle; margin-left: 2px; font-size: 0.7em; color: #66bb6a;\">Reliability</span></span><span style=\"padding: 2px; border-radius: 4px; border: 1px solid #d7ccc8; background: #efebe9\"> хоть и обслуживается за счёт организации, но после каждого <span style=\"vertical-align: middle; margin-left: 2px; font-size: 0.7em; color: #a1887f;\">Other</span></span><span style=\"padding: 2px; border-radius: 4px; border: 1px solid #c8e6c9; background: #e8f5e9\">ТО<span style=\"vertical-align: middle; margin-left: 2px; font-size: 0.7em; color: #66bb6a;\">Reliability</span></span><span style=\"padding: 2px; border-radius: 4px; border: 1px solid #d7ccc8; background: #efebe9\"> мой муж, мягко говоря, в шоке от того, как сервис-менеджеры каждый раз находят на ровном месте какие-то \"болячки\" у <span style=\"vertical-align: middle; margin-left: 2px; font-size: 0.7em; color: #a1887f;\">Other</span></span><span style=\"padding: 2px; border-radius: 4px; border: 1px solid #ffcdd2; background: #ffebee\">машины<span style=\"vertical-align: middle; margin-left: 2px; font-size: 0.7em; color: #e57373;\">Costs</span></span><span style=\"padding: 2px; border-radius: 4px; border: 1px solid #d7ccc8; background: #efebe9\">, дабы <span style=\"vertical-align: middle; margin-left: 2px; font-size: 0.7em; color: #a1887f;\">Other</span></span><span style=\"padding: 2px; border-radius: 4px; border: 1px solid #ffcdd2; background: #ffebee\">содрать побольше денег<span style=\"vertical-align: middle; margin-left: 2px; font-size: 0.7em; color: #e57373;\">Costs</span></span><span style=\"padding: 2px; border-radius: 4px; border: 1px solid #d7ccc8; background: #efebe9\">. А те <span style=\"vertical-align: middle; margin-left: 2px; font-size: 0.7em; color: #a1887f;\">Other</span></span><span style=\"padding: 2px; border-radius: 4px; border: 1px solid #c8e6c9; background: #e8f5e9\">поломки<span style=\"vertical-align: middle; margin-left: 2px; font-size: 0.7em; color: #66bb6a;\">Reliability</span></span><span style=\"padding: 2px; border-radius: 4px; border: 1px solid #d7ccc8; background: #efebe9\">, которые действительно требуют серьёзного внимания, в заказ-наряде прописываются, но специалисты даже и не заглядывают туда. Таким образом, мой муж половину этой зимы проездил с <span style=\"vertical-align: middle; margin-left: 2px; font-size: 0.7em; color: #a1887f;\">Other</span></span><span style=\"padding: 2px; border-radius: 4px; border: 1px solid #c8e6c9; background: #e8f5e9\">\"инвалидным\"<span style=\"vertical-align: middle; margin-left: 2px; font-size: 0.7em; color: #66bb6a;\">Reliability</span></span><span style=\"padding: 2px; border-radius: 4px; border: 1px solid #d7ccc8; background: #efebe9\"> <span style=\"vertical-align: middle; margin-left: 2px; font-size: 0.7em; color: #a1887f;\">Other</span></span><span style=\"padding: 2px; border-radius: 4px; border: 1px solid #c8e6c9; background: #e8f5e9\">задним правым колесом<span style=\"vertical-align: middle; margin-left: 2px; font-size: 0.7em; color: #66bb6a;\">Reliability</span></span><span style=\"padding: 2px; border-radius: 4px; border: 1px solid #d7ccc8; background: #efebe9\">: <span style=\"vertical-align: middle; margin-left: 2px; font-size: 0.7em; color: #a1887f;\">Other</span></span><span style=\"padding: 2px; border-radius: 4px; border: 1px solid #bbdefb; background: #e3f2fd\">с места тронуться<span style=\"vertical-align: middle; margin-left: 2px; font-size: 0.7em; color: #64b5f6;\">Driveability</span></span><span style=\"padding: 2px; border-radius: 4px; border: 1px solid #d7ccc8; background: #efebe9\"> было невозможно - оно просто <span style=\"vertical-align: middle; margin-left: 2px; font-size: 0.7em; color: #a1887f;\">Other</span></span><span style=\"padding: 2px; border-radius: 4px; border: 1px solid #c8e6c9; background: #e8f5e9\">не крутилось<span style=\"vertical-align: middle; margin-left: 2px; font-size: 0.7em; color: #66bb6a;\">Reliability</span></span><span style=\"padding: 2px; border-radius: 4px; border: 1px solid #d7ccc8; background: #efebe9\">, приходилось его <span style=\"vertical-align: middle; margin-left: 2px; font-size: 0.7em; color: #a1887f;\">Other</span></span><span style=\"padding: 2px; border-radius: 4px; border: 1px solid #bbdefb; background: #e3f2fd\">срывать<span style=\"vertical-align: middle; margin-left: 2px; font-size: 0.7em; color: #64b5f6;\">Driveability</span></span><span style=\"padding: 2px; border-radius: 4px; border: 1px solid #d7ccc8; background: #efebe9\">. Вобщем, впечатление от <span style=\"vertical-align: middle; margin-left: 2px; font-size: 0.7em; color: #a1887f;\">Other</span></span><span style=\"padding: 2px; border-radius: 4px; border: 1px solid #ffcdd2; background: #ffebee\">Хайса<span style=\"vertical-align: middle; margin-left: 2px; font-size: 0.7em; color: #e57373;\">Whole</span></span><span style=\"padding: 2px; border-radius: 4px; border: 1px solid #d7ccc8; background: #efebe9\"> не айс (прям каламбур получился). <span style=\"vertical-align: middle; margin-left: 2px; font-size: 0.7em; color: #a1887f;\">Other</span></span><span style=\"padding: 2px; border-radius: 4px; border: 1px solid #bbdefb; background: #e3f2fd\">Внешне<span style=\"vertical-align: middle; margin-left: 2px; font-size: 0.7em; color: #64b5f6;\">Appearance</span></span><span style=\"padding: 2px; border-radius: 4px; border: 1px solid #d7ccc8; background: #efebe9\">, да, <span style=\"vertical-align: middle; margin-left: 2px; font-size: 0.7em; color: #a1887f;\">Other</span></span><span style=\"padding: 2px; border-radius: 4px; border: 1px solid #bbdefb; background: #e3f2fd\">выглядит<span style=\"vertical-align: middle; margin-left: 2px; font-size: 0.7em; color: #64b5f6;\">Appearance</span></span><span style=\"padding: 2px; border-radius: 4px; border: 1px solid #d7ccc8; background: #efebe9\"> <span style=\"vertical-align: middle; margin-left: 2px; font-size: 0.7em; color: #a1887f;\">Other</span></span><span style=\"padding: 2px; border-radius: 4px; border: 1px solid #bbdefb; background: #e3f2fd\">красиво<span style=\"vertical-align: middle; margin-left: 2px; font-size: 0.7em; color: #64b5f6;\">Appearance</span></span><span style=\"padding: 2px; border-radius: 4px; border: 1px solid #d7ccc8; background: #efebe9\"> и <span style=\"vertical-align: middle; margin-left: 2px; font-size: 0.7em; color: #a1887f;\">Other</span></span><span style=\"padding: 2px; border-radius: 4px; border: 1px solid #bbdefb; background: #e3f2fd\">величественно<span style=\"vertical-align: middle; margin-left: 2px; font-size: 0.7em; color: #64b5f6;\">Appearance</span></span><span style=\"padding: 2px; border-radius: 4px; border: 1px solid #d7ccc8; background: #efebe9\">. Но на самом деле такой же <span style=\"vertical-align: middle; margin-left: 2px; font-size: 0.7em; color: #a1887f;\">Other</span></span><span style=\"padding: 2px; border-radius: 4px; border: 1px solid #c8e6c9; background: #e8f5e9\">\"сарай\"<span style=\"vertical-align: middle; margin-left: 2px; font-size: 0.7em; color: #66bb6a;\">Reliability</span></span><span style=\"padding: 2px; border-radius: 4px; border: 1px solid #d7ccc8; background: #efebe9\"> как <span style=\"vertical-align: middle; margin-left: 2px; font-size: 0.7em; color: #a1887f;\">Other</span></span><span style=\"padding: 2px; border-radius: 4px; border: 1px solid #c8e6c9; background: #e8f5e9\">Баргузин<span style=\"vertical-align: middle; margin-left: 2px; font-size: 0.7em; color: #66bb6a;\">Reliability</span></span><span style=\"padding: 2px; border-radius: 4px; border: 1px solid #d7ccc8; background: #efebe9\">, <span style=\"vertical-align: middle; margin-left: 2px; font-size: 0.7em; color: #a1887f;\">Other</span></span><span style=\"padding: 2px; border-radius: 4px; border: 1px solid #c8e6c9; background: #e8f5e9\">Газель<span style=\"vertical-align: middle; margin-left: 2px; font-size: 0.7em; color: #66bb6a;\">Reliability</span></span><span style=\"padding: 2px; border-radius: 4px; border: 1px solid #d7ccc8; background: #efebe9\"> и прочее. Одно, что <span style=\"vertical-align: middle; margin-left: 2px; font-size: 0.7em; color: #a1887f;\">Other</span></span><span style=\"padding: 2px; border-radius: 4px; border: 1px solid #bbdefb; background: #e3f2fd\">кочки пятой точкой не чувствуешь<span style=\"vertical-align: middle; margin-left: 2px; font-size: 0.7em; color: #64b5f6;\">Driveability</span></span><span style=\"padding: 2px; border-radius: 4px; border: 1px solid #d7ccc8; background: #efebe9\"> :) За такую <span style=\"vertical-align: middle; margin-left: 2px; font-size: 0.7em; color: #a1887f;\">Other</span></span><span style=\"padding: 2px; border-radius: 4px; border: 1px solid #ffcdd2; background: #ffebee\">цену<span style=\"vertical-align: middle; margin-left: 2px; font-size: 0.7em; color: #e57373;\">Costs</span></span><span style=\"padding: 2px; border-radius: 4px; border: 1px solid #d7ccc8; background: #efebe9\"> ожидаешь лучшего <span style=\"vertical-align: middle; margin-left: 2px; font-size: 0.7em; color: #a1887f;\">Other</span></span><span style=\"padding: 2px; border-radius: 4px; border: 1px solid #c8e6c9; background: #e8f5e9\">качества<span style=\"vertical-align: middle; margin-left: 2px; font-size: 0.7em; color: #66bb6a;\">Reliability</span></span><span style=\"padding: 2px; border-radius: 4px; border: 1px solid #d7ccc8; background: #efebe9\">. <span style=\"vertical-align: middle; margin-left: 2px; font-size: 0.7em; color: #a1887f;\">Other</span></span></div>"
            ],
            "text/plain": [
              "BoxMarkup('Начну с того, что на Тойоте Хайс работает мой муж и уже давненько. Поначалу машинка очень понравилась и внешне, и внутренне. Муж был просто в восторге, что его по работе пересадили с Баргузина на Хайс, и не замечал недостатков в этой машине. А так как он периодически отвозит меня на работу и забирает с работы на ней, то и я волей-неволей столкнулась с этой машиной. Конечно, после Баргузина Хайс казался просто нереальной машиной. И удобство кресел в салоне, и плавность хода, и внешний вид, всё приводило в восторг. Муж даже начал бредить идеей, что для нашей большой семьи (у нас трое деток) покупка такой машины в семью будет идеальной. Даже в мечтах обрисовывал, как он переделает салон под междугородние путешествия всей семьёй. Но прошло уже года три-четыре, как он работает на Тойоте Хайс. Сейчас могу сказать только одно: машина ужасная до безобразия. В этом мы убедились оба. Начну с того, что проживаем мы в северном районе нашей страны, и, соответственно, машина эксплуатируется зимой при довольно низких температурах. Так вот, в зимний период салон прогревается только в зоне передних сидений (водителя и пассажира), и то кое-как. В самом салоне машина не прогревается, несмотря на дополнительные печки и всевозможные регуляторы температуры нагрева. Так же зимой на поворотах (например, на перекрёстке) очень сильно заносит заднюю часть автомобиля. Ну это понятно - задний привод и всё остальное прочее. Но заносы эти, даже глядя со стороны, приводят в тихую жуть. Хайсов по городу бегает достаточное количество и регулярно наблюдается картина с этими заносами. Дверь на салазках снаружи открывается ужасно - женская половина пассажиров, в том числе и я, регулярно ломают ногти, так как ручка сделана не очень хорошо и с неё постоянно соскальзывают пальцы. В водительской части салона в принципе всё довольно неплохо, за исключением торпеды, которая после недолгой эксплуатации автомобиля начала греметь, что само по себе уже не приятно. Да и сам кузов Хайса начал скрипеть, чем сразу заслужил гордое звание \"Сарай\". Сервисное обслуживание в Тойота-центре нашего города тоже ниже плинтуса. Машина хоть и обслуживается за счёт организации, но после каждого ТО мой муж, мягко говоря, в шоке от того, как сервис-менеджеры каждый раз находят на ровном месте какие-то \"болячки\" у машины, дабы содрать побольше денег. А те поломки, которые действительно требуют серьёзного внимания, в заказ-наряде прописываются, но специалисты даже и не заглядывают туда. Таким образом, мой муж половину этой зимы проездил с \"инвалидным\" задним правым колесом: с места тронуться было невозможно - оно просто не крутилось, приходилось его срывать. Вобщем, впечатление от Хайса не айс (прям каламбур получился). Внешне, да, выглядит красиво и величественно. Но на самом деле такой же \"сарай\" как Баргузин, Газель и прочее. Одно, что кочки пятой точкой не чувствуешь :) За такую цену ожидаешь лучшего качества. ',\n",
              "          [Span(0, 21, 'Other'),\n",
              "           Span(21, 32, 'Whole'),\n",
              "           Span(32, 76, 'Other'),\n",
              "           Span(76, 83, 'Whole'),\n",
              "           Span(83, 104, 'Other'),\n",
              "           Span(104, 110, 'Appearance'),\n",
              "           Span(110, 183, 'Other'),\n",
              "           Span(183, 192, 'Whole'),\n",
              "           Span(192, 196, 'Other'),\n",
              "           Span(196, 200, 'Whole'),\n",
              "           Span(200, 234, 'Other'),\n",
              "           Span(234, 240, 'Whole'),\n",
              "           Span(240, 359, 'Other'),\n",
              "           Span(359, 366, 'Whole'),\n",
              "           Span(366, 383, 'Other'),\n",
              "           Span(383, 392, 'Whole'),\n",
              "           Span(392, 393, 'Other'),\n",
              "           Span(393, 397, 'Whole'),\n",
              "           Span(397, 424, 'Other'),\n",
              "           Span(424, 431, 'Whole'),\n",
              "           Span(431, 435, 'Other'),\n",
              "           Span(435, 443, 'Comfort'),\n",
              "           Span(443, 444, 'Other'),\n",
              "           Span(444, 459, 'Comfort'),\n",
              "           Span(459, 463, 'Other'),\n",
              "           Span(463, 477, 'Driveability'),\n",
              "           Span(477, 481, 'Other'),\n",
              "           Span(481, 492, 'Appearance'),\n",
              "           Span(492, 610, 'Other'),\n",
              "           Span(610, 616, 'Whole'),\n",
              "           Span(616, 687, 'Other'),\n",
              "           Span(687, 692, 'Comfort'),\n",
              "           Span(692, 786, 'Other'),\n",
              "           Span(786, 797, 'Whole'),\n",
              "           Span(797, 832, 'Other'),\n",
              "           Span(832, 838, 'Whole'),\n",
              "           Span(838, 969, 'Other'),\n",
              "           Span(969, 975, 'Whole'),\n",
              "           Span(975, 1057, 'Other'),\n",
              "           Span(1057, 1062, 'Comfort'),\n",
              "           Span(1062, 1063, 'Other'),\n",
              "           Span(1063, 1075, 'Comfort'),\n",
              "           Span(1075, 1090, 'Other'),\n",
              "           Span(1090, 1106, 'Comfort'),\n",
              "           Span(1106, 1160, 'Other'),\n",
              "           Span(1160, 1166, 'Comfort'),\n",
              "           Span(1166, 1167, 'Other'),\n",
              "           Span(1167, 1182, 'Comfort'),\n",
              "           Span(1182, 1211, 'Other'),\n",
              "           Span(1211, 1216, 'Comfort'),\n",
              "           Span(1216, 1232, 'Other'),\n",
              "           Span(1232, 1262, 'Comfort'),\n",
              "           Span(1262, 1277, 'Other'),\n",
              "           Span(1277, 1289, 'Driveability'),\n",
              "           Span(1289, 1330, 'Other'),\n",
              "           Span(1330, 1337, 'Driveability'),\n",
              "           Span(1337, 1338, 'Other'),\n",
              "           Span(1338, 1361, 'Driveability'),\n",
              "           Span(1361, 1380, 'Other'),\n",
              "           Span(1380, 1393, 'Driveability'),\n",
              "           Span(1393, 1421, 'Other'),\n",
              "           Span(1421, 1427, 'Driveability'),\n",
              "           Span(1427, 1479, 'Other'),\n",
              "           Span(1479, 1485, 'Driveability'),\n",
              "           Span(1485, 1566, 'Other'),\n",
              "           Span(1566, 1574, 'Driveability'),\n",
              "           Span(1574, 1576, 'Other'),\n",
              "           Span(1576, 1593, 'Comfort'),\n",
              "           Span(1593, 1602, 'Other'),\n",
              "           Span(1602, 1620, 'Comfort'),\n",
              "           Span(1620, 1701, 'Other'),\n",
              "           Span(1701, 1706, 'Comfort'),\n",
              "           Span(1706, 1773, 'Other'),\n",
              "           Span(1773, 1798, 'Comfort'),\n",
              "           Span(1798, 1847, 'Other'),\n",
              "           Span(1847, 1854, 'Comfort'),\n",
              "           Span(1854, 1910, 'Other'),\n",
              "           Span(1910, 1917, 'Comfort'),\n",
              "           Span(1917, 1961, 'Other'),\n",
              "           Span(1961, 1972, 'Comfort'),\n",
              "           Span(1972, 1979, 'Other'),\n",
              "           Span(1979, 1987, 'Comfort'),\n",
              "           Span(1987, 2022, 'Other'),\n",
              "           Span(2022, 2029, 'Reliability'),\n",
              "           Span(2029, 2031, 'Other'),\n",
              "           Span(2031, 2053, 'Reliability'),\n",
              "           Span(2053, 2104, 'Other'),\n",
              "           Span(2104, 2110, 'Reliability'),\n",
              "           Span(2110, 2170, 'Other'),\n",
              "           Span(2170, 2172, 'Reliability'),\n",
              "           Span(2172, 2289, 'Other'),\n",
              "           Span(2289, 2295, 'Costs'),\n",
              "           Span(2295, 2302, 'Other'),\n",
              "           Span(2302, 2324, 'Costs'),\n",
              "           Span(2324, 2331, 'Other'),\n",
              "           Span(2331, 2338, 'Reliability'),\n",
              "           Span(2338, 2517, 'Other'),\n",
              "           Span(2517, 2529, 'Reliability'),\n",
              "           Span(2529, 2530, 'Other'),\n",
              "           Span(2530, 2551, 'Reliability'),\n",
              "           Span(2551, 2553, 'Other'),\n",
              "           Span(2553, 2570, 'Driveability'),\n",
              "           Span(2570, 2600, 'Other'),\n",
              "           Span(2600, 2612, 'Reliability'),\n",
              "           Span(2612, 2630, 'Other'),\n",
              "           Span(2630, 2637, 'Driveability'),\n",
              "           Span(2637, 2662, 'Other'),\n",
              "           Span(2662, 2667, 'Whole'),\n",
              "           Span(2667, 2702, 'Other'),\n",
              "           Span(2702, 2708, 'Appearance'),\n",
              "           Span(2708, 2714, 'Other'),\n",
              "           Span(2714, 2722, 'Appearance'),\n",
              "           Span(2722, 2723, 'Other'),\n",
              "           Span(2723, 2730, 'Appearance'),\n",
              "           Span(2730, 2733, 'Other'),\n",
              "           Span(2733, 2746, 'Appearance'),\n",
              "           Span(2746, 2774, 'Other'),\n",
              "           Span(2774, 2781, 'Reliability'),\n",
              "           Span(2781, 2786, 'Other'),\n",
              "           Span(2786, 2794, 'Reliability'),\n",
              "           Span(2794, 2796, 'Other'),\n",
              "           Span(2796, 2802, 'Reliability'),\n",
              "           Span(2802, 2823, 'Other'),\n",
              "           Span(2823, 2855, 'Driveability'),\n",
              "           Span(2855, 2868, 'Other'),\n",
              "           Span(2868, 2872, 'Costs'),\n",
              "           Span(2872, 2890, 'Other'),\n",
              "           Span(2890, 2898, 'Reliability'),\n",
              "           Span(2898, 2900, 'Other')])"
            ]
          },
          "metadata": {},
          "output_type": "display_data"
        }
      ],
      "source": [
        "for rand_i in random_picks:\n",
        "    text, aspect_spans = texts_w_aspect_spans[rand_i]\n",
        "    cover_spans       = fill_gaps(text, aspect_spans)\n",
        "    \n",
        "    print('Полное покрытие разметкой текста №:',rand_i) \n",
        "    show_markup(text, cover_spans)"
      ]
    },
    {
      "cell_type": "markdown",
      "metadata": {
        "id": "rC5xT3OnyvIV"
      },
      "source": [
        "### Разбиение текста на предложения, а предложений - на слова."
      ]
    },
    {
      "cell_type": "code",
      "execution_count": null,
      "metadata": {
        "id": "f0sEv5D0yvIW"
      },
      "outputs": [],
      "source": [
        "from dlnlputils.sentiment_utils import regex_sentence_detector, sentence_spans,sentence_splitter"
      ]
    },
    {
      "cell_type": "code",
      "execution_count": null,
      "metadata": {
        "id": "aAU1JOw0yvIZ"
      },
      "outputs": [],
      "source": [
        "from nltk.tokenize import RegexpTokenizer\n",
        "\n",
        "word_tokenizer = RegexpTokenizer('\\w+|\\$[\\d\\.]+|\\S+')"
      ]
    },
    {
      "cell_type": "code",
      "execution_count": null,
      "metadata": {
        "collapsed": true,
        "id": "yV4HL74HyvIa",
        "outputId": "53f40813-185a-4ce6-aafe-703b5b93873f"
      },
      "outputs": [
        {
          "name": "stdout",
          "output_type": "stream",
          "text": [
            "Разбиение на предложения и BIO токенизация текста №: 76\n"
          ]
        },
        {
          "data": {
            "text/html": [
              "<div class=\"tex2jax_ignore\" style=\"white-space: pre-wrap\"><span style=\"padding: 2px; border-radius: 4px; border: 1px solid #d7ccc8; background: #efebe9\">Сегодня я купил <span style=\"vertical-align: middle; margin-left: 2px; font-size: 0.7em; color: #a1887f;\">Other</span></span><span style=\"padding: 2px; border-radius: 4px; border: 1px solid #ffcdd2; background: #ffebee\">машину лада гранта<span style=\"vertical-align: middle; margin-left: 2px; font-size: 0.7em; color: #e57373;\">Whole</span></span><span style=\"padding: 2px; border-radius: 4px; border: 1px solid #d7ccc8; background: #efebe9\"> и ни как не могу ее продать начнем с покупки <span style=\"vertical-align: middle; margin-left: 2px; font-size: 0.7em; color: #a1887f;\">Other</span></span><span style=\"padding: 2px; border-radius: 4px; border: 1px solid #ffcdd2; background: #ffebee\">машина<span style=\"vertical-align: middle; margin-left: 2px; font-size: 0.7em; color: #e57373;\">Costs</span></span><span style=\"padding: 2px; border-radius: 4px; border: 1px solid #d7ccc8; background: #efebe9\"> мне обошлась в четыреста восемдесят тысяч <span style=\"vertical-align: middle; margin-left: 2px; font-size: 0.7em; color: #a1887f;\">Other</span></span><span style=\"padding: 2px; border-radius: 4px; border: 1px solid #ffcdd2; background: #ffebee\">рублей<span style=\"vertical-align: middle; margin-left: 2px; font-size: 0.7em; color: #e57373;\">Costs</span></span><span style=\"padding: 2px; border-radius: 4px; border: 1px solid #d7ccc8; background: #efebe9\"> на реканий на <span style=\"vertical-align: middle; margin-left: 2px; font-size: 0.7em; color: #a1887f;\">Other</span></span><span style=\"padding: 2px; border-radius: 4px; border: 1px solid #ffcdd2; background: #ffebee\">машину<span style=\"vertical-align: middle; margin-left: 2px; font-size: 0.7em; color: #e57373;\">Whole</span></span><span style=\"padding: 2px; border-radius: 4px; border: 1px solid #d7ccc8; background: #efebe9\"> нет <span style=\"vertical-align: middle; margin-left: 2px; font-size: 0.7em; color: #a1887f;\">Other</span></span><span style=\"padding: 2px; border-radius: 4px; border: 1px solid #ffcdd2; background: #ffebee\">стоимость масла<span style=\"vertical-align: middle; margin-left: 2px; font-size: 0.7em; color: #e57373;\">Costs</span></span><span style=\"padding: 2px; border-radius: 4px; border: 1px solid #d7ccc8; background: #efebe9\"> 850 рублей замена бампера 5000 <span style=\"vertical-align: middle; margin-left: 2px; font-size: 0.7em; color: #a1887f;\">Other</span></span><span style=\"padding: 2px; border-radius: 4px; border: 1px solid #ffcdd2; background: #ffebee\">рублей<span style=\"vertical-align: middle; margin-left: 2px; font-size: 0.7em; color: #e57373;\">Costs</span></span><span style=\"padding: 2px; border-radius: 4px; border: 1px solid #d7ccc8; background: #efebe9\"> если собираетесь делать <span style=\"vertical-align: middle; margin-left: 2px; font-size: 0.7em; color: #a1887f;\">Other</span></span><span style=\"padding: 2px; border-radius: 4px; border: 1px solid #ffcdd2; background: #ffebee\">ремонт машины<span style=\"vertical-align: middle; margin-left: 2px; font-size: 0.7em; color: #e57373;\">Costs</span></span><span style=\"padding: 2px; border-radius: 4px; border: 1px solid #d7ccc8; background: #efebe9\"> капитально, то <span style=\"vertical-align: middle; margin-left: 2px; font-size: 0.7em; color: #a1887f;\">Other</span></span><span style=\"padding: 2px; border-radius: 4px; border: 1px solid #ffcdd2; background: #ffebee\">стоимость<span style=\"vertical-align: middle; margin-left: 2px; font-size: 0.7em; color: #e57373;\">Costs</span></span><span style=\"padding: 2px; border-radius: 4px; border: 1px solid #d7ccc8; background: #efebe9\"> обойдется в районе 200000 рублей <span style=\"vertical-align: middle; margin-left: 2px; font-size: 0.7em; color: #a1887f;\">Other</span></span><span style=\"padding: 2px; border-radius: 4px; border: 1px solid #bbdefb; background: #e3f2fd\">мощьность<span style=\"vertical-align: middle; margin-left: 2px; font-size: 0.7em; color: #64b5f6;\">Driveability</span></span><span style=\"padding: 2px; border-radius: 4px; border: 1px solid #d7ccc8; background: #efebe9\"> у нее 100 <span style=\"vertical-align: middle; margin-left: 2px; font-size: 0.7em; color: #a1887f;\">Other</span></span><span style=\"padding: 2px; border-radius: 4px; border: 1px solid #bbdefb; background: #e3f2fd\">лошадей<span style=\"vertical-align: middle; margin-left: 2px; font-size: 0.7em; color: #64b5f6;\">Driveability</span></span><span style=\"padding: 2px; border-radius: 4px; border: 1px solid #d7ccc8; background: #efebe9\"> <span style=\"vertical-align: middle; margin-left: 2px; font-size: 0.7em; color: #a1887f;\">Other</span></span><span style=\"padding: 2px; border-radius: 4px; border: 1px solid #bbdefb; background: #e3f2fd\">макс скорость<span style=\"vertical-align: middle; margin-left: 2px; font-size: 0.7em; color: #64b5f6;\">Driveability</span></span><span style=\"padding: 2px; border-radius: 4px; border: 1px solid #d7ccc8; background: #efebe9\"> 185 км в час.<span style=\"vertical-align: middle; margin-left: 2px; font-size: 0.7em; color: #a1887f;\">Other</span></span></div>"
            ],
            "text/plain": [
              "BoxMarkup('Сегодня я купил машину лада гранта и ни как не могу ее продать начнем с покупки машина мне обошлась в четыреста восемдесят тысяч рублей на реканий на машину нет стоимость масла 850 рублей замена бампера 5000 рублей если собираетесь делать ремонт машины капитально, то стоимость обойдется в районе 200000 рублей мощьность у нее 100 лошадей макс скорость 185 км в час.',\n",
              "          [Span(0, 16, 'Other'),\n",
              "           Span(16, 34, 'Whole'),\n",
              "           Span(34, 80, 'Other'),\n",
              "           Span(80, 86, 'Costs'),\n",
              "           Span(86, 129, 'Other'),\n",
              "           Span(129, 135, 'Costs'),\n",
              "           Span(135, 150, 'Other'),\n",
              "           Span(150, 156, 'Whole'),\n",
              "           Span(156, 161, 'Other'),\n",
              "           Span(161, 176, 'Costs'),\n",
              "           Span(176, 208, 'Other'),\n",
              "           Span(208, 214, 'Costs'),\n",
              "           Span(214, 239, 'Other'),\n",
              "           Span(239, 252, 'Costs'),\n",
              "           Span(252, 268, 'Other'),\n",
              "           Span(268, 277, 'Costs'),\n",
              "           Span(277, 311, 'Other'),\n",
              "           Span(311, 320, 'Driveability'),\n",
              "           Span(320, 331, 'Other'),\n",
              "           Span(331, 338, 'Driveability'),\n",
              "           Span(338, 339, 'Other'),\n",
              "           Span(339, 352, 'Driveability'),\n",
              "           Span(352, 366, 'Other')])"
            ]
          },
          "metadata": {},
          "output_type": "display_data"
        },
        {
          "name": "stdout",
          "output_type": "stream",
          "text": [
            "[('Сегодня', 'Other'), ('я', 'Other'), ('купил', 'Other'), ('машину', 'B-Whole'), ('лада', 'I-Whole'), ('гранта', 'I-Whole'), ('и', 'Other'), ('ни', 'Other'), ('как', 'Other'), ('не', 'Other')] \n",
            "\n"
          ]
        },
        {
          "data": {
            "text/html": [
              "<div class=\"tex2jax_ignore\" style=\"white-space: pre-wrap\"><span style=\"padding: 2px; border-radius: 4px; border: 1px solid #d7ccc8; background: #efebe9\">Общее впечатление : замечательный <span style=\"vertical-align: middle; margin-left: 2px; font-size: 0.7em; color: #a1887f;\">Other</span></span><span style=\"padding: 2px; border-radius: 4px; border: 1px solid #ffcdd2; background: #ffebee\">автомобиль<span style=\"vertical-align: middle; margin-left: 2px; font-size: 0.7em; color: #e57373;\">Whole</span></span></div>"
            ],
            "text/plain": [
              "BoxMarkup('Общее впечатление : замечательный автомобиль',\n",
              "          [Span(0, 34, 'Other'), Span(34, 44, 'Whole')])"
            ]
          },
          "metadata": {},
          "output_type": "display_data"
        },
        {
          "name": "stdout",
          "output_type": "stream",
          "text": [
            "[('Общее', 'Other'), ('впечатление', 'Other'), (':', 'Other'), ('замечательный', 'Other'), ('автомобиль', 'B-Whole')] \n",
            "\n",
            "Разбиение на предложения и BIO токенизация текста №: 43\n"
          ]
        },
        {
          "data": {
            "text/html": [
              "<div class=\"tex2jax_ignore\" style=\"white-space: pre-wrap\"><span style=\"padding: 2px; border-radius: 4px; border: 1px solid #d7ccc8; background: #efebe9\">Начну с того, что на <span style=\"vertical-align: middle; margin-left: 2px; font-size: 0.7em; color: #a1887f;\">Other</span></span><span style=\"padding: 2px; border-radius: 4px; border: 1px solid #ffcdd2; background: #ffebee\">Тойоте Хайс<span style=\"vertical-align: middle; margin-left: 2px; font-size: 0.7em; color: #e57373;\">Whole</span></span><span style=\"padding: 2px; border-radius: 4px; border: 1px solid #d7ccc8; background: #efebe9\"> работает мой муж и уже давненько.<span style=\"vertical-align: middle; margin-left: 2px; font-size: 0.7em; color: #a1887f;\">Other</span></span></div>"
            ],
            "text/plain": [
              "BoxMarkup('Начну с того, что на Тойоте Хайс работает мой муж и уже давненько.',\n",
              "          [Span(0, 21, 'Other'), Span(21, 32, 'Whole'), Span(32, 66, 'Other')])"
            ]
          },
          "metadata": {},
          "output_type": "display_data"
        },
        {
          "name": "stdout",
          "output_type": "stream",
          "text": [
            "[('Начну', 'Other'), ('с', 'Other'), ('того', 'Other'), (',', 'Other'), ('что', 'Other'), ('на', 'Other'), ('Тойоте', 'B-Whole'), ('Хайс', 'I-Whole'), ('работает', 'Other'), ('мой', 'Other')] \n",
            "\n"
          ]
        },
        {
          "data": {
            "text/html": [
              "<div class=\"tex2jax_ignore\" style=\"white-space: pre-wrap\"><span style=\"padding: 2px; border-radius: 4px; border: 1px solid #d7ccc8; background: #efebe9\">Поначалу <span style=\"vertical-align: middle; margin-left: 2px; font-size: 0.7em; color: #a1887f;\">Other</span></span><span style=\"padding: 2px; border-radius: 4px; border: 1px solid #ffcdd2; background: #ffebee\">машинка<span style=\"vertical-align: middle; margin-left: 2px; font-size: 0.7em; color: #e57373;\">Whole</span></span><span style=\"padding: 2px; border-radius: 4px; border: 1px solid #d7ccc8; background: #efebe9\"> очень понравилась и <span style=\"vertical-align: middle; margin-left: 2px; font-size: 0.7em; color: #a1887f;\">Other</span></span><span style=\"padding: 2px; border-radius: 4px; border: 1px solid #bbdefb; background: #e3f2fd\">внешне<span style=\"vertical-align: middle; margin-left: 2px; font-size: 0.7em; color: #64b5f6;\">Appearance</span></span><span style=\"padding: 2px; border-radius: 4px; border: 1px solid #d7ccc8; background: #efebe9\">, и внутренне.<span style=\"vertical-align: middle; margin-left: 2px; font-size: 0.7em; color: #a1887f;\">Other</span></span></div>"
            ],
            "text/plain": [
              "BoxMarkup('Поначалу машинка очень понравилась и внешне, и внутренне.',\n",
              "          [Span(0, 9, 'Other'),\n",
              "           Span(9, 16, 'Whole'),\n",
              "           Span(16, 37, 'Other'),\n",
              "           Span(37, 43, 'Appearance'),\n",
              "           Span(43, 57, 'Other')])"
            ]
          },
          "metadata": {},
          "output_type": "display_data"
        },
        {
          "name": "stdout",
          "output_type": "stream",
          "text": [
            "[('Поначалу', 'Other'), ('машинка', 'B-Whole'), ('очень', 'Other'), ('понравилась', 'Other'), ('и', 'Other'), ('внешне', 'B-Appearance'), (',', 'Other'), ('и', 'Other'), ('внутренне', 'Other'), ('.', 'Other')] \n",
            "\n"
          ]
        },
        {
          "data": {
            "text/html": [
              "<div class=\"tex2jax_ignore\" style=\"white-space: pre-wrap\"><span style=\"padding: 2px; border-radius: 4px; border: 1px solid #d7ccc8; background: #efebe9\">Муж был просто в восторге, что его по работе пересадили с <span style=\"vertical-align: middle; margin-left: 2px; font-size: 0.7em; color: #a1887f;\">Other</span></span><span style=\"padding: 2px; border-radius: 4px; border: 1px solid #ffcdd2; background: #ffebee\">Баргузина<span style=\"vertical-align: middle; margin-left: 2px; font-size: 0.7em; color: #e57373;\">Whole</span></span><span style=\"padding: 2px; border-radius: 4px; border: 1px solid #d7ccc8; background: #efebe9\"> на <span style=\"vertical-align: middle; margin-left: 2px; font-size: 0.7em; color: #a1887f;\">Other</span></span><span style=\"padding: 2px; border-radius: 4px; border: 1px solid #ffcdd2; background: #ffebee\">Хайс<span style=\"vertical-align: middle; margin-left: 2px; font-size: 0.7em; color: #e57373;\">Whole</span></span><span style=\"padding: 2px; border-radius: 4px; border: 1px solid #d7ccc8; background: #efebe9\">, и не замечал недостатков в этой <span style=\"vertical-align: middle; margin-left: 2px; font-size: 0.7em; color: #a1887f;\">Other</span></span><span style=\"padding: 2px; border-radius: 4px; border: 1px solid #ffcdd2; background: #ffebee\">машине<span style=\"vertical-align: middle; margin-left: 2px; font-size: 0.7em; color: #e57373;\">Whole</span></span>.</div>"
            ],
            "text/plain": [
              "BoxMarkup('Муж был просто в восторге, что его по работе пересадили с Баргузина на Хайс, и не замечал недостатков в этой машине.',\n",
              "          [Span(0, 58, 'Other'),\n",
              "           Span(58, 67, 'Whole'),\n",
              "           Span(67, 71, 'Other'),\n",
              "           Span(71, 75, 'Whole'),\n",
              "           Span(75, 109, 'Other'),\n",
              "           Span(109, 115, 'Whole')])"
            ]
          },
          "metadata": {},
          "output_type": "display_data"
        },
        {
          "name": "stdout",
          "output_type": "stream",
          "text": [
            "[('Муж', 'Other'), ('был', 'Other'), ('просто', 'Other'), ('в', 'Other'), ('восторге', 'Other'), (',', 'Other'), ('что', 'Other'), ('его', 'Other'), ('по', 'Other'), ('работе', 'Other')] \n",
            "\n"
          ]
        },
        {
          "data": {
            "text/html": [
              "<div class=\"tex2jax_ignore\" style=\"white-space: pre-wrap\"><span style=\"padding: 2px; border-radius: 4px; border: 1px solid #d7ccc8; background: #efebe9\">А так как он периодически отвозит меня на работу и забирает с работы на ней, то и я волей-неволей столкнулась с этой <span style=\"vertical-align: middle; margin-left: 2px; font-size: 0.7em; color: #a1887f;\">Other</span></span><span style=\"padding: 2px; border-radius: 4px; border: 1px solid #ffcdd2; background: #ffebee\">машиной<span style=\"vertical-align: middle; margin-left: 2px; font-size: 0.7em; color: #e57373;\">Whole</span></span>.</div>"
            ],
            "text/plain": [
              "BoxMarkup('А так как он периодически отвозит меня на работу и забирает с работы на ней, то и я волей-неволей столкнулась с этой машиной.',\n",
              "          [Span(0, 117, 'Other'), Span(117, 124, 'Whole')])"
            ]
          },
          "metadata": {},
          "output_type": "display_data"
        },
        {
          "name": "stdout",
          "output_type": "stream",
          "text": [
            "[('А', 'Other'), ('так', 'Other'), ('как', 'Other'), ('он', 'Other'), ('периодически', 'Other'), ('отвозит', 'Other'), ('меня', 'Other'), ('на', 'Other'), ('работу', 'Other'), ('и', 'Other')] \n",
            "\n"
          ]
        },
        {
          "data": {
            "text/html": [
              "<div class=\"tex2jax_ignore\" style=\"white-space: pre-wrap\"><span style=\"padding: 2px; border-radius: 4px; border: 1px solid #d7ccc8; background: #efebe9\">Конечно, после <span style=\"vertical-align: middle; margin-left: 2px; font-size: 0.7em; color: #a1887f;\">Other</span></span><span style=\"padding: 2px; border-radius: 4px; border: 1px solid #ffcdd2; background: #ffebee\">Баргузина<span style=\"vertical-align: middle; margin-left: 2px; font-size: 0.7em; color: #e57373;\">Whole</span></span><span style=\"padding: 2px; border-radius: 4px; border: 1px solid #d7ccc8; background: #efebe9\"> <span style=\"vertical-align: middle; margin-left: 2px; font-size: 0.7em; color: #a1887f;\">Other</span></span><span style=\"padding: 2px; border-radius: 4px; border: 1px solid #ffcdd2; background: #ffebee\">Хайс<span style=\"vertical-align: middle; margin-left: 2px; font-size: 0.7em; color: #e57373;\">Whole</span></span><span style=\"padding: 2px; border-radius: 4px; border: 1px solid #d7ccc8; background: #efebe9\"> казался просто нереальной <span style=\"vertical-align: middle; margin-left: 2px; font-size: 0.7em; color: #a1887f;\">Other</span></span><span style=\"padding: 2px; border-radius: 4px; border: 1px solid #ffcdd2; background: #ffebee\">машиной<span style=\"vertical-align: middle; margin-left: 2px; font-size: 0.7em; color: #e57373;\">Whole</span></span>.</div>"
            ],
            "text/plain": [
              "BoxMarkup('Конечно, после Баргузина Хайс казался просто нереальной машиной.',\n",
              "          [Span(0, 15, 'Other'),\n",
              "           Span(15, 24, 'Whole'),\n",
              "           Span(24, 25, 'Other'),\n",
              "           Span(25, 29, 'Whole'),\n",
              "           Span(29, 56, 'Other'),\n",
              "           Span(56, 63, 'Whole')])"
            ]
          },
          "metadata": {},
          "output_type": "display_data"
        },
        {
          "name": "stdout",
          "output_type": "stream",
          "text": [
            "[('Конечно', 'Other'), (',', 'Other'), ('после', 'Other'), ('Баргузина', 'B-Whole'), ('Хайс', 'B-Whole'), ('казался', 'Other'), ('просто', 'Other'), ('нереальной', 'Other'), ('машиной', 'B-Whole')] \n",
            "\n"
          ]
        },
        {
          "data": {
            "text/html": [
              "<div class=\"tex2jax_ignore\" style=\"white-space: pre-wrap\"><span style=\"padding: 2px; border-radius: 4px; border: 1px solid #d7ccc8; background: #efebe9\">И <span style=\"vertical-align: middle; margin-left: 2px; font-size: 0.7em; color: #a1887f;\">Other</span></span><span style=\"padding: 2px; border-radius: 4px; border: 1px solid #ffe0b2; background: #fff3e0\">удобство<span style=\"vertical-align: middle; margin-left: 2px; font-size: 0.7em; color: #ffb74d;\">Comfort</span></span><span style=\"padding: 2px; border-radius: 4px; border: 1px solid #d7ccc8; background: #efebe9\"> <span style=\"vertical-align: middle; margin-left: 2px; font-size: 0.7em; color: #a1887f;\">Other</span></span><span style=\"padding: 2px; border-radius: 4px; border: 1px solid #ffe0b2; background: #fff3e0\">кресел в салоне<span style=\"vertical-align: middle; margin-left: 2px; font-size: 0.7em; color: #ffb74d;\">Comfort</span></span><span style=\"padding: 2px; border-radius: 4px; border: 1px solid #d7ccc8; background: #efebe9\">, и <span style=\"vertical-align: middle; margin-left: 2px; font-size: 0.7em; color: #a1887f;\">Other</span></span><span style=\"padding: 2px; border-radius: 4px; border: 1px solid #bbdefb; background: #e3f2fd\">плавность хода<span style=\"vertical-align: middle; margin-left: 2px; font-size: 0.7em; color: #64b5f6;\">Driveability</span></span><span style=\"padding: 2px; border-radius: 4px; border: 1px solid #d7ccc8; background: #efebe9\">, и <span style=\"vertical-align: middle; margin-left: 2px; font-size: 0.7em; color: #a1887f;\">Other</span></span><span style=\"padding: 2px; border-radius: 4px; border: 1px solid #bbdefb; background: #e3f2fd\">внешний вид<span style=\"vertical-align: middle; margin-left: 2px; font-size: 0.7em; color: #64b5f6;\">Appearance</span></span><span style=\"padding: 2px; border-radius: 4px; border: 1px solid #d7ccc8; background: #efebe9\">, всё приводило в восторг.<span style=\"vertical-align: middle; margin-left: 2px; font-size: 0.7em; color: #a1887f;\">Other</span></span></div>"
            ],
            "text/plain": [
              "BoxMarkup('И удобство кресел в салоне, и плавность хода, и внешний вид, всё приводило в восторг.',\n",
              "          [Span(0, 2, 'Other'),\n",
              "           Span(2, 10, 'Comfort'),\n",
              "           Span(10, 11, 'Other'),\n",
              "           Span(11, 26, 'Comfort'),\n",
              "           Span(26, 30, 'Other'),\n",
              "           Span(30, 44, 'Driveability'),\n",
              "           Span(44, 48, 'Other'),\n",
              "           Span(48, 59, 'Appearance'),\n",
              "           Span(59, 85, 'Other')])"
            ]
          },
          "metadata": {},
          "output_type": "display_data"
        },
        {
          "name": "stdout",
          "output_type": "stream",
          "text": [
            "[('И', 'Other'), ('удобство', 'B-Comfort'), ('кресел', 'B-Comfort'), ('в', 'I-Comfort'), ('салоне', 'I-Comfort'), (',', 'Other'), ('и', 'Other'), ('плавность', 'B-Driveability'), ('хода', 'I-Driveability'), (',', 'Other')] \n",
            "\n"
          ]
        },
        {
          "data": {
            "text/html": [
              "<div class=\"tex2jax_ignore\" style=\"white-space: pre-wrap\"><span style=\"padding: 2px; border-radius: 4px; border: 1px solid #d7ccc8; background: #efebe9\">Муж даже начал бредить идеей, что для нашей большой семьи (у нас трое деток) покупка такой <span style=\"vertical-align: middle; margin-left: 2px; font-size: 0.7em; color: #a1887f;\">Other</span></span><span style=\"padding: 2px; border-radius: 4px; border: 1px solid #ffcdd2; background: #ffebee\">машины<span style=\"vertical-align: middle; margin-left: 2px; font-size: 0.7em; color: #e57373;\">Whole</span></span><span style=\"padding: 2px; border-radius: 4px; border: 1px solid #d7ccc8; background: #efebe9\"> в семью будет идеальной.<span style=\"vertical-align: middle; margin-left: 2px; font-size: 0.7em; color: #a1887f;\">Other</span></span></div>"
            ],
            "text/plain": [
              "BoxMarkup('Муж даже начал бредить идеей, что для нашей большой семьи (у нас трое деток) покупка такой машины в семью будет идеальной.',\n",
              "          [Span(0, 91, 'Other'),\n",
              "           Span(91, 97, 'Whole'),\n",
              "           Span(97, 122, 'Other')])"
            ]
          },
          "metadata": {},
          "output_type": "display_data"
        },
        {
          "name": "stdout",
          "output_type": "stream",
          "text": [
            "[('Муж', 'Other'), ('даже', 'Other'), ('начал', 'Other'), ('бредить', 'Other'), ('идеей', 'Other'), (',', 'Other'), ('что', 'Other'), ('для', 'Other'), ('нашей', 'Other'), ('большой', 'Other')] \n",
            "\n"
          ]
        },
        {
          "data": {
            "text/html": [
              "<div class=\"tex2jax_ignore\" style=\"white-space: pre-wrap\"><span style=\"padding: 2px; border-radius: 4px; border: 1px solid #d7ccc8; background: #efebe9\">Даже в мечтах обрисовывал, как он переделает <span style=\"vertical-align: middle; margin-left: 2px; font-size: 0.7em; color: #a1887f;\">Other</span></span><span style=\"padding: 2px; border-radius: 4px; border: 1px solid #ffe0b2; background: #fff3e0\">салон<span style=\"vertical-align: middle; margin-left: 2px; font-size: 0.7em; color: #ffb74d;\">Comfort</span></span><span style=\"padding: 2px; border-radius: 4px; border: 1px solid #d7ccc8; background: #efebe9\"> под междугородние путешествия всей семьёй.<span style=\"vertical-align: middle; margin-left: 2px; font-size: 0.7em; color: #a1887f;\">Other</span></span></div>"
            ],
            "text/plain": [
              "BoxMarkup('Даже в мечтах обрисовывал, как он переделает салон под междугородние путешествия всей семьёй.',\n",
              "          [Span(0, 45, 'Other'),\n",
              "           Span(45, 50, 'Comfort'),\n",
              "           Span(50, 93, 'Other')])"
            ]
          },
          "metadata": {},
          "output_type": "display_data"
        },
        {
          "name": "stdout",
          "output_type": "stream",
          "text": [
            "[('Даже', 'Other'), ('в', 'Other'), ('мечтах', 'Other'), ('обрисовывал', 'Other'), (',', 'Other'), ('как', 'Other'), ('он', 'Other'), ('переделает', 'Other'), ('салон', 'B-Comfort'), ('под', 'Other')] \n",
            "\n"
          ]
        },
        {
          "data": {
            "text/html": [
              "<div class=\"tex2jax_ignore\" style=\"white-space: pre-wrap\"><span style=\"padding: 2px; border-radius: 4px; border: 1px solid #d7ccc8; background: #efebe9\">Но прошло уже года три-четыре, как он работает на <span style=\"vertical-align: middle; margin-left: 2px; font-size: 0.7em; color: #a1887f;\">Other</span></span><span style=\"padding: 2px; border-radius: 4px; border: 1px solid #ffcdd2; background: #ffebee\">Тойоте Хайс<span style=\"vertical-align: middle; margin-left: 2px; font-size: 0.7em; color: #e57373;\">Whole</span></span>.</div>"
            ],
            "text/plain": [
              "BoxMarkup('Но прошло уже года три-четыре, как он работает на Тойоте Хайс.',\n",
              "          [Span(0, 50, 'Other'), Span(50, 61, 'Whole')])"
            ]
          },
          "metadata": {},
          "output_type": "display_data"
        },
        {
          "name": "stdout",
          "output_type": "stream",
          "text": [
            "[('Но', 'Other'), ('прошло', 'Other'), ('уже', 'Other'), ('года', 'Other'), ('три', 'Other'), ('-четыре,', 'Other'), ('как', 'Other'), ('он', 'Other'), ('работает', 'Other'), ('на', 'Other')] \n",
            "\n"
          ]
        },
        {
          "data": {
            "text/html": [
              "<div class=\"tex2jax_ignore\" style=\"white-space: pre-wrap\"><span style=\"padding: 2px; border-radius: 4px; border: 1px solid #d7ccc8; background: #efebe9\">Сейчас могу сказать только одно: <span style=\"vertical-align: middle; margin-left: 2px; font-size: 0.7em; color: #a1887f;\">Other</span></span><span style=\"padding: 2px; border-radius: 4px; border: 1px solid #ffcdd2; background: #ffebee\">машина<span style=\"vertical-align: middle; margin-left: 2px; font-size: 0.7em; color: #e57373;\">Whole</span></span><span style=\"padding: 2px; border-radius: 4px; border: 1px solid #d7ccc8; background: #efebe9\"> ужасная до безобразия.<span style=\"vertical-align: middle; margin-left: 2px; font-size: 0.7em; color: #a1887f;\">Other</span></span></div>"
            ],
            "text/plain": [
              "BoxMarkup('Сейчас могу сказать только одно: машина ужасная до безобразия.',\n",
              "          [Span(0, 33, 'Other'), Span(33, 39, 'Whole'), Span(39, 62, 'Other')])"
            ]
          },
          "metadata": {},
          "output_type": "display_data"
        },
        {
          "name": "stdout",
          "output_type": "stream",
          "text": [
            "[('Сейчас', 'Other'), ('могу', 'Other'), ('сказать', 'Other'), ('только', 'Other'), ('одно', 'Other'), (':', 'Other'), ('машина', 'B-Whole'), ('ужасная', 'Other'), ('до', 'Other'), ('безобразия', 'Other')] \n",
            "\n"
          ]
        },
        {
          "data": {
            "text/html": [
              "<div class=\"tex2jax_ignore\" style=\"white-space: pre-wrap\"><span style=\"padding: 2px; border-radius: 4px; border: 1px solid #d7ccc8; background: #efebe9\">В этом мы убедились оба.<span style=\"vertical-align: middle; margin-left: 2px; font-size: 0.7em; color: #a1887f;\">Other</span></span></div>"
            ],
            "text/plain": [
              "BoxMarkup('В этом мы убедились оба.', [Span(0, 24, 'Other')])"
            ]
          },
          "metadata": {},
          "output_type": "display_data"
        },
        {
          "name": "stdout",
          "output_type": "stream",
          "text": [
            "[('В', 'Other'), ('этом', 'Other'), ('мы', 'Other'), ('убедились', 'Other'), ('оба', 'Other'), ('.', 'Other')] \n",
            "\n"
          ]
        },
        {
          "data": {
            "text/html": [
              "<div class=\"tex2jax_ignore\" style=\"white-space: pre-wrap\"><span style=\"padding: 2px; border-radius: 4px; border: 1px solid #d7ccc8; background: #efebe9\">Начну с того, что проживаем мы в северном районе нашей страны, и, соответственно, <span style=\"vertical-align: middle; margin-left: 2px; font-size: 0.7em; color: #a1887f;\">Other</span></span><span style=\"padding: 2px; border-radius: 4px; border: 1px solid #ffcdd2; background: #ffebee\">машина<span style=\"vertical-align: middle; margin-left: 2px; font-size: 0.7em; color: #e57373;\">Whole</span></span><span style=\"padding: 2px; border-radius: 4px; border: 1px solid #d7ccc8; background: #efebe9\"> эксплуатируется зимой при довольно низких температурах.<span style=\"vertical-align: middle; margin-left: 2px; font-size: 0.7em; color: #a1887f;\">Other</span></span></div>"
            ],
            "text/plain": [
              "BoxMarkup('Начну с того, что проживаем мы в северном районе нашей страны, и, соответственно, машина эксплуатируется зимой при довольно низких температурах.',\n",
              "          [Span(0, 82, 'Other'),\n",
              "           Span(82, 88, 'Whole'),\n",
              "           Span(88, 144, 'Other')])"
            ]
          },
          "metadata": {},
          "output_type": "display_data"
        },
        {
          "name": "stdout",
          "output_type": "stream",
          "text": [
            "[('Начну', 'Other'), ('с', 'Other'), ('того', 'Other'), (',', 'Other'), ('что', 'Other'), ('проживаем', 'Other'), ('мы', 'Other'), ('в', 'Other'), ('северном', 'Other'), ('районе', 'Other')] \n",
            "\n"
          ]
        },
        {
          "data": {
            "text/html": [
              "<div class=\"tex2jax_ignore\" style=\"white-space: pre-wrap\"><span style=\"padding: 2px; border-radius: 4px; border: 1px solid #d7ccc8; background: #efebe9\">Так вот, в зимний период <span style=\"vertical-align: middle; margin-left: 2px; font-size: 0.7em; color: #a1887f;\">Other</span></span><span style=\"padding: 2px; border-radius: 4px; border: 1px solid #ffe0b2; background: #fff3e0\">салон<span style=\"vertical-align: middle; margin-left: 2px; font-size: 0.7em; color: #ffb74d;\">Comfort</span></span><span style=\"padding: 2px; border-radius: 4px; border: 1px solid #d7ccc8; background: #efebe9\"> <span style=\"vertical-align: middle; margin-left: 2px; font-size: 0.7em; color: #a1887f;\">Other</span></span><span style=\"padding: 2px; border-radius: 4px; border: 1px solid #ffe0b2; background: #fff3e0\">прогревается<span style=\"vertical-align: middle; margin-left: 2px; font-size: 0.7em; color: #ffb74d;\">Comfort</span></span><span style=\"padding: 2px; border-radius: 4px; border: 1px solid #d7ccc8; background: #efebe9\"> только в зоне <span style=\"vertical-align: middle; margin-left: 2px; font-size: 0.7em; color: #a1887f;\">Other</span></span><span style=\"padding: 2px; border-radius: 4px; border: 1px solid #ffe0b2; background: #fff3e0\">передних сидений<span style=\"vertical-align: middle; margin-left: 2px; font-size: 0.7em; color: #ffb74d;\">Comfort</span></span><span style=\"padding: 2px; border-radius: 4px; border: 1px solid #d7ccc8; background: #efebe9\"> (водителя и пассажира), и то кое-как.<span style=\"vertical-align: middle; margin-left: 2px; font-size: 0.7em; color: #a1887f;\">Other</span></span></div>"
            ],
            "text/plain": [
              "BoxMarkup('Так вот, в зимний период салон прогревается только в зоне передних сидений (водителя и пассажира), и то кое-как.',\n",
              "          [Span(0, 25, 'Other'),\n",
              "           Span(25, 30, 'Comfort'),\n",
              "           Span(30, 31, 'Other'),\n",
              "           Span(31, 43, 'Comfort'),\n",
              "           Span(43, 58, 'Other'),\n",
              "           Span(58, 74, 'Comfort'),\n",
              "           Span(74, 112, 'Other')])"
            ]
          },
          "metadata": {},
          "output_type": "display_data"
        },
        {
          "name": "stdout",
          "output_type": "stream",
          "text": [
            "[('Так', 'Other'), ('вот', 'Other'), (',', 'Other'), ('в', 'Other'), ('зимний', 'Other'), ('период', 'Other'), ('салон', 'B-Comfort'), ('прогревается', 'B-Comfort'), ('только', 'Other'), ('в', 'Other')] \n",
            "\n"
          ]
        },
        {
          "data": {
            "text/html": [
              "<div class=\"tex2jax_ignore\" style=\"white-space: pre-wrap\"><span style=\"padding: 2px; border-radius: 4px; border: 1px solid #d7ccc8; background: #efebe9\">В самом салоне <span style=\"vertical-align: middle; margin-left: 2px; font-size: 0.7em; color: #a1887f;\">Other</span></span><span style=\"padding: 2px; border-radius: 4px; border: 1px solid #ffe0b2; background: #fff3e0\">машина<span style=\"vertical-align: middle; margin-left: 2px; font-size: 0.7em; color: #ffb74d;\">Comfort</span></span><span style=\"padding: 2px; border-radius: 4px; border: 1px solid #d7ccc8; background: #efebe9\"> <span style=\"vertical-align: middle; margin-left: 2px; font-size: 0.7em; color: #a1887f;\">Other</span></span><span style=\"padding: 2px; border-radius: 4px; border: 1px solid #ffe0b2; background: #fff3e0\">не прогревается<span style=\"vertical-align: middle; margin-left: 2px; font-size: 0.7em; color: #ffb74d;\">Comfort</span></span><span style=\"padding: 2px; border-radius: 4px; border: 1px solid #d7ccc8; background: #efebe9\">, несмотря на дополнительные <span style=\"vertical-align: middle; margin-left: 2px; font-size: 0.7em; color: #a1887f;\">Other</span></span><span style=\"padding: 2px; border-radius: 4px; border: 1px solid #ffe0b2; background: #fff3e0\">печки<span style=\"vertical-align: middle; margin-left: 2px; font-size: 0.7em; color: #ffb74d;\">Comfort</span></span><span style=\"padding: 2px; border-radius: 4px; border: 1px solid #d7ccc8; background: #efebe9\"> и всевозможные <span style=\"vertical-align: middle; margin-left: 2px; font-size: 0.7em; color: #a1887f;\">Other</span></span><span style=\"padding: 2px; border-radius: 4px; border: 1px solid #ffe0b2; background: #fff3e0\">регуляторы температуры нагрева<span style=\"vertical-align: middle; margin-left: 2px; font-size: 0.7em; color: #ffb74d;\">Comfort</span></span>.</div>"
            ],
            "text/plain": [
              "BoxMarkup('В самом салоне машина не прогревается, несмотря на дополнительные печки и всевозможные регуляторы температуры нагрева.',\n",
              "          [Span(0, 15, 'Other'),\n",
              "           Span(15, 21, 'Comfort'),\n",
              "           Span(21, 22, 'Other'),\n",
              "           Span(22, 37, 'Comfort'),\n",
              "           Span(37, 66, 'Other'),\n",
              "           Span(66, 71, 'Comfort'),\n",
              "           Span(71, 87, 'Other'),\n",
              "           Span(87, 117, 'Comfort')])"
            ]
          },
          "metadata": {},
          "output_type": "display_data"
        },
        {
          "name": "stdout",
          "output_type": "stream",
          "text": [
            "[('В', 'Other'), ('самом', 'Other'), ('салоне', 'Other'), ('машина', 'B-Comfort'), ('не', 'B-Comfort'), ('прогревается', 'I-Comfort'), (',', 'Other'), ('несмотря', 'Other'), ('на', 'Other'), ('дополнительные', 'Other')] \n",
            "\n"
          ]
        },
        {
          "data": {
            "text/html": [
              "<div class=\"tex2jax_ignore\" style=\"white-space: pre-wrap\"><span style=\"padding: 2px; border-radius: 4px; border: 1px solid #d7ccc8; background: #efebe9\">Так же зимой <span style=\"vertical-align: middle; margin-left: 2px; font-size: 0.7em; color: #a1887f;\">Other</span></span><span style=\"padding: 2px; border-radius: 4px; border: 1px solid #bbdefb; background: #e3f2fd\">на поворотах<span style=\"vertical-align: middle; margin-left: 2px; font-size: 0.7em; color: #64b5f6;\">Driveability</span></span><span style=\"padding: 2px; border-radius: 4px; border: 1px solid #d7ccc8; background: #efebe9\"> (например, на перекрёстке) очень сильно <span style=\"vertical-align: middle; margin-left: 2px; font-size: 0.7em; color: #a1887f;\">Other</span></span><span style=\"padding: 2px; border-radius: 4px; border: 1px solid #bbdefb; background: #e3f2fd\">заносит<span style=\"vertical-align: middle; margin-left: 2px; font-size: 0.7em; color: #64b5f6;\">Driveability</span></span><span style=\"padding: 2px; border-radius: 4px; border: 1px solid #d7ccc8; background: #efebe9\"> <span style=\"vertical-align: middle; margin-left: 2px; font-size: 0.7em; color: #a1887f;\">Other</span></span><span style=\"padding: 2px; border-radius: 4px; border: 1px solid #bbdefb; background: #e3f2fd\">заднюю часть автомобиля<span style=\"vertical-align: middle; margin-left: 2px; font-size: 0.7em; color: #64b5f6;\">Driveability</span></span>.</div>"
            ],
            "text/plain": [
              "BoxMarkup('Так же зимой на поворотах (например, на перекрёстке) очень сильно заносит заднюю часть автомобиля.',\n",
              "          [Span(0, 13, 'Other'),\n",
              "           Span(13, 25, 'Driveability'),\n",
              "           Span(25, 66, 'Other'),\n",
              "           Span(66, 73, 'Driveability'),\n",
              "           Span(73, 74, 'Other'),\n",
              "           Span(74, 97, 'Driveability')])"
            ]
          },
          "metadata": {},
          "output_type": "display_data"
        },
        {
          "name": "stdout",
          "output_type": "stream",
          "text": [
            "[('Так', 'Other'), ('же', 'Other'), ('зимой', 'Other'), ('на', 'B-Driveability'), ('поворотах', 'I-Driveability'), ('(например,', 'Other'), ('на', 'Other'), ('перекрёстке', 'Other'), (')', 'Other'), ('очень', 'Other')] \n",
            "\n"
          ]
        },
        {
          "data": {
            "text/html": [
              "<div class=\"tex2jax_ignore\" style=\"white-space: pre-wrap\"><span style=\"padding: 2px; border-radius: 4px; border: 1px solid #d7ccc8; background: #efebe9\">Ну это понятно - <span style=\"vertical-align: middle; margin-left: 2px; font-size: 0.7em; color: #a1887f;\">Other</span></span><span style=\"padding: 2px; border-radius: 4px; border: 1px solid #bbdefb; background: #e3f2fd\">задний привод<span style=\"vertical-align: middle; margin-left: 2px; font-size: 0.7em; color: #64b5f6;\">Driveability</span></span><span style=\"padding: 2px; border-radius: 4px; border: 1px solid #d7ccc8; background: #efebe9\"> и всё остальное прочее.<span style=\"vertical-align: middle; margin-left: 2px; font-size: 0.7em; color: #a1887f;\">Other</span></span></div>"
            ],
            "text/plain": [
              "BoxMarkup('Ну это понятно - задний привод и всё остальное прочее.',\n",
              "          [Span(0, 17, 'Other'),\n",
              "           Span(17, 30, 'Driveability'),\n",
              "           Span(30, 54, 'Other')])"
            ]
          },
          "metadata": {},
          "output_type": "display_data"
        },
        {
          "name": "stdout",
          "output_type": "stream",
          "text": [
            "[('Ну', 'Other'), ('это', 'Other'), ('понятно', 'Other'), ('-', 'Other'), ('задний', 'B-Driveability'), ('привод', 'I-Driveability'), ('и', 'Other'), ('всё', 'Other'), ('остальное', 'Other'), ('прочее', 'Other')] \n",
            "\n"
          ]
        },
        {
          "data": {
            "text/html": [
              "<div class=\"tex2jax_ignore\" style=\"white-space: pre-wrap\"><span style=\"padding: 2px; border-radius: 4px; border: 1px solid #d7ccc8; background: #efebe9\">Но <span style=\"vertical-align: middle; margin-left: 2px; font-size: 0.7em; color: #a1887f;\">Other</span></span><span style=\"padding: 2px; border-radius: 4px; border: 1px solid #bbdefb; background: #e3f2fd\">заносы<span style=\"vertical-align: middle; margin-left: 2px; font-size: 0.7em; color: #64b5f6;\">Driveability</span></span><span style=\"padding: 2px; border-radius: 4px; border: 1px solid #d7ccc8; background: #efebe9\"> эти, даже глядя со стороны, приводят в тихую жуть.<span style=\"vertical-align: middle; margin-left: 2px; font-size: 0.7em; color: #a1887f;\">Other</span></span></div>"
            ],
            "text/plain": [
              "BoxMarkup('Но заносы эти, даже глядя со стороны, приводят в тихую жуть.',\n",
              "          [Span(0, 3, 'Other'),\n",
              "           Span(3, 9, 'Driveability'),\n",
              "           Span(9, 60, 'Other')])"
            ]
          },
          "metadata": {},
          "output_type": "display_data"
        },
        {
          "name": "stdout",
          "output_type": "stream",
          "text": [
            "[('Но', 'Other'), ('заносы', 'B-Driveability'), ('эти', 'Other'), (',', 'Other'), ('даже', 'Other'), ('глядя', 'Other'), ('со', 'Other'), ('стороны', 'Other'), (',', 'Other'), ('приводят', 'Other')] \n",
            "\n"
          ]
        },
        {
          "data": {
            "text/html": [
              "<div class=\"tex2jax_ignore\" style=\"white-space: pre-wrap\"><span style=\"padding: 2px; border-radius: 4px; border: 1px solid #bbdefb; background: #e3f2fd\">Хайсов<span style=\"vertical-align: middle; margin-left: 2px; font-size: 0.7em; color: #64b5f6;\">Driveability</span></span><span style=\"padding: 2px; border-radius: 4px; border: 1px solid #d7ccc8; background: #efebe9\"> по городу бегает достаточное количество и регулярно наблюдается картина с этими <span style=\"vertical-align: middle; margin-left: 2px; font-size: 0.7em; color: #a1887f;\">Other</span></span><span style=\"padding: 2px; border-radius: 4px; border: 1px solid #bbdefb; background: #e3f2fd\">заносами<span style=\"vertical-align: middle; margin-left: 2px; font-size: 0.7em; color: #64b5f6;\">Driveability</span></span>.</div>"
            ],
            "text/plain": [
              "BoxMarkup('Хайсов по городу бегает достаточное количество и регулярно наблюдается картина с этими заносами.',\n",
              "          [Span(0, 6, 'Driveability'),\n",
              "           Span(6, 87, 'Other'),\n",
              "           Span(87, 95, 'Driveability')])"
            ]
          },
          "metadata": {},
          "output_type": "display_data"
        },
        {
          "name": "stdout",
          "output_type": "stream",
          "text": [
            "[('Хайсов', 'B-Driveability'), ('по', 'Other'), ('городу', 'Other'), ('бегает', 'Other'), ('достаточное', 'Other'), ('количество', 'Other'), ('и', 'Other'), ('регулярно', 'Other'), ('наблюдается', 'Other'), ('картина', 'Other')] \n",
            "\n"
          ]
        },
        {
          "data": {
            "text/html": [
              "<div class=\"tex2jax_ignore\" style=\"white-space: pre-wrap\"><span style=\"padding: 2px; border-radius: 4px; border: 1px solid #ffe0b2; background: #fff3e0\">Дверь на салазках<span style=\"vertical-align: middle; margin-left: 2px; font-size: 0.7em; color: #ffb74d;\">Comfort</span></span><span style=\"padding: 2px; border-radius: 4px; border: 1px solid #d7ccc8; background: #efebe9\"> снаружи <span style=\"vertical-align: middle; margin-left: 2px; font-size: 0.7em; color: #a1887f;\">Other</span></span><span style=\"padding: 2px; border-radius: 4px; border: 1px solid #ffe0b2; background: #fff3e0\">открывается ужасно<span style=\"vertical-align: middle; margin-left: 2px; font-size: 0.7em; color: #ffb74d;\">Comfort</span></span><span style=\"padding: 2px; border-radius: 4px; border: 1px solid #d7ccc8; background: #efebe9\"> - женская половина пассажиров, в том числе и я, регулярно ломают ногти, так как <span style=\"vertical-align: middle; margin-left: 2px; font-size: 0.7em; color: #a1887f;\">Other</span></span><span style=\"padding: 2px; border-radius: 4px; border: 1px solid #ffe0b2; background: #fff3e0\">ручка<span style=\"vertical-align: middle; margin-left: 2px; font-size: 0.7em; color: #ffb74d;\">Comfort</span></span><span style=\"padding: 2px; border-radius: 4px; border: 1px solid #d7ccc8; background: #efebe9\"> сделана не очень хорошо и с неё постоянно соскальзывают пальцы.<span style=\"vertical-align: middle; margin-left: 2px; font-size: 0.7em; color: #a1887f;\">Other</span></span></div>"
            ],
            "text/plain": [
              "BoxMarkup('Дверь на салазках снаружи открывается ужасно - женская половина пассажиров, в том числе и я, регулярно ломают ногти, так как ручка сделана не очень хорошо и с неё постоянно соскальзывают пальцы.',\n",
              "          [Span(0, 17, 'Comfort'),\n",
              "           Span(17, 26, 'Other'),\n",
              "           Span(26, 44, 'Comfort'),\n",
              "           Span(44, 125, 'Other'),\n",
              "           Span(125, 130, 'Comfort'),\n",
              "           Span(130, 194, 'Other')])"
            ]
          },
          "metadata": {},
          "output_type": "display_data"
        },
        {
          "name": "stdout",
          "output_type": "stream",
          "text": [
            "[('Дверь', 'B-Comfort'), ('на', 'I-Comfort'), ('салазках', 'I-Comfort'), ('снаружи', 'Other'), ('открывается', 'B-Comfort'), ('ужасно', 'I-Comfort'), ('-', 'Other'), ('женская', 'Other'), ('половина', 'Other'), ('пассажиров', 'Other')] \n",
            "\n"
          ]
        },
        {
          "data": {
            "text/html": [
              "<div class=\"tex2jax_ignore\" style=\"white-space: pre-wrap\"><span style=\"padding: 2px; border-radius: 4px; border: 1px solid #d7ccc8; background: #efebe9\">В <span style=\"vertical-align: middle; margin-left: 2px; font-size: 0.7em; color: #a1887f;\">Other</span></span><span style=\"padding: 2px; border-radius: 4px; border: 1px solid #ffe0b2; background: #fff3e0\">водительской части салона<span style=\"vertical-align: middle; margin-left: 2px; font-size: 0.7em; color: #ffb74d;\">Comfort</span></span><span style=\"padding: 2px; border-radius: 4px; border: 1px solid #d7ccc8; background: #efebe9\"> в принципе всё довольно неплохо, за исключением <span style=\"vertical-align: middle; margin-left: 2px; font-size: 0.7em; color: #a1887f;\">Other</span></span><span style=\"padding: 2px; border-radius: 4px; border: 1px solid #ffe0b2; background: #fff3e0\">торпеды<span style=\"vertical-align: middle; margin-left: 2px; font-size: 0.7em; color: #ffb74d;\">Comfort</span></span><span style=\"padding: 2px; border-radius: 4px; border: 1px solid #d7ccc8; background: #efebe9\">, которая после недолгой эксплуатации автомобиля начала <span style=\"vertical-align: middle; margin-left: 2px; font-size: 0.7em; color: #a1887f;\">Other</span></span><span style=\"padding: 2px; border-radius: 4px; border: 1px solid #ffe0b2; background: #fff3e0\">греметь<span style=\"vertical-align: middle; margin-left: 2px; font-size: 0.7em; color: #ffb74d;\">Comfort</span></span><span style=\"padding: 2px; border-radius: 4px; border: 1px solid #d7ccc8; background: #efebe9\">, что само по себе уже не приятно.<span style=\"vertical-align: middle; margin-left: 2px; font-size: 0.7em; color: #a1887f;\">Other</span></span></div>"
            ],
            "text/plain": [
              "BoxMarkup('В водительской части салона в принципе всё довольно неплохо, за исключением торпеды, которая после недолгой эксплуатации автомобиля начала греметь, что само по себе уже не приятно.',\n",
              "          [Span(0, 2, 'Other'),\n",
              "           Span(2, 27, 'Comfort'),\n",
              "           Span(27, 76, 'Other'),\n",
              "           Span(76, 83, 'Comfort'),\n",
              "           Span(83, 139, 'Other'),\n",
              "           Span(139, 146, 'Comfort'),\n",
              "           Span(146, 180, 'Other')])"
            ]
          },
          "metadata": {},
          "output_type": "display_data"
        },
        {
          "name": "stdout",
          "output_type": "stream",
          "text": [
            "[('В', 'Other'), ('водительской', 'B-Comfort'), ('части', 'I-Comfort'), ('салона', 'I-Comfort'), ('в', 'Other'), ('принципе', 'Other'), ('всё', 'Other'), ('довольно', 'Other'), ('неплохо', 'Other'), (',', 'Other')] \n",
            "\n"
          ]
        },
        {
          "data": {
            "text/html": [
              "<div class=\"tex2jax_ignore\" style=\"white-space: pre-wrap\"><span style=\"padding: 2px; border-radius: 4px; border: 1px solid #d7ccc8; background: #efebe9\">Да и сам <span style=\"vertical-align: middle; margin-left: 2px; font-size: 0.7em; color: #a1887f;\">Other</span></span><span style=\"padding: 2px; border-radius: 4px; border: 1px solid #ffe0b2; background: #fff3e0\">кузов Хайса<span style=\"vertical-align: middle; margin-left: 2px; font-size: 0.7em; color: #ffb74d;\">Comfort</span></span><span style=\"padding: 2px; border-radius: 4px; border: 1px solid #d7ccc8; background: #efebe9\"> начал <span style=\"vertical-align: middle; margin-left: 2px; font-size: 0.7em; color: #a1887f;\">Other</span></span><span style=\"padding: 2px; border-radius: 4px; border: 1px solid #ffe0b2; background: #fff3e0\">скрипеть<span style=\"vertical-align: middle; margin-left: 2px; font-size: 0.7em; color: #ffb74d;\">Comfort</span></span><span style=\"padding: 2px; border-radius: 4px; border: 1px solid #d7ccc8; background: #efebe9\">, чем сразу заслужил гордое звание <span style=\"vertical-align: middle; margin-left: 2px; font-size: 0.7em; color: #a1887f;\">Other</span></span><span style=\"padding: 2px; border-radius: 4px; border: 1px solid #c8e6c9; background: #e8f5e9\">\"Сарай\"<span style=\"vertical-align: middle; margin-left: 2px; font-size: 0.7em; color: #66bb6a;\">Reliability</span></span>.</div>"
            ],
            "text/plain": [
              "BoxMarkup('Да и сам кузов Хайса начал скрипеть, чем сразу заслужил гордое звание \"Сарай\".',\n",
              "          [Span(0, 9, 'Other'),\n",
              "           Span(9, 20, 'Comfort'),\n",
              "           Span(20, 27, 'Other'),\n",
              "           Span(27, 35, 'Comfort'),\n",
              "           Span(35, 70, 'Other'),\n",
              "           Span(70, 77, 'Reliability')])"
            ]
          },
          "metadata": {},
          "output_type": "display_data"
        },
        {
          "name": "stdout",
          "output_type": "stream",
          "text": [
            "[('Да', 'Other'), ('и', 'Other'), ('сам', 'Other'), ('кузов', 'B-Comfort'), ('Хайса', 'I-Comfort'), ('начал', 'Other'), ('скрипеть', 'B-Comfort'), (',', 'Other'), ('чем', 'Other'), ('сразу', 'Other')] \n",
            "\n"
          ]
        },
        {
          "data": {
            "text/html": [
              "<div class=\"tex2jax_ignore\" style=\"white-space: pre-wrap\"><span style=\"padding: 2px; border-radius: 4px; border: 1px solid #c8e6c9; background: #e8f5e9\">Сервисное обслуживание<span style=\"vertical-align: middle; margin-left: 2px; font-size: 0.7em; color: #66bb6a;\">Reliability</span></span><span style=\"padding: 2px; border-radius: 4px; border: 1px solid #d7ccc8; background: #efebe9\"> в Тойота-центре нашего города тоже ниже плинтуса.<span style=\"vertical-align: middle; margin-left: 2px; font-size: 0.7em; color: #a1887f;\">Other</span></span></div>"
            ],
            "text/plain": [
              "BoxMarkup('Сервисное обслуживание в Тойота-центре нашего города тоже ниже плинтуса.',\n",
              "          [Span(0, 22, 'Reliability'), Span(22, 72, 'Other')])"
            ]
          },
          "metadata": {},
          "output_type": "display_data"
        },
        {
          "name": "stdout",
          "output_type": "stream",
          "text": [
            "[('Сервисное', 'B-Reliability'), ('обслуживание', 'I-Reliability'), ('в', 'Other'), ('Тойота', 'Other'), ('-центре', 'Other'), ('нашего', 'Other'), ('города', 'Other'), ('тоже', 'Other'), ('ниже', 'Other'), ('плинтуса', 'Other')] \n",
            "\n"
          ]
        },
        {
          "data": {
            "text/html": [
              "<div class=\"tex2jax_ignore\" style=\"white-space: pre-wrap\"><span style=\"padding: 2px; border-radius: 4px; border: 1px solid #c8e6c9; background: #e8f5e9\">Машина<span style=\"vertical-align: middle; margin-left: 2px; font-size: 0.7em; color: #66bb6a;\">Reliability</span></span><span style=\"padding: 2px; border-radius: 4px; border: 1px solid #d7ccc8; background: #efebe9\"> хоть и обслуживается за счёт организации, но после каждого <span style=\"vertical-align: middle; margin-left: 2px; font-size: 0.7em; color: #a1887f;\">Other</span></span><span style=\"padding: 2px; border-radius: 4px; border: 1px solid #c8e6c9; background: #e8f5e9\">ТО<span style=\"vertical-align: middle; margin-left: 2px; font-size: 0.7em; color: #66bb6a;\">Reliability</span></span><span style=\"padding: 2px; border-radius: 4px; border: 1px solid #d7ccc8; background: #efebe9\"> мой муж, мягко говоря, в шоке от того, как сервис-менеджеры каждый раз находят на ровном месте какие-то \"болячки\" у <span style=\"vertical-align: middle; margin-left: 2px; font-size: 0.7em; color: #a1887f;\">Other</span></span><span style=\"padding: 2px; border-radius: 4px; border: 1px solid #ffcdd2; background: #ffebee\">машины<span style=\"vertical-align: middle; margin-left: 2px; font-size: 0.7em; color: #e57373;\">Costs</span></span><span style=\"padding: 2px; border-radius: 4px; border: 1px solid #d7ccc8; background: #efebe9\">, дабы <span style=\"vertical-align: middle; margin-left: 2px; font-size: 0.7em; color: #a1887f;\">Other</span></span><span style=\"padding: 2px; border-radius: 4px; border: 1px solid #ffcdd2; background: #ffebee\">содрать побольше денег<span style=\"vertical-align: middle; margin-left: 2px; font-size: 0.7em; color: #e57373;\">Costs</span></span>.</div>"
            ],
            "text/plain": [
              "BoxMarkup('Машина хоть и обслуживается за счёт организации, но после каждого ТО мой муж, мягко говоря, в шоке от того, как сервис-менеджеры каждый раз находят на ровном месте какие-то \"болячки\" у машины, дабы содрать побольше денег.',\n",
              "          [Span(0, 6, 'Reliability'),\n",
              "           Span(6, 66, 'Other'),\n",
              "           Span(66, 68, 'Reliability'),\n",
              "           Span(68, 185, 'Other'),\n",
              "           Span(185, 191, 'Costs'),\n",
              "           Span(191, 198, 'Other'),\n",
              "           Span(198, 220, 'Costs')])"
            ]
          },
          "metadata": {},
          "output_type": "display_data"
        },
        {
          "name": "stdout",
          "output_type": "stream",
          "text": [
            "[('Машина', 'B-Reliability'), ('хоть', 'Other'), ('и', 'Other'), ('обслуживается', 'Other'), ('за', 'Other'), ('счёт', 'Other'), ('организации', 'Other'), (',', 'Other'), ('но', 'Other'), ('после', 'Other')] \n",
            "\n"
          ]
        },
        {
          "data": {
            "text/html": [
              "<div class=\"tex2jax_ignore\" style=\"white-space: pre-wrap\"><span style=\"padding: 2px; border-radius: 4px; border: 1px solid #d7ccc8; background: #efebe9\">А те <span style=\"vertical-align: middle; margin-left: 2px; font-size: 0.7em; color: #a1887f;\">Other</span></span><span style=\"padding: 2px; border-radius: 4px; border: 1px solid #c8e6c9; background: #e8f5e9\">поломки<span style=\"vertical-align: middle; margin-left: 2px; font-size: 0.7em; color: #66bb6a;\">Reliability</span></span><span style=\"padding: 2px; border-radius: 4px; border: 1px solid #d7ccc8; background: #efebe9\">, которые действительно требуют серьёзного внимания, в заказ-наряде прописываются, но специалисты даже и не заглядывают туда.<span style=\"vertical-align: middle; margin-left: 2px; font-size: 0.7em; color: #a1887f;\">Other</span></span></div>"
            ],
            "text/plain": [
              "BoxMarkup('А те поломки, которые действительно требуют серьёзного внимания, в заказ-наряде прописываются, но специалисты даже и не заглядывают туда.',\n",
              "          [Span(0, 5, 'Other'),\n",
              "           Span(5, 12, 'Reliability'),\n",
              "           Span(12, 137, 'Other')])"
            ]
          },
          "metadata": {},
          "output_type": "display_data"
        },
        {
          "name": "stdout",
          "output_type": "stream",
          "text": [
            "[('А', 'Other'), ('те', 'Other'), ('поломки', 'B-Reliability'), (',', 'Other'), ('которые', 'Other'), ('действительно', 'Other'), ('требуют', 'Other'), ('серьёзного', 'Other'), ('внимания', 'Other'), (',', 'Other')] \n",
            "\n"
          ]
        },
        {
          "data": {
            "text/html": [
              "<div class=\"tex2jax_ignore\" style=\"white-space: pre-wrap\"><span style=\"padding: 2px; border-radius: 4px; border: 1px solid #d7ccc8; background: #efebe9\">Таким образом, мой муж половину этой зимы проездил с <span style=\"vertical-align: middle; margin-left: 2px; font-size: 0.7em; color: #a1887f;\">Other</span></span><span style=\"padding: 2px; border-radius: 4px; border: 1px solid #c8e6c9; background: #e8f5e9\">\"инвалидным\"<span style=\"vertical-align: middle; margin-left: 2px; font-size: 0.7em; color: #66bb6a;\">Reliability</span></span><span style=\"padding: 2px; border-radius: 4px; border: 1px solid #d7ccc8; background: #efebe9\"> <span style=\"vertical-align: middle; margin-left: 2px; font-size: 0.7em; color: #a1887f;\">Other</span></span><span style=\"padding: 2px; border-radius: 4px; border: 1px solid #c8e6c9; background: #e8f5e9\">задним правым колесом<span style=\"vertical-align: middle; margin-left: 2px; font-size: 0.7em; color: #66bb6a;\">Reliability</span></span><span style=\"padding: 2px; border-radius: 4px; border: 1px solid #d7ccc8; background: #efebe9\">: <span style=\"vertical-align: middle; margin-left: 2px; font-size: 0.7em; color: #a1887f;\">Other</span></span><span style=\"padding: 2px; border-radius: 4px; border: 1px solid #bbdefb; background: #e3f2fd\">с места тронуться<span style=\"vertical-align: middle; margin-left: 2px; font-size: 0.7em; color: #64b5f6;\">Driveability</span></span><span style=\"padding: 2px; border-radius: 4px; border: 1px solid #d7ccc8; background: #efebe9\"> было невозможно - оно просто <span style=\"vertical-align: middle; margin-left: 2px; font-size: 0.7em; color: #a1887f;\">Other</span></span><span style=\"padding: 2px; border-radius: 4px; border: 1px solid #c8e6c9; background: #e8f5e9\">не крутилось<span style=\"vertical-align: middle; margin-left: 2px; font-size: 0.7em; color: #66bb6a;\">Reliability</span></span><span style=\"padding: 2px; border-radius: 4px; border: 1px solid #d7ccc8; background: #efebe9\">, приходилось его <span style=\"vertical-align: middle; margin-left: 2px; font-size: 0.7em; color: #a1887f;\">Other</span></span><span style=\"padding: 2px; border-radius: 4px; border: 1px solid #bbdefb; background: #e3f2fd\">срывать<span style=\"vertical-align: middle; margin-left: 2px; font-size: 0.7em; color: #64b5f6;\">Driveability</span></span>.</div>"
            ],
            "text/plain": [
              "BoxMarkup('Таким образом, мой муж половину этой зимы проездил с \"инвалидным\" задним правым колесом: с места тронуться было невозможно - оно просто не крутилось, приходилось его срывать.',\n",
              "          [Span(0, 53, 'Other'),\n",
              "           Span(53, 65, 'Reliability'),\n",
              "           Span(65, 66, 'Other'),\n",
              "           Span(66, 87, 'Reliability'),\n",
              "           Span(87, 89, 'Other'),\n",
              "           Span(89, 106, 'Driveability'),\n",
              "           Span(106, 136, 'Other'),\n",
              "           Span(136, 148, 'Reliability'),\n",
              "           Span(148, 166, 'Other'),\n",
              "           Span(166, 173, 'Driveability')])"
            ]
          },
          "metadata": {},
          "output_type": "display_data"
        },
        {
          "name": "stdout",
          "output_type": "stream",
          "text": [
            "[('Таким', 'Other'), ('образом', 'Other'), (',', 'Other'), ('мой', 'Other'), ('муж', 'Other'), ('половину', 'Other'), ('этой', 'Other'), ('зимы', 'Other'), ('проездил', 'Other'), ('с', 'Other')] \n",
            "\n"
          ]
        },
        {
          "data": {
            "text/html": [
              "<div class=\"tex2jax_ignore\" style=\"white-space: pre-wrap\"><span style=\"padding: 2px; border-radius: 4px; border: 1px solid #d7ccc8; background: #efebe9\">Вобщем, впечатление от <span style=\"vertical-align: middle; margin-left: 2px; font-size: 0.7em; color: #a1887f;\">Other</span></span><span style=\"padding: 2px; border-radius: 4px; border: 1px solid #ffcdd2; background: #ffebee\">Хайса<span style=\"vertical-align: middle; margin-left: 2px; font-size: 0.7em; color: #e57373;\">Whole</span></span><span style=\"padding: 2px; border-radius: 4px; border: 1px solid #d7ccc8; background: #efebe9\"> не айс (прям каламбур получился).<span style=\"vertical-align: middle; margin-left: 2px; font-size: 0.7em; color: #a1887f;\">Other</span></span></div>"
            ],
            "text/plain": [
              "BoxMarkup('Вобщем, впечатление от Хайса не айс (прям каламбур получился).',\n",
              "          [Span(0, 23, 'Other'), Span(23, 28, 'Whole'), Span(28, 62, 'Other')])"
            ]
          },
          "metadata": {},
          "output_type": "display_data"
        },
        {
          "name": "stdout",
          "output_type": "stream",
          "text": [
            "[('Вобщем', 'Other'), (',', 'Other'), ('впечатление', 'Other'), ('от', 'Other'), ('Хайса', 'B-Whole'), ('не', 'Other'), ('айс', 'Other'), ('(прям', 'Other'), ('каламбур', 'Other'), ('получился', 'Other')] \n",
            "\n"
          ]
        },
        {
          "data": {
            "text/html": [
              "<div class=\"tex2jax_ignore\" style=\"white-space: pre-wrap\"><span style=\"padding: 2px; border-radius: 4px; border: 1px solid #bbdefb; background: #e3f2fd\">Внешне<span style=\"vertical-align: middle; margin-left: 2px; font-size: 0.7em; color: #64b5f6;\">Appearance</span></span><span style=\"padding: 2px; border-radius: 4px; border: 1px solid #d7ccc8; background: #efebe9\">, да, <span style=\"vertical-align: middle; margin-left: 2px; font-size: 0.7em; color: #a1887f;\">Other</span></span><span style=\"padding: 2px; border-radius: 4px; border: 1px solid #bbdefb; background: #e3f2fd\">выглядит<span style=\"vertical-align: middle; margin-left: 2px; font-size: 0.7em; color: #64b5f6;\">Appearance</span></span><span style=\"padding: 2px; border-radius: 4px; border: 1px solid #d7ccc8; background: #efebe9\"> <span style=\"vertical-align: middle; margin-left: 2px; font-size: 0.7em; color: #a1887f;\">Other</span></span><span style=\"padding: 2px; border-radius: 4px; border: 1px solid #bbdefb; background: #e3f2fd\">красиво<span style=\"vertical-align: middle; margin-left: 2px; font-size: 0.7em; color: #64b5f6;\">Appearance</span></span><span style=\"padding: 2px; border-radius: 4px; border: 1px solid #d7ccc8; background: #efebe9\"> и <span style=\"vertical-align: middle; margin-left: 2px; font-size: 0.7em; color: #a1887f;\">Other</span></span><span style=\"padding: 2px; border-radius: 4px; border: 1px solid #bbdefb; background: #e3f2fd\">величественно<span style=\"vertical-align: middle; margin-left: 2px; font-size: 0.7em; color: #64b5f6;\">Appearance</span></span>.</div>"
            ],
            "text/plain": [
              "BoxMarkup('Внешне, да, выглядит красиво и величественно.',\n",
              "          [Span(0, 6, 'Appearance'),\n",
              "           Span(6, 12, 'Other'),\n",
              "           Span(12, 20, 'Appearance'),\n",
              "           Span(20, 21, 'Other'),\n",
              "           Span(21, 28, 'Appearance'),\n",
              "           Span(28, 31, 'Other'),\n",
              "           Span(31, 44, 'Appearance')])"
            ]
          },
          "metadata": {},
          "output_type": "display_data"
        },
        {
          "name": "stdout",
          "output_type": "stream",
          "text": [
            "[('Внешне', 'B-Appearance'), (',', 'Other'), ('да', 'Other'), (',', 'Other'), ('выглядит', 'B-Appearance'), ('красиво', 'B-Appearance'), ('и', 'Other'), ('величественно', 'B-Appearance')] \n",
            "\n"
          ]
        },
        {
          "data": {
            "text/html": [
              "<div class=\"tex2jax_ignore\" style=\"white-space: pre-wrap\"><span style=\"padding: 2px; border-radius: 4px; border: 1px solid #d7ccc8; background: #efebe9\">Но на самом деле такой же <span style=\"vertical-align: middle; margin-left: 2px; font-size: 0.7em; color: #a1887f;\">Other</span></span><span style=\"padding: 2px; border-radius: 4px; border: 1px solid #c8e6c9; background: #e8f5e9\">\"сарай\"<span style=\"vertical-align: middle; margin-left: 2px; font-size: 0.7em; color: #66bb6a;\">Reliability</span></span><span style=\"padding: 2px; border-radius: 4px; border: 1px solid #d7ccc8; background: #efebe9\"> как <span style=\"vertical-align: middle; margin-left: 2px; font-size: 0.7em; color: #a1887f;\">Other</span></span><span style=\"padding: 2px; border-radius: 4px; border: 1px solid #c8e6c9; background: #e8f5e9\">Баргузин<span style=\"vertical-align: middle; margin-left: 2px; font-size: 0.7em; color: #66bb6a;\">Reliability</span></span><span style=\"padding: 2px; border-radius: 4px; border: 1px solid #d7ccc8; background: #efebe9\">, <span style=\"vertical-align: middle; margin-left: 2px; font-size: 0.7em; color: #a1887f;\">Other</span></span><span style=\"padding: 2px; border-radius: 4px; border: 1px solid #c8e6c9; background: #e8f5e9\">Газель<span style=\"vertical-align: middle; margin-left: 2px; font-size: 0.7em; color: #66bb6a;\">Reliability</span></span><span style=\"padding: 2px; border-radius: 4px; border: 1px solid #d7ccc8; background: #efebe9\"> и прочее.<span style=\"vertical-align: middle; margin-left: 2px; font-size: 0.7em; color: #a1887f;\">Other</span></span></div>"
            ],
            "text/plain": [
              "BoxMarkup('Но на самом деле такой же \"сарай\" как Баргузин, Газель и прочее.',\n",
              "          [Span(0, 26, 'Other'),\n",
              "           Span(26, 33, 'Reliability'),\n",
              "           Span(33, 38, 'Other'),\n",
              "           Span(38, 46, 'Reliability'),\n",
              "           Span(46, 48, 'Other'),\n",
              "           Span(48, 54, 'Reliability'),\n",
              "           Span(54, 64, 'Other')])"
            ]
          },
          "metadata": {},
          "output_type": "display_data"
        },
        {
          "name": "stdout",
          "output_type": "stream",
          "text": [
            "[('Но', 'Other'), ('на', 'Other'), ('самом', 'Other'), ('деле', 'Other'), ('такой', 'Other'), ('же', 'Other'), ('\"сарай\"', 'B-Reliability'), ('как', 'Other'), ('Баргузин', 'B-Reliability'), (',', 'Other')] \n",
            "\n"
          ]
        },
        {
          "data": {
            "text/html": [
              "<div class=\"tex2jax_ignore\" style=\"white-space: pre-wrap\"><span style=\"padding: 2px; border-radius: 4px; border: 1px solid #d7ccc8; background: #efebe9\">Одно, что <span style=\"vertical-align: middle; margin-left: 2px; font-size: 0.7em; color: #a1887f;\">Other</span></span><span style=\"padding: 2px; border-radius: 4px; border: 1px solid #bbdefb; background: #e3f2fd\">кочки пятой точкой не чувствуешь<span style=\"vertical-align: middle; margin-left: 2px; font-size: 0.7em; color: #64b5f6;\">Driveability</span></span><span style=\"padding: 2px; border-radius: 4px; border: 1px solid #d7ccc8; background: #efebe9\"> :) За такую <span style=\"vertical-align: middle; margin-left: 2px; font-size: 0.7em; color: #a1887f;\">Other</span></span><span style=\"padding: 2px; border-radius: 4px; border: 1px solid #ffcdd2; background: #ffebee\">цену<span style=\"vertical-align: middle; margin-left: 2px; font-size: 0.7em; color: #e57373;\">Costs</span></span><span style=\"padding: 2px; border-radius: 4px; border: 1px solid #d7ccc8; background: #efebe9\"> ожидаешь лучшего <span style=\"vertical-align: middle; margin-left: 2px; font-size: 0.7em; color: #a1887f;\">Other</span></span><span style=\"padding: 2px; border-radius: 4px; border: 1px solid #c8e6c9; background: #e8f5e9\">качества<span style=\"vertical-align: middle; margin-left: 2px; font-size: 0.7em; color: #66bb6a;\">Reliability</span></span>.</div>"
            ],
            "text/plain": [
              "BoxMarkup('Одно, что кочки пятой точкой не чувствуешь :) За такую цену ожидаешь лучшего качества.',\n",
              "          [Span(0, 10, 'Other'),\n",
              "           Span(10, 42, 'Driveability'),\n",
              "           Span(42, 55, 'Other'),\n",
              "           Span(55, 59, 'Costs'),\n",
              "           Span(59, 77, 'Other'),\n",
              "           Span(77, 85, 'Reliability')])"
            ]
          },
          "metadata": {},
          "output_type": "display_data"
        },
        {
          "name": "stdout",
          "output_type": "stream",
          "text": [
            "[('Одно', 'Other'), (',', 'Other'), ('что', 'Other'), ('кочки', 'B-Driveability'), ('пятой', 'I-Driveability'), ('точкой', 'I-Driveability'), ('не', 'I-Driveability'), ('чувствуешь', 'I-Driveability'), (':)', 'Other'), ('За', 'Other')] \n",
            "\n"
          ]
        },
        {
          "data": {
            "text/html": [
              "<div class=\"tex2jax_ignore\" style=\"white-space: pre-wrap\"></div>"
            ],
            "text/plain": [
              "BoxMarkup('', [])"
            ]
          },
          "metadata": {},
          "output_type": "display_data"
        },
        {
          "name": "stdout",
          "output_type": "stream",
          "text": [
            "[] \n",
            "\n"
          ]
        }
      ],
      "source": [
        "for rand_i in random_picks:\n",
        "    text, aspect_spans = texts_w_aspect_spans[rand_i]\n",
        "\n",
        "    print('Разбиение на предложения и BIO токенизация текста №:',rand_i) \n",
        "    for sentence, spans in sentence_splitter(text, aspect_spans):\n",
        "\n",
        "        cover_spans      = fill_gaps(sentence,spans)\n",
        "        tokens_w_biotags = extract_BIO_tagged_tokens(sentence, \n",
        "                                                     cover_spans, \n",
        "                                                     word_tokenizer.tokenize)\n",
        "\n",
        "        show_markup(sentence, cover_spans)\n",
        "        print(tokens_w_biotags[:10],'\\n')"
      ]
    },
    {
      "cell_type": "markdown",
      "metadata": {
        "id": "FOms3aYByvId"
      },
      "source": [
        "##  Подготовка данных для обучения: "
      ]
    },
    {
      "cell_type": "code",
      "execution_count": null,
      "metadata": {
        "id": "Hb_ab2jLyvIf"
      },
      "outputs": [],
      "source": [
        "from dlnlputils.sentiment_utils import prepare_data, form_vocabulary_and_tagset"
      ]
    },
    {
      "cell_type": "code",
      "execution_count": null,
      "metadata": {
        "id": "VTH0zT5hyvIg"
      },
      "outputs": [],
      "source": [
        "# Если Вы запускаете ноутбук на colab или kaggle, добавьте в начало пути ./stepik-dl-nlp\n",
        "xml_train = 'datasets/sentirueval2015/SentiRuEval_car_markup_train.xml'\n",
        "xml_test  = 'datasets/sentirueval2015/SentiRuEval_car_markup_test.xml'"
      ]
    },
    {
      "cell_type": "markdown",
      "metadata": {
        "id": "RbZFV0-VyvIi"
      },
      "source": [
        "### Токенизация: "
      ]
    },
    {
      "cell_type": "code",
      "execution_count": null,
      "metadata": {
        "id": "UBX7VeFKyvIj"
      },
      "outputs": [],
      "source": [
        "texts_w_aspect_spans = parse_xml_aspect(xml_train)\n",
        "training_data        = prepare_data(texts_w_aspect_spans, word_tokenizer.tokenize)\n",
        "\n",
        "texts_w_aspect_spans = parse_xml_aspect(xml_test)\n",
        "test_data            = prepare_data(texts_w_aspect_spans, word_tokenizer.tokenize)\n"
      ]
    },
    {
      "cell_type": "markdown",
      "metadata": {
        "id": "nmzw4Qg0yvIk"
      },
      "source": [
        "#### разбиение на предложения дало нам столько коротких текстов:"
      ]
    },
    {
      "cell_type": "code",
      "execution_count": null,
      "metadata": {
        "id": "2_hrRcutyvIl",
        "outputId": "e2609086-be02-449a-8828-7d3200528c3f"
      },
      "outputs": [
        {
          "data": {
            "text/plain": [
              "(2210, 1922)"
            ]
          },
          "execution_count": 18,
          "metadata": {},
          "output_type": "execute_result"
        }
      ],
      "source": [
        "len(training_data), len(test_data)"
      ]
    },
    {
      "cell_type": "code",
      "execution_count": null,
      "metadata": {
        "id": "SmZ2Og0gyvIn"
      },
      "outputs": [],
      "source": [
        "all_data = training_data + test_data"
      ]
    },
    {
      "cell_type": "code",
      "execution_count": null,
      "metadata": {
        "id": "Dk93Ff47yvIp"
      },
      "outputs": [],
      "source": [
        "vocabulary,labels = form_vocabulary_and_tagset(all_data)"
      ]
    },
    {
      "cell_type": "code",
      "execution_count": null,
      "metadata": {
        "id": "SB-M-PdQyvIr",
        "outputId": "b2ec6aa9-c48b-4234-8369-5d80c0121bc2"
      },
      "outputs": [
        {
          "data": {
            "text/plain": [
              "{'B-Appearance',\n",
              " 'B-Comfort',\n",
              " 'B-Costs',\n",
              " 'B-Driveability',\n",
              " 'B-Reliability',\n",
              " 'B-Safety',\n",
              " 'B-Whole',\n",
              " 'I-Appearance',\n",
              " 'I-Comfort',\n",
              " 'I-Costs',\n",
              " 'I-Driveability',\n",
              " 'I-Reliability',\n",
              " 'I-Safety',\n",
              " 'I-Whole',\n",
              " 'Other'}"
            ]
          },
          "execution_count": 21,
          "metadata": {},
          "output_type": "execute_result"
        }
      ],
      "source": [
        "labels"
      ]
    },
    {
      "cell_type": "markdown",
      "metadata": {
        "id": "Deec86JxyvIs"
      },
      "source": [
        "#### а размер словаря:"
      ]
    },
    {
      "cell_type": "code",
      "execution_count": null,
      "metadata": {
        "id": "IyKVYFbEyvIv",
        "outputId": "21729625-383b-427e-b1bc-2279f0d79eab"
      },
      "outputs": [
        {
          "data": {
            "text/plain": [
              "(11333, 15)"
            ]
          },
          "execution_count": 22,
          "metadata": {},
          "output_type": "execute_result"
        }
      ],
      "source": [
        "len(vocabulary), len(labels)"
      ]
    },
    {
      "cell_type": "markdown",
      "metadata": {
        "id": "kt-3XseAyvIx"
      },
      "source": [
        "#### индексация:"
      ]
    },
    {
      "cell_type": "code",
      "execution_count": null,
      "metadata": {
        "id": "iTgxoawnyvIy"
      },
      "outputs": [],
      "source": [
        "from dlnlputils.sentiment_utils import Converter, generate_markup"
      ]
    },
    {
      "cell_type": "code",
      "execution_count": null,
      "metadata": {
        "id": "HTg0hSDUyvIz"
      },
      "outputs": [],
      "source": [
        "converter = Converter(vocabulary,labels)"
      ]
    },
    {
      "cell_type": "code",
      "execution_count": null,
      "metadata": {
        "id": "ibbiLvlWyvIz",
        "outputId": "dc13a856-b296-466b-f045-da24c7601729"
      },
      "outputs": [
        {
          "data": {
            "text/html": [
              "<div class=\"tex2jax_ignore\" style=\"white-space: pre-wrap\"><span style=\"padding: 2px; border-radius: 4px; border: 1px solid #d7ccc8; background: #efebe9\">За первых три года не было<span style=\"vertical-align: middle; margin-left: 2px; font-size: 0.7em; color: #a1887f;\">Other</span></span> <span style=\"padding: 2px; border-radius: 4px; border: 1px solid #c8e6c9; background: #e8f5e9\">ни одной поломки<span style=\"vertical-align: middle; margin-left: 2px; font-size: 0.7em; color: #66bb6a;\">Reliability</span></span> <span style=\"padding: 2px; border-radius: 4px; border: 1px solid #d7ccc8; background: #efebe9\">, потом стали проявляться мелкие<span style=\"vertical-align: middle; margin-left: 2px; font-size: 0.7em; color: #a1887f;\">Other</span></span> <span style=\"padding: 2px; border-radius: 4px; border: 1px solid #c8e6c9; background: #e8f5e9\">неисправности<span style=\"vertical-align: middle; margin-left: 2px; font-size: 0.7em; color: #66bb6a;\">Reliability</span></span> <span style=\"padding: 2px; border-radius: 4px; border: 1px solid #d7ccc8; background: #efebe9\">:<span style=\"vertical-align: middle; margin-left: 2px; font-size: 0.7em; color: #a1887f;\">Other</span></span> <span style=\"padding: 2px; border-radius: 4px; border: 1px solid #c8e6c9; background: #e8f5e9\">подшипник на полуоси<span style=\"vertical-align: middle; margin-left: 2px; font-size: 0.7em; color: #66bb6a;\">Reliability</span></span> <span style=\"padding: 2px; border-radius: 4px; border: 1px solid #d7ccc8; background: #efebe9\">,<span style=\"vertical-align: middle; margin-left: 2px; font-size: 0.7em; color: #a1887f;\">Other</span></span> <span style=\"padding: 2px; border-radius: 4px; border: 1px solid #c8e6c9; background: #e8f5e9\">лампочки дальнего ближнего света<span style=\"vertical-align: middle; margin-left: 2px; font-size: 0.7em; color: #66bb6a;\">Reliability</span></span> <span style=\"padding: 2px; border-radius: 4px; border: 1px solid #d7ccc8; background: #efebe9\">,<span style=\"vertical-align: middle; margin-left: 2px; font-size: 0.7em; color: #a1887f;\">Other</span></span> <span style=\"padding: 2px; border-radius: 4px; border: 1px solid #c8e6c9; background: #e8f5e9\">крестовины<span style=\"vertical-align: middle; margin-left: 2px; font-size: 0.7em; color: #66bb6a;\">Reliability</span></span> <span style=\"padding: 2px; border-radius: 4px; border: 1px solid #d7ccc8; background: #efebe9\">,<span style=\"vertical-align: middle; margin-left: 2px; font-size: 0.7em; color: #a1887f;\">Other</span></span> <span style=\"padding: 2px; border-radius: 4px; border: 1px solid #c8e6c9; background: #e8f5e9\">аккумулятор<span style=\"vertical-align: middle; margin-left: 2px; font-size: 0.7em; color: #66bb6a;\">Reliability</span></span> <span style=\"padding: 2px; border-radius: 4px; border: 1px solid #d7ccc8; background: #efebe9\">,<span style=\"vertical-align: middle; margin-left: 2px; font-size: 0.7em; color: #a1887f;\">Other</span></span> <span style=\"padding: 2px; border-radius: 4px; border: 1px solid #c8e6c9; background: #e8f5e9\">свечи<span style=\"vertical-align: middle; margin-left: 2px; font-size: 0.7em; color: #66bb6a;\">Reliability</span></span></div>"
            ],
            "text/plain": [
              "BoxMarkup('За первых три года не было ни одной поломки , потом стали проявляться мелкие неисправности : подшипник на полуоси , лампочки дальнего ближнего света , крестовины , аккумулятор , свечи',\n",
              "          [Span(0, 26, 'Other'),\n",
              "           Span(27, 43, 'Reliability'),\n",
              "           Span(44, 76, 'Other'),\n",
              "           Span(77, 90, 'Reliability'),\n",
              "           Span(91, 92, 'Other'),\n",
              "           Span(93, 113, 'Reliability'),\n",
              "           Span(114, 115, 'Other'),\n",
              "           Span(116, 148, 'Reliability'),\n",
              "           Span(149, 150, 'Other'),\n",
              "           Span(151, 161, 'Reliability'),\n",
              "           Span(162, 163, 'Other'),\n",
              "           Span(164, 175, 'Reliability'),\n",
              "           Span(176, 177, 'Other'),\n",
              "           Span(178, 183, 'Reliability')])"
            ]
          },
          "metadata": {},
          "output_type": "display_data"
        },
        {
          "name": "stdout",
          "output_type": "stream",
          "text": [
            "tensor([ 1395,  7307, 10381,  3591,  6303,  2877,  6524,  6847,  7826,   289,\n",
            "         8063,  9912,  8648,  5768,  6381,   823,  7653,  6064,  7835,   289,\n",
            "         5435,  3739,  2737,  9234,   289,  5331,   289,  2540,   289,  9247])\n",
            "tensor([14, 14, 14, 14, 14, 14,  4, 11, 11, 14, 14, 14, 14, 14,  4, 14,  4, 11,\n",
            "        11, 14,  4, 11, 11, 11, 14,  4, 14,  4, 14,  4])\n",
            "\n"
          ]
        },
        {
          "data": {
            "text/html": [
              "<div class=\"tex2jax_ignore\" style=\"white-space: pre-wrap\"><span style=\"padding: 2px; border-radius: 4px; border: 1px solid #d7ccc8; background: #efebe9\">За первых три года не было<span style=\"vertical-align: middle; margin-left: 2px; font-size: 0.7em; color: #a1887f;\">Other</span></span> <span style=\"padding: 2px; border-radius: 4px; border: 1px solid #c8e6c9; background: #e8f5e9\">ни одной поломки<span style=\"vertical-align: middle; margin-left: 2px; font-size: 0.7em; color: #66bb6a;\">Reliability</span></span> <span style=\"padding: 2px; border-radius: 4px; border: 1px solid #d7ccc8; background: #efebe9\">, потом стали проявляться мелкие<span style=\"vertical-align: middle; margin-left: 2px; font-size: 0.7em; color: #a1887f;\">Other</span></span> <span style=\"padding: 2px; border-radius: 4px; border: 1px solid #c8e6c9; background: #e8f5e9\">неисправности<span style=\"vertical-align: middle; margin-left: 2px; font-size: 0.7em; color: #66bb6a;\">Reliability</span></span> <span style=\"padding: 2px; border-radius: 4px; border: 1px solid #d7ccc8; background: #efebe9\">:<span style=\"vertical-align: middle; margin-left: 2px; font-size: 0.7em; color: #a1887f;\">Other</span></span> <span style=\"padding: 2px; border-radius: 4px; border: 1px solid #c8e6c9; background: #e8f5e9\">подшипник на полуоси<span style=\"vertical-align: middle; margin-left: 2px; font-size: 0.7em; color: #66bb6a;\">Reliability</span></span> <span style=\"padding: 2px; border-radius: 4px; border: 1px solid #d7ccc8; background: #efebe9\">,<span style=\"vertical-align: middle; margin-left: 2px; font-size: 0.7em; color: #a1887f;\">Other</span></span> <span style=\"padding: 2px; border-radius: 4px; border: 1px solid #c8e6c9; background: #e8f5e9\">лампочки дальнего ближнего света<span style=\"vertical-align: middle; margin-left: 2px; font-size: 0.7em; color: #66bb6a;\">Reliability</span></span> <span style=\"padding: 2px; border-radius: 4px; border: 1px solid #d7ccc8; background: #efebe9\">,<span style=\"vertical-align: middle; margin-left: 2px; font-size: 0.7em; color: #a1887f;\">Other</span></span> <span style=\"padding: 2px; border-radius: 4px; border: 1px solid #c8e6c9; background: #e8f5e9\">крестовины<span style=\"vertical-align: middle; margin-left: 2px; font-size: 0.7em; color: #66bb6a;\">Reliability</span></span> <span style=\"padding: 2px; border-radius: 4px; border: 1px solid #d7ccc8; background: #efebe9\">,<span style=\"vertical-align: middle; margin-left: 2px; font-size: 0.7em; color: #a1887f;\">Other</span></span> <span style=\"padding: 2px; border-radius: 4px; border: 1px solid #c8e6c9; background: #e8f5e9\">аккумулятор<span style=\"vertical-align: middle; margin-left: 2px; font-size: 0.7em; color: #66bb6a;\">Reliability</span></span> <span style=\"padding: 2px; border-radius: 4px; border: 1px solid #d7ccc8; background: #efebe9\">,<span style=\"vertical-align: middle; margin-left: 2px; font-size: 0.7em; color: #a1887f;\">Other</span></span> <span style=\"padding: 2px; border-radius: 4px; border: 1px solid #c8e6c9; background: #e8f5e9\">свечи<span style=\"vertical-align: middle; margin-left: 2px; font-size: 0.7em; color: #66bb6a;\">Reliability</span></span></div>"
            ],
            "text/plain": [
              "BoxMarkup('За первых три года не было ни одной поломки , потом стали проявляться мелкие неисправности : подшипник на полуоси , лампочки дальнего ближнего света , крестовины , аккумулятор , свечи',\n",
              "          [Span(0, 26, 'Other'),\n",
              "           Span(27, 43, 'Reliability'),\n",
              "           Span(44, 76, 'Other'),\n",
              "           Span(77, 90, 'Reliability'),\n",
              "           Span(91, 92, 'Other'),\n",
              "           Span(93, 113, 'Reliability'),\n",
              "           Span(114, 115, 'Other'),\n",
              "           Span(116, 148, 'Reliability'),\n",
              "           Span(149, 150, 'Other'),\n",
              "           Span(151, 161, 'Reliability'),\n",
              "           Span(162, 163, 'Other'),\n",
              "           Span(164, 175, 'Reliability'),\n",
              "           Span(176, 177, 'Other'),\n",
              "           Span(178, 183, 'Reliability')])"
            ]
          },
          "metadata": {},
          "output_type": "display_data"
        }
      ],
      "source": [
        "test_recipe, test_tags = training_data[1211]\n",
        "\n",
        "text, spans = generate_markup(test_recipe, test_tags) \n",
        "\n",
        "show_markup(text, spans)\n",
        "\n",
        "encoded_recipe = converter.words_to_index(test_recipe)\n",
        "encoded_tags   = converter.tags_to_index(test_tags)\n",
        "\n",
        "print(encoded_recipe)\n",
        "print(encoded_tags)\n",
        "print()\n",
        "\n",
        "decoded_recipe = converter.indices_to_words(encoded_recipe)\n",
        "decoded_tags   = converter.indices_to_tags(encoded_tags)\n",
        "\n",
        "text, spans = generate_markup(decoded_recipe, decoded_tags) \n",
        "\n",
        "show_markup(text, spans)"
      ]
    },
    {
      "cell_type": "markdown",
      "metadata": {
        "id": "t-MvPvfNyvI2"
      },
      "source": [
        "### Нейросети"
      ]
    },
    {
      "cell_type": "code",
      "execution_count": null,
      "metadata": {
        "id": "xCa6gbHNyvI4"
      },
      "outputs": [],
      "source": [
        "EMBEDDING_DIM = 300\n",
        "HIDDEN_DIM    = 32\n",
        "VOCAB_SIZE    = len(converter.word_to_idx)\n",
        "TAGSET_SIZE   = len(converter.tag_to_idx)"
      ]
    },
    {
      "cell_type": "markdown",
      "metadata": {
        "id": "KD6El6bKyvI6"
      },
      "source": [
        "###  Предобученные эмбеддинги\n",
        "\n"
      ]
    },
    {
      "cell_type": "code",
      "execution_count": null,
      "metadata": {
        "id": "-J-byfHEyvI7"
      },
      "outputs": [],
      "source": [
        "# !pip3 install wget"
      ]
    },
    {
      "cell_type": "code",
      "execution_count": null,
      "metadata": {
        "scrolled": true,
        "id": "UlahChmYyvI8"
      },
      "outputs": [],
      "source": [
        "import zipfile\n",
        "import gensim\n",
        "#import wget\n",
        "\n",
        "model_url = 'http://vectors.nlpl.eu/repository/11/187.zip'\n",
        "#wget.download(model_url)\n",
        "model_file = 'datasets/' + model_url.split('/')[-1]"
      ]
    },
    {
      "cell_type": "code",
      "execution_count": null,
      "metadata": {
        "collapsed": true,
        "id": "-fAxdRXUyvI-",
        "outputId": "ed826e3d-5b98-4d15-c033-fd85e87caf71"
      },
      "outputs": [
        {
          "name": "stdout",
          "output_type": "stream",
          "text": [
            "жигулёнка 0.7488205432891846\n",
            "ишачка 0.7310285568237305\n",
            "грузовичка 0.7278668880462646\n",
            "жигулёнок 0.7127147912979126\n",
            "жигуленок 0.706432044506073\n",
            "тележка 0.6995413899421692\n",
            "мопед 0.6990943551063538\n",
            "сачка 0.6923120021820068\n",
            "катафалка 0.6904969811439514\n",
            "бричка 0.6855131387710571\n",
            "\n",
            "\n",
            "двигатели 0.9118232727050781\n",
            "гипердвигатель 0.8655393123626709\n",
            "электродвигатель 0.8446589708328247\n",
            "мотор 0.8106047511100769\n",
            "электромотор 0.8067886233329773\n",
            "авиадвигатель 0.7910490036010742\n",
            "движок 0.7793391346931458\n",
            "перводвигатель 0.7768319249153137\n",
            "двигательный 0.7394744157791138\n",
            "турбина 0.7326768636703491\n",
            "\n",
            "\n",
            "bmw 0.7961359620094299\n",
            "бмв 0.7914925813674927\n",
            "аудь 0.7911134958267212\n",
            "тойота 0.7723557353019714\n",
            "мерседес 0.7654416561126709\n",
            "mw 0.7585864067077637\n",
            "bmv 0.7522681951522827\n",
            "форд 0.7281615734100342\n",
            "тойот 0.7268385887145996\n",
            "лексус 0.7258473038673401\n",
            "\n",
            "\n"
          ]
        }
      ],
      "source": [
        "w2v_model = gensim.models.KeyedVectors.load('datasets/187/model.model')\n",
        "\n",
        "words = ['тачка', 'двигатель', 'ауди']\n",
        "\n",
        "for word in words:\n",
        "    #if word in w2v_model:\n",
        "           \n",
        "    for i in w2v_model.most_similar(positive=[word], topn=10):\n",
        "        nearest_word      = i[0]\n",
        "        cosine_similarity = i[1]\n",
        "        print(nearest_word, cosine_similarity)\n",
        "    print('\\n')\n",
        "    \n",
        "    #else: print(word + ' is not present in the model')"
      ]
    },
    {
      "cell_type": "code",
      "execution_count": null,
      "metadata": {
        "id": "fzflAsPhyvJA",
        "outputId": "461d6e01-6f89-4a04-c937-0a75aa5ac541"
      },
      "outputs": [
        {
          "data": {
            "text/plain": [
              "torch.Size([11333, 300])"
            ]
          },
          "execution_count": 31,
          "metadata": {},
          "output_type": "execute_result"
        }
      ],
      "source": [
        "numpy_embeddings = np.zeros(shape=[VOCAB_SIZE, EMBEDDING_DIM],dtype=np.float32)\n",
        "\n",
        "for word in vocabulary:\n",
        "    #if word in w2v_model:\n",
        "    vector = w2v_model.get_vector(word)\n",
        "    index  = converter.words_to_index([word])\n",
        "    numpy_embeddings[index] = vector\n",
        "        \n",
        "    #else: print(word + ' - такого слова нет в модели fasttext')\n",
        "        \n",
        "pretrained_embeddings = torch.FloatTensor(numpy_embeddings)\n",
        "pretrained_embeddings.shape"
      ]
    },
    {
      "cell_type": "markdown",
      "metadata": {
        "id": "Q6cGQtXgyvJC"
      },
      "source": [
        "### LSTM \n",
        "\n",
        "1. Использует предобученные вектора слов и не изменяет их\n",
        "2. Двунаправленная"
      ]
    },
    {
      "cell_type": "code",
      "execution_count": null,
      "metadata": {
        "id": "NDIdRGNjyvJD"
      },
      "outputs": [],
      "source": [
        "class LSTMTagger(nn.Module):\n",
        "\n",
        "    def __init__(self, embedding_dim, hidden_dim, vocab_size, tagset_size, pretrained_embeddings):\n",
        "        super(LSTMTagger, self).__init__()\n",
        "        \n",
        "        self.hidden_dim      = hidden_dim\n",
        "        self.word_embeddings = nn.Embedding.from_pretrained(pretrained_embeddings, freeze=True)\n",
        "        self.lstm            = nn.LSTM(embedding_dim, hidden_dim, bidirectional=True)\n",
        "        self.hidden2tag      = nn.Linear(2*hidden_dim, tagset_size)\n",
        "\n",
        "    def forward(self, words):\n",
        "        embeds      = self.word_embeddings(words)\n",
        "        lstm_out, _ = self.lstm(embeds.view(len(words), 1, -1))\n",
        "        tag_space   = self.hidden2tag(lstm_out.view(len(words), -1))\n",
        "        tag_scores  = F.log_softmax(tag_space, dim=1)\n",
        "        \n",
        "        return tag_scores\n",
        "    \n",
        "    def predict_tags(self, words):\n",
        "        with torch.no_grad():\n",
        "            tags_pred = model(words).numpy()\n",
        "            tags_pred = np.argmax(tags_pred, axis=1)\n",
        "            \n",
        "        return tags_pred"
      ]
    }
  ],
  "metadata": {
    "kernelspec": {
      "display_name": "Python 3",
      "language": "python",
      "name": "python3"
    },
    "language_info": {
      "codemirror_mode": {
        "name": "ipython",
        "version": 3
      },
      "file_extension": ".py",
      "mimetype": "text/x-python",
      "name": "python",
      "nbconvert_exporter": "python",
      "pygments_lexer": "ipython3",
      "version": "3.6.9"
    },
    "colab": {
      "provenance": []
    }
  },
  "nbformat": 4,
  "nbformat_minor": 0
}