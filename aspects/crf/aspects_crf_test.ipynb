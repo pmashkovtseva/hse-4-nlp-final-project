{
  "nbformat": 4,
  "nbformat_minor": 0,
  "metadata": {
    "colab": {
      "provenance": []
    },
    "kernelspec": {
      "name": "python3",
      "display_name": "Python 3"
    },
    "language_info": {
      "name": "python"
    }
  },
  "cells": [
    {
      "cell_type": "code",
      "execution_count": 3,
      "metadata": {
        "colab": {
          "base_uri": "https://localhost:8080/"
        },
        "id": "zSwbcNz5VsK7",
        "outputId": "ba73c74a-6f16-4253-d8b3-8b4701d70ee9"
      },
      "outputs": [
        {
          "output_type": "stream",
          "name": "stdout",
          "text": [
            "--2022-12-29 06:48:20--  https://raw.githubusercontent.com/named-entity/hse-nlp/master/4th_year/Project/dev_reviews.txt\n",
            "Resolving raw.githubusercontent.com (raw.githubusercontent.com)... 185.199.108.133, 185.199.109.133, 185.199.110.133, ...\n",
            "Connecting to raw.githubusercontent.com (raw.githubusercontent.com)|185.199.108.133|:443... connected.\n",
            "HTTP request sent, awaiting response... 200 OK\n",
            "Length: 110515 (108K) [text/plain]\n",
            "Saving to: ‘dev_reviews.txt’\n",
            "\n",
            "\rdev_reviews.txt       0%[                    ]       0  --.-KB/s               \rdev_reviews.txt     100%[===================>] 107.92K  --.-KB/s    in 0.005s  \n",
            "\n",
            "2022-12-29 06:48:20 (22.0 MB/s) - ‘dev_reviews.txt’ saved [110515/110515]\n",
            "\n"
          ]
        }
      ],
      "source": [
        "!wget https://raw.githubusercontent.com/named-entity/hse-nlp/master/4th_year/Project/dev_reviews.txt"
      ]
    },
    {
      "cell_type": "markdown",
      "source": [
        "## Приведем тестовые данные к нужному формату"
      ],
      "metadata": {
        "id": "6TmbRbjyXMAl"
      }
    },
    {
      "cell_type": "code",
      "source": [
        "import pandas as pd"
      ],
      "metadata": {
        "id": "0cwB923rWw5x"
      },
      "execution_count": 1,
      "outputs": []
    },
    {
      "cell_type": "code",
      "source": [
        "dev_texts = pd.read_csv('dev_reviews.txt', delimiter='\\t', names=['text_id','text'])"
      ],
      "metadata": {
        "id": "F-csn4yJWuK2"
      },
      "execution_count": 2,
      "outputs": []
    },
    {
      "cell_type": "code",
      "source": [
        "dev_texts.head()"
      ],
      "metadata": {
        "colab": {
          "base_uri": "https://localhost:8080/",
          "height": 206
        },
        "id": "5tJWnhr3WzlY",
        "outputId": "3ee392a8-43bd-4e76-dfe7-a0dd386f414e"
      },
      "execution_count": 3,
      "outputs": [
        {
          "output_type": "execute_result",
          "data": {
            "text/plain": [
              "   text_id                                               text\n",
              "0    13823  Зашли в\"аппетит\" случайно.Не смотря на то,что ...\n",
              "1     1427  Здравствуйте!Посетили ваше заведение вчера пер...\n",
              "2    16714  Были в пятницу (19.03.10), заказывали столик д...\n",
              "3      797  Были в ресторане 2 раза. Один раз днем, все по...\n",
              "4    34710  Удивляюсь отзывам про хорошее обслуживание. Бы..."
            ],
            "text/html": [
              "\n",
              "  <div id=\"df-44937596-f6a0-4745-9aff-ecaa94075309\">\n",
              "    <div class=\"colab-df-container\">\n",
              "      <div>\n",
              "<style scoped>\n",
              "    .dataframe tbody tr th:only-of-type {\n",
              "        vertical-align: middle;\n",
              "    }\n",
              "\n",
              "    .dataframe tbody tr th {\n",
              "        vertical-align: top;\n",
              "    }\n",
              "\n",
              "    .dataframe thead th {\n",
              "        text-align: right;\n",
              "    }\n",
              "</style>\n",
              "<table border=\"1\" class=\"dataframe\">\n",
              "  <thead>\n",
              "    <tr style=\"text-align: right;\">\n",
              "      <th></th>\n",
              "      <th>text_id</th>\n",
              "      <th>text</th>\n",
              "    </tr>\n",
              "  </thead>\n",
              "  <tbody>\n",
              "    <tr>\n",
              "      <th>0</th>\n",
              "      <td>13823</td>\n",
              "      <td>Зашли в\"аппетит\" случайно.Не смотря на то,что ...</td>\n",
              "    </tr>\n",
              "    <tr>\n",
              "      <th>1</th>\n",
              "      <td>1427</td>\n",
              "      <td>Здравствуйте!Посетили ваше заведение вчера пер...</td>\n",
              "    </tr>\n",
              "    <tr>\n",
              "      <th>2</th>\n",
              "      <td>16714</td>\n",
              "      <td>Были в пятницу (19.03.10), заказывали столик д...</td>\n",
              "    </tr>\n",
              "    <tr>\n",
              "      <th>3</th>\n",
              "      <td>797</td>\n",
              "      <td>Были в ресторане 2 раза. Один раз днем, все по...</td>\n",
              "    </tr>\n",
              "    <tr>\n",
              "      <th>4</th>\n",
              "      <td>34710</td>\n",
              "      <td>Удивляюсь отзывам про хорошее обслуживание. Бы...</td>\n",
              "    </tr>\n",
              "  </tbody>\n",
              "</table>\n",
              "</div>\n",
              "      <button class=\"colab-df-convert\" onclick=\"convertToInteractive('df-44937596-f6a0-4745-9aff-ecaa94075309')\"\n",
              "              title=\"Convert this dataframe to an interactive table.\"\n",
              "              style=\"display:none;\">\n",
              "        \n",
              "  <svg xmlns=\"http://www.w3.org/2000/svg\" height=\"24px\"viewBox=\"0 0 24 24\"\n",
              "       width=\"24px\">\n",
              "    <path d=\"M0 0h24v24H0V0z\" fill=\"none\"/>\n",
              "    <path d=\"M18.56 5.44l.94 2.06.94-2.06 2.06-.94-2.06-.94-.94-2.06-.94 2.06-2.06.94zm-11 1L8.5 8.5l.94-2.06 2.06-.94-2.06-.94L8.5 2.5l-.94 2.06-2.06.94zm10 10l.94 2.06.94-2.06 2.06-.94-2.06-.94-.94-2.06-.94 2.06-2.06.94z\"/><path d=\"M17.41 7.96l-1.37-1.37c-.4-.4-.92-.59-1.43-.59-.52 0-1.04.2-1.43.59L10.3 9.45l-7.72 7.72c-.78.78-.78 2.05 0 2.83L4 21.41c.39.39.9.59 1.41.59.51 0 1.02-.2 1.41-.59l7.78-7.78 2.81-2.81c.8-.78.8-2.07 0-2.86zM5.41 20L4 18.59l7.72-7.72 1.47 1.35L5.41 20z\"/>\n",
              "  </svg>\n",
              "      </button>\n",
              "      \n",
              "  <style>\n",
              "    .colab-df-container {\n",
              "      display:flex;\n",
              "      flex-wrap:wrap;\n",
              "      gap: 12px;\n",
              "    }\n",
              "\n",
              "    .colab-df-convert {\n",
              "      background-color: #E8F0FE;\n",
              "      border: none;\n",
              "      border-radius: 50%;\n",
              "      cursor: pointer;\n",
              "      display: none;\n",
              "      fill: #1967D2;\n",
              "      height: 32px;\n",
              "      padding: 0 0 0 0;\n",
              "      width: 32px;\n",
              "    }\n",
              "\n",
              "    .colab-df-convert:hover {\n",
              "      background-color: #E2EBFA;\n",
              "      box-shadow: 0px 1px 2px rgba(60, 64, 67, 0.3), 0px 1px 3px 1px rgba(60, 64, 67, 0.15);\n",
              "      fill: #174EA6;\n",
              "    }\n",
              "\n",
              "    [theme=dark] .colab-df-convert {\n",
              "      background-color: #3B4455;\n",
              "      fill: #D2E3FC;\n",
              "    }\n",
              "\n",
              "    [theme=dark] .colab-df-convert:hover {\n",
              "      background-color: #434B5C;\n",
              "      box-shadow: 0px 1px 3px 1px rgba(0, 0, 0, 0.15);\n",
              "      filter: drop-shadow(0px 1px 2px rgba(0, 0, 0, 0.3));\n",
              "      fill: #FFFFFF;\n",
              "    }\n",
              "  </style>\n",
              "\n",
              "      <script>\n",
              "        const buttonEl =\n",
              "          document.querySelector('#df-44937596-f6a0-4745-9aff-ecaa94075309 button.colab-df-convert');\n",
              "        buttonEl.style.display =\n",
              "          google.colab.kernel.accessAllowed ? 'block' : 'none';\n",
              "\n",
              "        async function convertToInteractive(key) {\n",
              "          const element = document.querySelector('#df-44937596-f6a0-4745-9aff-ecaa94075309');\n",
              "          const dataTable =\n",
              "            await google.colab.kernel.invokeFunction('convertToInteractive',\n",
              "                                                     [key], {});\n",
              "          if (!dataTable) return;\n",
              "\n",
              "          const docLinkHtml = 'Like what you see? Visit the ' +\n",
              "            '<a target=\"_blank\" href=https://colab.research.google.com/notebooks/data_table.ipynb>data table notebook</a>'\n",
              "            + ' to learn more about interactive tables.';\n",
              "          element.innerHTML = '';\n",
              "          dataTable['output_type'] = 'display_data';\n",
              "          await google.colab.output.renderOutput(dataTable, element);\n",
              "          const docLink = document.createElement('div');\n",
              "          docLink.innerHTML = docLinkHtml;\n",
              "          element.appendChild(docLink);\n",
              "        }\n",
              "      </script>\n",
              "    </div>\n",
              "  </div>\n",
              "  "
            ]
          },
          "metadata": {},
          "execution_count": 3
        }
      ]
    },
    {
      "cell_type": "code",
      "source": [
        "import nltk\n",
        "nltk.download('punkt')"
      ],
      "metadata": {
        "colab": {
          "base_uri": "https://localhost:8080/"
        },
        "id": "DEIw1MuWXJ2y",
        "outputId": "883c8a93-a1e1-4021-ec11-7db1a7791ef0"
      },
      "execution_count": 4,
      "outputs": [
        {
          "output_type": "stream",
          "name": "stderr",
          "text": [
            "[nltk_data] Downloading package punkt to /root/nltk_data...\n",
            "[nltk_data]   Package punkt is already up-to-date!\n"
          ]
        },
        {
          "output_type": "execute_result",
          "data": {
            "text/plain": [
              "True"
            ]
          },
          "metadata": {},
          "execution_count": 4
        }
      ]
    },
    {
      "cell_type": "code",
      "source": [
        "from nltk.tokenize import sent_tokenize, word_tokenize"
      ],
      "metadata": {
        "id": "vX4q7HB3XRaS"
      },
      "execution_count": 5,
      "outputs": []
    },
    {
      "cell_type": "code",
      "source": [
        "sentences_info = []\n",
        "for row in dev_texts.itertuples():\n",
        "    for sentence in sent_tokenize(row.text):\n",
        "      s = []\n",
        "      for token in word_tokenize(sentence):\n",
        "        if token == \"``\" or token == \"''\":\n",
        "          token = '\"'\n",
        "        s.append([row.text_id, token, row.text.index(token), row.text.index(token) + len(token), None])\n",
        "      sentences_info.append(s)"
      ],
      "metadata": {
        "id": "xvTUm5LjXTM0"
      },
      "execution_count": 75,
      "outputs": []
    },
    {
      "cell_type": "code",
      "source": [
        "!pip install pymorphy2"
      ],
      "metadata": {
        "colab": {
          "base_uri": "https://localhost:8080/"
        },
        "id": "UAscd4uuZ4qM",
        "outputId": "7daf4864-aa65-4e93-b966-acfe4123677b"
      },
      "execution_count": 7,
      "outputs": [
        {
          "output_type": "stream",
          "name": "stdout",
          "text": [
            "Looking in indexes: https://pypi.org/simple, https://us-python.pkg.dev/colab-wheels/public/simple/\n",
            "Requirement already satisfied: pymorphy2 in /usr/local/lib/python3.8/dist-packages (0.9.1)\n",
            "Requirement already satisfied: pymorphy2-dicts-ru<3.0,>=2.4 in /usr/local/lib/python3.8/dist-packages (from pymorphy2) (2.4.417127.4579844)\n",
            "Requirement already satisfied: docopt>=0.6 in /usr/local/lib/python3.8/dist-packages (from pymorphy2) (0.6.2)\n",
            "Requirement already satisfied: dawg-python>=0.7.1 in /usr/local/lib/python3.8/dist-packages (from pymorphy2) (0.7.2)\n"
          ]
        }
      ]
    },
    {
      "cell_type": "code",
      "source": [
        "import pymorphy2\n",
        "morph = pymorphy2.MorphAnalyzer()"
      ],
      "metadata": {
        "id": "qU59otnOaKOY"
      },
      "execution_count": 8,
      "outputs": []
    },
    {
      "cell_type": "code",
      "source": [
        "def word2features(sentence, index):\n",
        "    word = sentence[index][0]\n",
        "    features = {'word.lower()': word.lower(), 'word.isupper()': word.isupper(), 'pos': str(morph.parse(word)[0].tag.POS), 'BOS': False}\n",
        "    if index > 0:\n",
        "      pass\n",
        "    else:\n",
        "        features['BOS'] = True\n",
        "    if index < len(sentence) - 1:\n",
        "      pass\n",
        "    else:\n",
        "        features['EOS'] = True\n",
        "    return features\n",
        "\n",
        "def sent2features(sentence):\n",
        "    return [word2features(sentence, index) for index in range(len(sentence))]\n",
        "\n",
        "def sent2labels(sentence):\n",
        "    return [label for label, token in sentence]"
      ],
      "metadata": {
        "id": "IyS-yhTFZUTv"
      },
      "execution_count": 9,
      "outputs": []
    },
    {
      "cell_type": "code",
      "source": [
        "import copy"
      ],
      "metadata": {
        "id": "tRZZ2M3du1N3"
      },
      "execution_count": 41,
      "outputs": []
    },
    {
      "cell_type": "code",
      "source": [
        "dev_copy = copy.deepcopy(sentences_info)"
      ],
      "metadata": {
        "id": "seWKBT9Ku2Oj"
      },
      "execution_count": 42,
      "outputs": []
    },
    {
      "cell_type": "code",
      "source": [
        "# чистим данные от пока не нужных нам id текста, начала и конца\n",
        "for i in range(len(dev_copy)):\n",
        "  for k in range(len(dev_copy[i])):\n",
        "    dev_copy[i][k].pop(0)\n",
        "    dev_copy[i][k].pop(1)\n",
        "    dev_copy[i][k].pop(1)\n",
        "    dev_copy[i][k].pop(1)"
      ],
      "metadata": {
        "id": "9uDF6wTNvA31"
      },
      "execution_count": 46,
      "outputs": []
    },
    {
      "cell_type": "code",
      "source": [
        "dev = [sent2features(s) for s in dev_copy]"
      ],
      "metadata": {
        "id": "wNnu2N0kZvl6"
      },
      "execution_count": 10,
      "outputs": []
    },
    {
      "cell_type": "markdown",
      "source": [
        "## Загрузим модель и сделаем предсказания"
      ],
      "metadata": {
        "id": "qWvDHhZFY1Xw"
      }
    },
    {
      "cell_type": "code",
      "source": [
        "!pip install -U 'scikit-learn<0.24'"
      ],
      "metadata": {
        "colab": {
          "base_uri": "https://localhost:8080/"
        },
        "id": "kWhelFliY3PI",
        "outputId": "a9951589-486c-457b-f49e-c66f96c95a49"
      },
      "execution_count": 13,
      "outputs": [
        {
          "output_type": "stream",
          "name": "stdout",
          "text": [
            "Looking in indexes: https://pypi.org/simple, https://us-python.pkg.dev/colab-wheels/public/simple/\n",
            "Requirement already satisfied: scikit-learn<0.24 in /usr/local/lib/python3.8/dist-packages (0.23.2)\n",
            "Requirement already satisfied: joblib>=0.11 in /usr/local/lib/python3.8/dist-packages (from scikit-learn<0.24) (1.2.0)\n",
            "Requirement already satisfied: threadpoolctl>=2.0.0 in /usr/local/lib/python3.8/dist-packages (from scikit-learn<0.24) (3.1.0)\n",
            "Requirement already satisfied: numpy>=1.13.3 in /usr/local/lib/python3.8/dist-packages (from scikit-learn<0.24) (1.21.6)\n",
            "Requirement already satisfied: scipy>=0.19.1 in /usr/local/lib/python3.8/dist-packages (from scikit-learn<0.24) (1.7.3)\n"
          ]
        }
      ]
    },
    {
      "cell_type": "code",
      "source": [
        "!pip install sklearn_crfsuite"
      ],
      "metadata": {
        "colab": {
          "base_uri": "https://localhost:8080/"
        },
        "id": "gCRP2qG7ZKSd",
        "outputId": "f3ca2ce3-8d66-489c-f7b7-42ac38933ce3"
      },
      "execution_count": 14,
      "outputs": [
        {
          "output_type": "stream",
          "name": "stdout",
          "text": [
            "Looking in indexes: https://pypi.org/simple, https://us-python.pkg.dev/colab-wheels/public/simple/\n",
            "Collecting sklearn_crfsuite\n",
            "  Downloading sklearn_crfsuite-0.3.6-py2.py3-none-any.whl (12 kB)\n",
            "Requirement already satisfied: six in /usr/local/lib/python3.8/dist-packages (from sklearn_crfsuite) (1.15.0)\n",
            "Requirement already satisfied: tqdm>=2.0 in /usr/local/lib/python3.8/dist-packages (from sklearn_crfsuite) (4.64.1)\n",
            "Collecting python-crfsuite>=0.8.3\n",
            "  Downloading python_crfsuite-0.9.8-cp38-cp38-manylinux_2_17_x86_64.manylinux2014_x86_64.whl (1.0 MB)\n",
            "\u001b[K     |████████████████████████████████| 1.0 MB 25.9 MB/s \n",
            "\u001b[?25hRequirement already satisfied: tabulate in /usr/local/lib/python3.8/dist-packages (from sklearn_crfsuite) (0.8.10)\n",
            "Installing collected packages: python-crfsuite, sklearn-crfsuite\n",
            "Successfully installed python-crfsuite-0.9.8 sklearn-crfsuite-0.3.6\n"
          ]
        }
      ]
    },
    {
      "cell_type": "code",
      "source": [
        "import sklearn_crfsuite"
      ],
      "metadata": {
        "id": "O64j7_UTZM6t"
      },
      "execution_count": 15,
      "outputs": []
    },
    {
      "cell_type": "code",
      "source": [
        "from google.colab import drive\n",
        "drive.mount('/content/drive')"
      ],
      "metadata": {
        "colab": {
          "base_uri": "https://localhost:8080/"
        },
        "id": "n2r2ClR8YkQG",
        "outputId": "523ad1c3-187a-4d20-a6e9-8991ac371a73"
      },
      "execution_count": 16,
      "outputs": [
        {
          "output_type": "stream",
          "name": "stdout",
          "text": [
            "Mounted at /content/drive\n"
          ]
        }
      ]
    },
    {
      "cell_type": "code",
      "source": [
        "import pickle"
      ],
      "metadata": {
        "id": "w5PpGMjlYuzp"
      },
      "execution_count": 17,
      "outputs": []
    },
    {
      "cell_type": "code",
      "source": [
        "crf = pickle.load(open('/content/drive/My Drive/crf.sav', 'rb'))"
      ],
      "metadata": {
        "id": "X_-_6hOQYrNS"
      },
      "execution_count": 18,
      "outputs": []
    },
    {
      "cell_type": "code",
      "source": [
        "y_pred = crf.predict(dev)"
      ],
      "metadata": {
        "id": "94hXVwIJXoBo"
      },
      "execution_count": 19,
      "outputs": []
    },
    {
      "cell_type": "code",
      "source": [
        "results = []\n",
        "for i in range(len(sentences_info)):\n",
        "  for k in range(len(sentences_info[i])):\n",
        "    results.append([sentences_info[i][k][0], y_pred[i][k], sentences_info[i][k][1], sentences_info[i][k][2], sentences_info[i][k][3], sentences_info[i][k][4]])"
      ],
      "metadata": {
        "id": "ulpRFABookP3"
      },
      "execution_count": 268,
      "outputs": []
    },
    {
      "cell_type": "code",
      "source": [
        "!wget https://github.com/named-entity/hse-nlp/raw/master/4th_year/Project/train_aspects.txt"
      ],
      "metadata": {
        "colab": {
          "base_uri": "https://localhost:8080/"
        },
        "id": "7nKWgfnc0UQ4",
        "outputId": "7ccfdc4f-4afd-421c-f6b0-3966971294c7"
      },
      "execution_count": 57,
      "outputs": [
        {
          "output_type": "stream",
          "name": "stdout",
          "text": [
            "--2022-12-29 07:38:20--  https://github.com/named-entity/hse-nlp/raw/master/4th_year/Project/train_aspects.txt\n",
            "Resolving github.com (github.com)... 140.82.112.3\n",
            "Connecting to github.com (github.com)|140.82.112.3|:443... connected.\n",
            "HTTP request sent, awaiting response... 302 Found\n",
            "Location: https://raw.githubusercontent.com/named-entity/hse-nlp/master/4th_year/Project/train_aspects.txt [following]\n",
            "--2022-12-29 07:38:20--  https://raw.githubusercontent.com/named-entity/hse-nlp/master/4th_year/Project/train_aspects.txt\n",
            "Resolving raw.githubusercontent.com (raw.githubusercontent.com)... 185.199.108.133, 185.199.109.133, 185.199.110.133, ...\n",
            "Connecting to raw.githubusercontent.com (raw.githubusercontent.com)|185.199.108.133|:443... connected.\n",
            "HTTP request sent, awaiting response... 200 OK\n",
            "Length: 228391 (223K) [text/plain]\n",
            "Saving to: ‘train_aspects.txt’\n",
            "\n",
            "\rtrain_aspects.txt     0%[                    ]       0  --.-KB/s               \rtrain_aspects.txt   100%[===================>] 223.04K  --.-KB/s    in 0.005s  \n",
            "\n",
            "2022-12-29 07:38:20 (44.2 MB/s) - ‘train_aspects.txt’ saved [228391/228391]\n",
            "\n"
          ]
        }
      ]
    },
    {
      "cell_type": "markdown",
      "source": [
        "## Добавляем информацию о тональности из train_aspects"
      ],
      "metadata": {
        "id": "PA4tNTkt0rK_"
      }
    },
    {
      "cell_type": "code",
      "source": [
        "train_aspects = pd.read_csv('train_aspects.txt', delimiter='\\t', names=['text_id', 'category', 'mention', 'start', 'end', 'sentiment'])"
      ],
      "metadata": {
        "id": "RryHe2qv0heh"
      },
      "execution_count": 58,
      "outputs": []
    },
    {
      "cell_type": "code",
      "source": [
        "aspects_info = []\n",
        "for row in train_aspects.itertuples():\n",
        "    if len(row.mention.split()) == 1:\n",
        "         aspects_info.append({'text_id': row.text_id, 'mention': row.mention, 'sentiment': row.sentiment})\n",
        "    else:\n",
        "        aspects_info.append({'text_id': row.text_id, 'mention': row.mention.split()[0], 'sentiment': row.sentiment})\n",
        "        for i in range(1, len(row.mention.split())):\n",
        "            aspects_info.append({'text_id': row.text_id, 'mention': row.mention.split()[i], 'sentiment': row.sentiment})"
      ],
      "metadata": {
        "id": "6iiJTkHt0m0k"
      },
      "execution_count": 85,
      "outputs": []
    },
    {
      "cell_type": "code",
      "source": [
        "aspects_info[0]"
      ],
      "metadata": {
        "colab": {
          "base_uri": "https://localhost:8080/"
        },
        "id": "hB_pjNjJ1Hcq",
        "outputId": "8d497cd1-d41e-4503-b48d-47b6758409c3"
      },
      "execution_count": 86,
      "outputs": [
        {
          "output_type": "execute_result",
          "data": {
            "text/plain": [
              "{'text_id': 3976, 'mention': 'ресторане', 'sentiment': 'neutral'}"
            ]
          },
          "metadata": {},
          "execution_count": 86
        }
      ]
    },
    {
      "cell_type": "code",
      "source": [
        "for result in results:\n",
        "    for aspect in aspects_info:\n",
        "        if aspect['text_id'] == result[0] and aspect['mention'] == result[2]:\n",
        "            result[5] = aspect['sentiment']"
      ],
      "metadata": {
        "id": "RpwNOgbh0xo_"
      },
      "execution_count": 269,
      "outputs": []
    },
    {
      "cell_type": "markdown",
      "source": [
        "## Конкатенируем n-граммы"
      ],
      "metadata": {
        "id": "j1RKyJBW-JVN"
      }
    },
    {
      "cell_type": "code",
      "source": [
        "results_labels_without_O = []\n",
        "for i in range(len(results)):\n",
        "  if results[i][1] != 'O':\n",
        "    results_labels_without_O.append(results[i])"
      ],
      "metadata": {
        "id": "Q9ZfWRa32bmF"
      },
      "execution_count": 308,
      "outputs": []
    },
    {
      "cell_type": "code",
      "source": [
        "len(results_labels_without_O)"
      ],
      "metadata": {
        "colab": {
          "base_uri": "https://localhost:8080/"
        },
        "id": "4wZ6-FDN4OqL",
        "outputId": "1c389e00-5af1-41a4-dd00-0877aba76ba1"
      },
      "execution_count": 230,
      "outputs": [
        {
          "output_type": "execute_result",
          "data": {
            "text/plain": [
              "1486"
            ]
          },
          "metadata": {},
          "execution_count": 230
        }
      ]
    },
    {
      "cell_type": "code",
      "source": [
        "results_labels_concatenated = []"
      ],
      "metadata": {
        "id": "yMjig38P4V09"
      },
      "execution_count": 271,
      "outputs": []
    },
    {
      "cell_type": "code",
      "source": [
        "results_labels_concatenated.append(results_labels_without_O[3])\n",
        "results_labels_concatenated.append(results_labels_without_O[4])\n",
        "results_labels_concatenated.append(results_labels_without_O[5])"
      ],
      "metadata": {
        "id": "yRBJBKrH4glF"
      },
      "execution_count": 272,
      "outputs": []
    },
    {
      "cell_type": "code",
      "source": [
        "results_labels_concatenated"
      ],
      "metadata": {
        "colab": {
          "base_uri": "https://localhost:8080/"
        },
        "id": "058qfsAx5vGs",
        "outputId": "e1beb268-8dde-4aed-f1e3-73dc95593b4f"
      },
      "execution_count": 273,
      "outputs": [
        {
          "output_type": "execute_result",
          "data": {
            "text/plain": [
              "[[13823, 'B-Service', 'проводила', 188, 197, 'neutral'],\n",
              " [13823, 'I-Service', 'к', 69, 70, 'neutral'],\n",
              " [13823, 'I-Service', 'столу', 200, 205, 'neutral']]"
            ]
          },
          "metadata": {},
          "execution_count": 273
        }
      ]
    },
    {
      "cell_type": "code",
      "source": [
        "results_labels_concatenated = []\n",
        "for i in range(len(results_labels_without_O)):\n",
        "  try:\n",
        "    if results_labels_without_O[i][1].startswith('B-') and results_labels_without_O[i + 1][1].startswith('B-'):\n",
        "      results_labels_concatenated.append([results_labels_without_O[i][0], results_labels_without_O[i][1].split('-')[1], results_labels_without_O[i][2], results_labels_without_O[i][3], results_labels_without_O[i][4], results_labels_without_O[i][5]])\n",
        "    else:\n",
        "      n_gram = []\n",
        "      n_gram.append(results_labels_without_O[i][2])\n",
        "      k = i\n",
        "      while results_labels_without_O[k + 1][1].startswith('I-'):\n",
        "        n_gram.append(results_labels_without_O[k + 1][2])\n",
        "        k += 1\n",
        "      results_labels_concatenated.append([results_labels_without_O[i][0], results_labels_without_O[i][1].split('-')[1], ' '.join(n_gram), results_labels_without_O[i][3], results_labels_without_O[k + 1][4], results_labels_concatenated[i][5]])\n",
        "  except(IndexError):\n",
        "    pass"
      ],
      "metadata": {
        "id": "s0OmeVwQ5wEi"
      },
      "execution_count": 315,
      "outputs": []
    },
    {
      "cell_type": "code",
      "source": [
        "import csv"
      ],
      "metadata": {
        "id": "L4vy8VfRFJhY"
      },
      "execution_count": 305,
      "outputs": []
    },
    {
      "cell_type": "code",
      "source": [
        "with open('aspects_сrf.tsv', 'w') as output:\n",
        "  tsv_writer = csv.writer(output)\n",
        "  for i in range(len(results_labels_concatenated)):\n",
        "    row = '\\t'.join(str(v) for v in results_labels_concatenated[i])\n",
        "    tsv_writer.writerow([row])"
      ],
      "metadata": {
        "id": "kICGswgo7aBA"
      },
      "execution_count": 318,
      "outputs": []
    },
    {
      "cell_type": "markdown",
      "source": [
        "## Оценка качества"
      ],
      "metadata": {
        "id": "zUjHIZh9JQfR"
      }
    },
    {
      "cell_type": "code",
      "source": [
        "gold_test_path = \"dev_aspects.txt\"\n",
        "pred_test_path = \"/content/aspects_сrf.txt\""
      ],
      "metadata": {
        "id": "mE6Io46AJR6m"
      },
      "execution_count": 323,
      "outputs": []
    },
    {
      "cell_type": "code",
      "source": [
        "from collections import defaultdict"
      ],
      "metadata": {
        "id": "8tsHA8WHJtcP"
      },
      "execution_count": 320,
      "outputs": []
    },
    {
      "cell_type": "code",
      "source": [
        "gold_aspect_cats = {}\n",
        "with open(gold_test_path) as fg:\n",
        "    for line in fg:\n",
        "        line = line.rstrip('\\r\\n').split('\\t')\n",
        "        if line[0] not in gold_aspect_cats:\n",
        "            gold_aspect_cats[line[0]] = {\"starts\":[], \"ends\":[], \"cats\":[], \"sents\":[]}\n",
        "        gold_aspect_cats[line[0]][\"starts\"].append(int(line[3]))\n",
        "        gold_aspect_cats[line[0]][\"ends\"].append(int(line[4]))\n",
        "        gold_aspect_cats[line[0]][\"cats\"].append(line[1])\n",
        "        gold_aspect_cats[line[0]][\"sents\"].append(line[5])"
      ],
      "metadata": {
        "id": "smC_oDsaJuuT"
      },
      "execution_count": 321,
      "outputs": []
    },
    {
      "cell_type": "code",
      "source": [
        "full_match, partial_match, full_cat_match, partial_cat_match = 0, 0, 0, 0\n",
        "total = 0\n",
        "fully_matched_pairs = []\n",
        "partially_matched_pairs = []\n",
        "with open(pred_test_path) as fp:\n",
        "    for line in fp:    \n",
        "        total += 1\n",
        "        line = line.rstrip('\\r\\n').split('\\t')\n",
        "        start, end = int(line[3]), int(line[4])\n",
        "        category = line[1]\n",
        "        doc_gold_aspect_cats = gold_aspect_cats[line[0]]\n",
        "        if start in doc_gold_aspect_cats[\"starts\"]:\n",
        "            i = doc_gold_aspect_cats[\"starts\"].index(start)\n",
        "            if doc_gold_aspect_cats[\"ends\"][i] == end:\n",
        "                full_match += 1\n",
        "                if doc_gold_aspect_cats[\"cats\"][i] == category:\n",
        "                    full_cat_match += 1\n",
        "                else:\n",
        "                    partial_cat_match += 1\n",
        "                fully_matched_pairs.append(\n",
        "                    (\n",
        "                        [\n",
        "                            doc_gold_aspect_cats[\"starts\"][i], \n",
        "                            doc_gold_aspect_cats[\"ends\"][i], \n",
        "                            doc_gold_aspect_cats[\"cats\"][i],\n",
        "                            doc_gold_aspect_cats[\"sents\"][i]\n",
        "                        ],\n",
        "                        line\n",
        "                    )\n",
        "                )\n",
        "                continue\n",
        "        for s_pos in doc_gold_aspect_cats[\"starts\"]:\n",
        "            if start <= s_pos:\n",
        "                i = doc_gold_aspect_cats[\"starts\"].index(s_pos)\n",
        "                if doc_gold_aspect_cats[\"ends\"][i] == end:\n",
        "                    partial_match += 1\n",
        "                    partially_matched_pairs.append(\n",
        "                        (\n",
        "                            [\n",
        "                                doc_gold_aspect_cats[\"starts\"][i], \n",
        "                                doc_gold_aspect_cats[\"ends\"][i], \n",
        "                                doc_gold_aspect_cats[\"cats\"][i],\n",
        "                                doc_gold_aspect_cats[\"sents\"][i]\n",
        "                            ],\n",
        "                            line\n",
        "                        )\n",
        "                    )\n",
        "                    if doc_gold_aspect_cats[\"cats\"][i] == category:\n",
        "                        partial_cat_match += 1\n",
        "                    continue\n",
        "                matched = False\n",
        "                for e_pos in doc_gold_aspect_cats[\"ends\"][i:]:\n",
        "                    if s_pos <= end <= e_pos:\n",
        "                        partial_match += 1\n",
        "                        partially_matched_pairs.append(\n",
        "                            (\n",
        "                                [\n",
        "                                    doc_gold_aspect_cats[\"starts\"][i], \n",
        "                                    doc_gold_aspect_cats[\"ends\"][i], \n",
        "                                    doc_gold_aspect_cats[\"cats\"][i],\n",
        "                                    doc_gold_aspect_cats[\"sents\"][i]\n",
        "                                ],\n",
        "                                line\n",
        "                            )\n",
        "                        )\n",
        "                        if doc_gold_aspect_cats[\"cats\"][i] == category:\n",
        "                            partial_cat_match += 1\n",
        "                        matched = True\n",
        "                        break\n",
        "                if matched:\n",
        "                    break\n",
        "            if start > s_pos:\n",
        "                i = doc_gold_aspect_cats[\"starts\"].index(s_pos)\n",
        "                if start < doc_gold_aspect_cats[\"ends\"][i] <= end:\n",
        "                    partial_match += 1\n",
        "                    partially_matched_pairs.append(\n",
        "                        (\n",
        "                            [\n",
        "                                doc_gold_aspect_cats[\"starts\"][i], \n",
        "                                doc_gold_aspect_cats[\"ends\"][i], \n",
        "                                doc_gold_aspect_cats[\"cats\"][i],\n",
        "                                doc_gold_aspect_cats[\"sents\"][i]\n",
        "                            ],\n",
        "                            line\n",
        "                        )\n",
        "                    )\n",
        "                    if doc_gold_aspect_cats[\"cats\"][i] == category:\n",
        "                        partial_cat_match += 1\n",
        "                    break"
      ],
      "metadata": {
        "id": "YRBBdzEAJxQH"
      },
      "execution_count": 324,
      "outputs": []
    },
    {
      "cell_type": "code",
      "source": [
        "gold_size = sum([len(gold_aspect_cats[x][\"cats\"]) for x in gold_aspect_cats])"
      ],
      "metadata": {
        "id": "3JqDlZ4DJ6Nc"
      },
      "execution_count": 325,
      "outputs": []
    },
    {
      "cell_type": "code",
      "source": [
        "print(f\"\"\"\n",
        "Full match precision: {full_match / total}\n",
        "Full match recall: {full_match / gold_size}\n",
        "Partial match ratio in pred: {(full_match + partial_match)  / total}\n",
        "Full category accuracy: {full_cat_match / total}\n",
        "Partial category accuracy: {(full_cat_match + partial_cat_match) / total}\n",
        "\"\"\")"
      ],
      "metadata": {
        "colab": {
          "base_uri": "https://localhost:8080/"
        },
        "id": "o8lEplFuJ7Ra",
        "outputId": "5ef4d70c-550f-4277-876e-a26739f14c03"
      },
      "execution_count": 326,
      "outputs": [
        {
          "output_type": "stream",
          "name": "stdout",
          "text": [
            "\n",
            "Full match precision: 0.7921225382932167\n",
            "Full match recall: 0.6084033613445378\n",
            "Partial match ratio in pred: 0.8676148796498906\n",
            "Full category accuracy: 0.7724288840262582\n",
            "Partial category accuracy: 0.8588621444201313\n",
            "\n"
          ]
        }
      ]
    }
  ]
}